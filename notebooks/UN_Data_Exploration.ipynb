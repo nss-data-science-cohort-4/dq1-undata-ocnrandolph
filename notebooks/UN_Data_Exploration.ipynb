{
 "cells": [
  {
   "cell_type": "code",
   "execution_count": 1,
   "metadata": {},
   "outputs": [],
   "source": [
    "import pandas as pd\n",
    "import numpy as np\n",
    "import matplotlib.pyplot as plt\n",
    "import seaborn as sns\n",
    "import scipy.stats as stats\n",
    "import statsmodels.api as sm\n",
    "\n",
    "%matplotlib inline"
   ]
  },
  {
   "cell_type": "markdown",
   "metadata": {},
   "source": [
    "5. Using the pandas read_csv() function, read the GDP dataset into your notebook as a DataFrame called gdp_df.\n",
    "\n",
    "Take a look at the first 10 rows.\n",
    "\n",
    "Look at the last 5 rows. Do you see a problem?\n",
    "\n",
    "Redo the read_csv() call to correct this issue - do not modify the original csv file."
   ]
  },
  {
   "cell_type": "code",
   "execution_count": 2,
   "metadata": {},
   "outputs": [],
   "source": [
    "gdp_df = pd.read_csv(\"../data/gdp_per_capita.csv\")"
   ]
  },
  {
   "cell_type": "code",
   "execution_count": 3,
   "metadata": {},
   "outputs": [
    {
     "data": {
      "text/html": [
       "<div>\n",
       "<style scoped>\n",
       "    .dataframe tbody tr th:only-of-type {\n",
       "        vertical-align: middle;\n",
       "    }\n",
       "\n",
       "    .dataframe tbody tr th {\n",
       "        vertical-align: top;\n",
       "    }\n",
       "\n",
       "    .dataframe thead th {\n",
       "        text-align: right;\n",
       "    }\n",
       "</style>\n",
       "<table border=\"1\" class=\"dataframe\">\n",
       "  <thead>\n",
       "    <tr style=\"text-align: right;\">\n",
       "      <th></th>\n",
       "      <th>Country or Area</th>\n",
       "      <th>Year</th>\n",
       "      <th>Value</th>\n",
       "      <th>Value Footnotes</th>\n",
       "    </tr>\n",
       "  </thead>\n",
       "  <tbody>\n",
       "    <tr>\n",
       "      <th>0</th>\n",
       "      <td>Afghanistan</td>\n",
       "      <td>2018</td>\n",
       "      <td>1734.723214</td>\n",
       "      <td>NaN</td>\n",
       "    </tr>\n",
       "    <tr>\n",
       "      <th>1</th>\n",
       "      <td>Afghanistan</td>\n",
       "      <td>2017</td>\n",
       "      <td>1758.465636</td>\n",
       "      <td>NaN</td>\n",
       "    </tr>\n",
       "    <tr>\n",
       "      <th>2</th>\n",
       "      <td>Afghanistan</td>\n",
       "      <td>2016</td>\n",
       "      <td>1757.023490</td>\n",
       "      <td>NaN</td>\n",
       "    </tr>\n",
       "    <tr>\n",
       "      <th>3</th>\n",
       "      <td>Afghanistan</td>\n",
       "      <td>2015</td>\n",
       "      <td>1766.593077</td>\n",
       "      <td>NaN</td>\n",
       "    </tr>\n",
       "    <tr>\n",
       "      <th>4</th>\n",
       "      <td>Afghanistan</td>\n",
       "      <td>2014</td>\n",
       "      <td>1795.735834</td>\n",
       "      <td>NaN</td>\n",
       "    </tr>\n",
       "    <tr>\n",
       "      <th>5</th>\n",
       "      <td>Afghanistan</td>\n",
       "      <td>2013</td>\n",
       "      <td>1807.762344</td>\n",
       "      <td>NaN</td>\n",
       "    </tr>\n",
       "    <tr>\n",
       "      <th>6</th>\n",
       "      <td>Afghanistan</td>\n",
       "      <td>2012</td>\n",
       "      <td>1772.764974</td>\n",
       "      <td>NaN</td>\n",
       "    </tr>\n",
       "    <tr>\n",
       "      <th>7</th>\n",
       "      <td>Afghanistan</td>\n",
       "      <td>2011</td>\n",
       "      <td>1626.764793</td>\n",
       "      <td>NaN</td>\n",
       "    </tr>\n",
       "    <tr>\n",
       "      <th>8</th>\n",
       "      <td>Afghanistan</td>\n",
       "      <td>2010</td>\n",
       "      <td>1671.581238</td>\n",
       "      <td>NaN</td>\n",
       "    </tr>\n",
       "    <tr>\n",
       "      <th>9</th>\n",
       "      <td>Afghanistan</td>\n",
       "      <td>2009</td>\n",
       "      <td>1502.354073</td>\n",
       "      <td>NaN</td>\n",
       "    </tr>\n",
       "  </tbody>\n",
       "</table>\n",
       "</div>"
      ],
      "text/plain": [
       "  Country or Area  Year        Value  Value Footnotes\n",
       "0     Afghanistan  2018  1734.723214              NaN\n",
       "1     Afghanistan  2017  1758.465636              NaN\n",
       "2     Afghanistan  2016  1757.023490              NaN\n",
       "3     Afghanistan  2015  1766.593077              NaN\n",
       "4     Afghanistan  2014  1795.735834              NaN\n",
       "5     Afghanistan  2013  1807.762344              NaN\n",
       "6     Afghanistan  2012  1772.764974              NaN\n",
       "7     Afghanistan  2011  1626.764793              NaN\n",
       "8     Afghanistan  2010  1671.581238              NaN\n",
       "9     Afghanistan  2009  1502.354073              NaN"
      ]
     },
     "execution_count": 3,
     "metadata": {},
     "output_type": "execute_result"
    }
   ],
   "source": [
    "gdp_df.head(10)"
   ]
  },
  {
   "cell_type": "code",
   "execution_count": 4,
   "metadata": {},
   "outputs": [
    {
     "data": {
      "text/html": [
       "<div>\n",
       "<style scoped>\n",
       "    .dataframe tbody tr th:only-of-type {\n",
       "        vertical-align: middle;\n",
       "    }\n",
       "\n",
       "    .dataframe tbody tr th {\n",
       "        vertical-align: top;\n",
       "    }\n",
       "\n",
       "    .dataframe thead th {\n",
       "        text-align: right;\n",
       "    }\n",
       "</style>\n",
       "<table border=\"1\" class=\"dataframe\">\n",
       "  <thead>\n",
       "    <tr style=\"text-align: right;\">\n",
       "      <th></th>\n",
       "      <th>Country or Area</th>\n",
       "      <th>Year</th>\n",
       "      <th>Value</th>\n",
       "      <th>Value Footnotes</th>\n",
       "    </tr>\n",
       "  </thead>\n",
       "  <tbody>\n",
       "    <tr>\n",
       "      <th>6726</th>\n",
       "      <td>Zimbabwe</td>\n",
       "      <td>1992</td>\n",
       "      <td>2591.007534</td>\n",
       "      <td>NaN</td>\n",
       "    </tr>\n",
       "    <tr>\n",
       "      <th>6727</th>\n",
       "      <td>Zimbabwe</td>\n",
       "      <td>1991</td>\n",
       "      <td>2906.272849</td>\n",
       "      <td>NaN</td>\n",
       "    </tr>\n",
       "    <tr>\n",
       "      <th>6728</th>\n",
       "      <td>Zimbabwe</td>\n",
       "      <td>1990</td>\n",
       "      <td>2819.549467</td>\n",
       "      <td>NaN</td>\n",
       "    </tr>\n",
       "    <tr>\n",
       "      <th>6729</th>\n",
       "      <td>footnoteSeqID</td>\n",
       "      <td>Footnote</td>\n",
       "      <td>NaN</td>\n",
       "      <td>NaN</td>\n",
       "    </tr>\n",
       "    <tr>\n",
       "      <th>6730</th>\n",
       "      <td>2</td>\n",
       "      <td>Excludes South Sudan after July 9, 2011.</td>\n",
       "      <td>NaN</td>\n",
       "      <td>NaN</td>\n",
       "    </tr>\n",
       "  </tbody>\n",
       "</table>\n",
       "</div>"
      ],
      "text/plain": [
       "     Country or Area                                      Year        Value  \\\n",
       "6726        Zimbabwe                                      1992  2591.007534   \n",
       "6727        Zimbabwe                                      1991  2906.272849   \n",
       "6728        Zimbabwe                                      1990  2819.549467   \n",
       "6729   footnoteSeqID                                  Footnote          NaN   \n",
       "6730               2  Excludes South Sudan after July 9, 2011.          NaN   \n",
       "\n",
       "      Value Footnotes  \n",
       "6726              NaN  \n",
       "6727              NaN  \n",
       "6728              NaN  \n",
       "6729              NaN  \n",
       "6730              NaN  "
      ]
     },
     "execution_count": 4,
     "metadata": {},
     "output_type": "execute_result"
    }
   ],
   "source": [
    "gdp_df.tail(5)"
   ]
  },
  {
   "cell_type": "code",
   "execution_count": 5,
   "metadata": {},
   "outputs": [],
   "source": [
    "gdp_df = gdp_df[:-2] #Drop last two rows"
   ]
  },
  {
   "cell_type": "code",
   "execution_count": 6,
   "metadata": {},
   "outputs": [
    {
     "data": {
      "text/html": [
       "<div>\n",
       "<style scoped>\n",
       "    .dataframe tbody tr th:only-of-type {\n",
       "        vertical-align: middle;\n",
       "    }\n",
       "\n",
       "    .dataframe tbody tr th {\n",
       "        vertical-align: top;\n",
       "    }\n",
       "\n",
       "    .dataframe thead th {\n",
       "        text-align: right;\n",
       "    }\n",
       "</style>\n",
       "<table border=\"1\" class=\"dataframe\">\n",
       "  <thead>\n",
       "    <tr style=\"text-align: right;\">\n",
       "      <th></th>\n",
       "      <th>Country or Area</th>\n",
       "      <th>Year</th>\n",
       "      <th>Value</th>\n",
       "      <th>Value Footnotes</th>\n",
       "    </tr>\n",
       "  </thead>\n",
       "  <tbody>\n",
       "    <tr>\n",
       "      <th>6724</th>\n",
       "      <td>Zimbabwe</td>\n",
       "      <td>1994</td>\n",
       "      <td>2768.309953</td>\n",
       "      <td>NaN</td>\n",
       "    </tr>\n",
       "    <tr>\n",
       "      <th>6725</th>\n",
       "      <td>Zimbabwe</td>\n",
       "      <td>1993</td>\n",
       "      <td>2572.870395</td>\n",
       "      <td>NaN</td>\n",
       "    </tr>\n",
       "    <tr>\n",
       "      <th>6726</th>\n",
       "      <td>Zimbabwe</td>\n",
       "      <td>1992</td>\n",
       "      <td>2591.007534</td>\n",
       "      <td>NaN</td>\n",
       "    </tr>\n",
       "    <tr>\n",
       "      <th>6727</th>\n",
       "      <td>Zimbabwe</td>\n",
       "      <td>1991</td>\n",
       "      <td>2906.272849</td>\n",
       "      <td>NaN</td>\n",
       "    </tr>\n",
       "    <tr>\n",
       "      <th>6728</th>\n",
       "      <td>Zimbabwe</td>\n",
       "      <td>1990</td>\n",
       "      <td>2819.549467</td>\n",
       "      <td>NaN</td>\n",
       "    </tr>\n",
       "  </tbody>\n",
       "</table>\n",
       "</div>"
      ],
      "text/plain": [
       "     Country or Area  Year        Value  Value Footnotes\n",
       "6724        Zimbabwe  1994  2768.309953              NaN\n",
       "6725        Zimbabwe  1993  2572.870395              NaN\n",
       "6726        Zimbabwe  1992  2591.007534              NaN\n",
       "6727        Zimbabwe  1991  2906.272849              NaN\n",
       "6728        Zimbabwe  1990  2819.549467              NaN"
      ]
     },
     "execution_count": 6,
     "metadata": {},
     "output_type": "execute_result"
    }
   ],
   "source": [
    "gdp_df.tail()"
   ]
  },
  {
   "cell_type": "markdown",
   "metadata": {},
   "source": [
    "6. Drop the 'Value Footnotes' column, and rename the remaining columns to ‘Country’, ‘Year’, and ‘GDP_Per_Capita’."
   ]
  },
  {
   "cell_type": "code",
   "execution_count": 7,
   "metadata": {},
   "outputs": [
    {
     "name": "stdout",
     "output_type": "stream",
     "text": [
      "<class 'pandas.core.frame.DataFrame'>\n",
      "RangeIndex: 6729 entries, 0 to 6728\n",
      "Data columns (total 4 columns):\n",
      " #   Column           Non-Null Count  Dtype  \n",
      "---  ------           --------------  -----  \n",
      " 0   Country or Area  6729 non-null   object \n",
      " 1   Year             6729 non-null   object \n",
      " 2   Value            6729 non-null   float64\n",
      " 3   Value Footnotes  1 non-null      float64\n",
      "dtypes: float64(2), object(2)\n",
      "memory usage: 210.4+ KB\n"
     ]
    }
   ],
   "source": [
    "gdp_df.info()"
   ]
  },
  {
   "cell_type": "code",
   "execution_count": 8,
   "metadata": {},
   "outputs": [
    {
     "data": {
      "text/html": [
       "<div>\n",
       "<style scoped>\n",
       "    .dataframe tbody tr th:only-of-type {\n",
       "        vertical-align: middle;\n",
       "    }\n",
       "\n",
       "    .dataframe tbody tr th {\n",
       "        vertical-align: top;\n",
       "    }\n",
       "\n",
       "    .dataframe thead th {\n",
       "        text-align: right;\n",
       "    }\n",
       "</style>\n",
       "<table border=\"1\" class=\"dataframe\">\n",
       "  <thead>\n",
       "    <tr style=\"text-align: right;\">\n",
       "      <th></th>\n",
       "      <th>Country or Area</th>\n",
       "      <th>Year</th>\n",
       "      <th>Value</th>\n",
       "    </tr>\n",
       "  </thead>\n",
       "  <tbody>\n",
       "    <tr>\n",
       "      <th>0</th>\n",
       "      <td>Afghanistan</td>\n",
       "      <td>2018</td>\n",
       "      <td>1734.723214</td>\n",
       "    </tr>\n",
       "    <tr>\n",
       "      <th>1</th>\n",
       "      <td>Afghanistan</td>\n",
       "      <td>2017</td>\n",
       "      <td>1758.465636</td>\n",
       "    </tr>\n",
       "    <tr>\n",
       "      <th>2</th>\n",
       "      <td>Afghanistan</td>\n",
       "      <td>2016</td>\n",
       "      <td>1757.023490</td>\n",
       "    </tr>\n",
       "    <tr>\n",
       "      <th>3</th>\n",
       "      <td>Afghanistan</td>\n",
       "      <td>2015</td>\n",
       "      <td>1766.593077</td>\n",
       "    </tr>\n",
       "    <tr>\n",
       "      <th>4</th>\n",
       "      <td>Afghanistan</td>\n",
       "      <td>2014</td>\n",
       "      <td>1795.735834</td>\n",
       "    </tr>\n",
       "    <tr>\n",
       "      <th>...</th>\n",
       "      <td>...</td>\n",
       "      <td>...</td>\n",
       "      <td>...</td>\n",
       "    </tr>\n",
       "    <tr>\n",
       "      <th>6724</th>\n",
       "      <td>Zimbabwe</td>\n",
       "      <td>1994</td>\n",
       "      <td>2768.309953</td>\n",
       "    </tr>\n",
       "    <tr>\n",
       "      <th>6725</th>\n",
       "      <td>Zimbabwe</td>\n",
       "      <td>1993</td>\n",
       "      <td>2572.870395</td>\n",
       "    </tr>\n",
       "    <tr>\n",
       "      <th>6726</th>\n",
       "      <td>Zimbabwe</td>\n",
       "      <td>1992</td>\n",
       "      <td>2591.007534</td>\n",
       "    </tr>\n",
       "    <tr>\n",
       "      <th>6727</th>\n",
       "      <td>Zimbabwe</td>\n",
       "      <td>1991</td>\n",
       "      <td>2906.272849</td>\n",
       "    </tr>\n",
       "    <tr>\n",
       "      <th>6728</th>\n",
       "      <td>Zimbabwe</td>\n",
       "      <td>1990</td>\n",
       "      <td>2819.549467</td>\n",
       "    </tr>\n",
       "  </tbody>\n",
       "</table>\n",
       "<p>6729 rows × 3 columns</p>\n",
       "</div>"
      ],
      "text/plain": [
       "     Country or Area  Year        Value\n",
       "0        Afghanistan  2018  1734.723214\n",
       "1        Afghanistan  2017  1758.465636\n",
       "2        Afghanistan  2016  1757.023490\n",
       "3        Afghanistan  2015  1766.593077\n",
       "4        Afghanistan  2014  1795.735834\n",
       "...              ...   ...          ...\n",
       "6724        Zimbabwe  1994  2768.309953\n",
       "6725        Zimbabwe  1993  2572.870395\n",
       "6726        Zimbabwe  1992  2591.007534\n",
       "6727        Zimbabwe  1991  2906.272849\n",
       "6728        Zimbabwe  1990  2819.549467\n",
       "\n",
       "[6729 rows x 3 columns]"
      ]
     },
     "execution_count": 8,
     "metadata": {},
     "output_type": "execute_result"
    }
   ],
   "source": [
    "gdp_df.drop(columns = \"Value Footnotes\") # also gdp_df.drop('Value Footnotes', axis = 1)"
   ]
  },
  {
   "cell_type": "code",
   "execution_count": 9,
   "metadata": {},
   "outputs": [
    {
     "data": {
      "text/html": [
       "<div>\n",
       "<style scoped>\n",
       "    .dataframe tbody tr th:only-of-type {\n",
       "        vertical-align: middle;\n",
       "    }\n",
       "\n",
       "    .dataframe tbody tr th {\n",
       "        vertical-align: top;\n",
       "    }\n",
       "\n",
       "    .dataframe thead th {\n",
       "        text-align: right;\n",
       "    }\n",
       "</style>\n",
       "<table border=\"1\" class=\"dataframe\">\n",
       "  <thead>\n",
       "    <tr style=\"text-align: right;\">\n",
       "      <th></th>\n",
       "      <th>Country or Area</th>\n",
       "      <th>Year</th>\n",
       "      <th>Value</th>\n",
       "      <th>Value Footnotes</th>\n",
       "    </tr>\n",
       "  </thead>\n",
       "  <tbody>\n",
       "    <tr>\n",
       "      <th>0</th>\n",
       "      <td>Afghanistan</td>\n",
       "      <td>2018</td>\n",
       "      <td>1734.723214</td>\n",
       "      <td>NaN</td>\n",
       "    </tr>\n",
       "    <tr>\n",
       "      <th>1</th>\n",
       "      <td>Afghanistan</td>\n",
       "      <td>2017</td>\n",
       "      <td>1758.465636</td>\n",
       "      <td>NaN</td>\n",
       "    </tr>\n",
       "    <tr>\n",
       "      <th>2</th>\n",
       "      <td>Afghanistan</td>\n",
       "      <td>2016</td>\n",
       "      <td>1757.023490</td>\n",
       "      <td>NaN</td>\n",
       "    </tr>\n",
       "    <tr>\n",
       "      <th>3</th>\n",
       "      <td>Afghanistan</td>\n",
       "      <td>2015</td>\n",
       "      <td>1766.593077</td>\n",
       "      <td>NaN</td>\n",
       "    </tr>\n",
       "    <tr>\n",
       "      <th>4</th>\n",
       "      <td>Afghanistan</td>\n",
       "      <td>2014</td>\n",
       "      <td>1795.735834</td>\n",
       "      <td>NaN</td>\n",
       "    </tr>\n",
       "  </tbody>\n",
       "</table>\n",
       "</div>"
      ],
      "text/plain": [
       "  Country or Area  Year        Value  Value Footnotes\n",
       "0     Afghanistan  2018  1734.723214              NaN\n",
       "1     Afghanistan  2017  1758.465636              NaN\n",
       "2     Afghanistan  2016  1757.023490              NaN\n",
       "3     Afghanistan  2015  1766.593077              NaN\n",
       "4     Afghanistan  2014  1795.735834              NaN"
      ]
     },
     "execution_count": 9,
     "metadata": {},
     "output_type": "execute_result"
    }
   ],
   "source": [
    "gdp_df.head() # changes above didn't save; assign to gdp_df"
   ]
  },
  {
   "cell_type": "code",
   "execution_count": 10,
   "metadata": {},
   "outputs": [],
   "source": [
    "gdp_df = gdp_df.drop(columns = \"Value Footnotes\")"
   ]
  },
  {
   "cell_type": "code",
   "execution_count": 11,
   "metadata": {},
   "outputs": [
    {
     "data": {
      "text/html": [
       "<div>\n",
       "<style scoped>\n",
       "    .dataframe tbody tr th:only-of-type {\n",
       "        vertical-align: middle;\n",
       "    }\n",
       "\n",
       "    .dataframe tbody tr th {\n",
       "        vertical-align: top;\n",
       "    }\n",
       "\n",
       "    .dataframe thead th {\n",
       "        text-align: right;\n",
       "    }\n",
       "</style>\n",
       "<table border=\"1\" class=\"dataframe\">\n",
       "  <thead>\n",
       "    <tr style=\"text-align: right;\">\n",
       "      <th></th>\n",
       "      <th>Country or Area</th>\n",
       "      <th>Year</th>\n",
       "      <th>Value</th>\n",
       "    </tr>\n",
       "  </thead>\n",
       "  <tbody>\n",
       "    <tr>\n",
       "      <th>0</th>\n",
       "      <td>Afghanistan</td>\n",
       "      <td>2018</td>\n",
       "      <td>1734.723214</td>\n",
       "    </tr>\n",
       "    <tr>\n",
       "      <th>1</th>\n",
       "      <td>Afghanistan</td>\n",
       "      <td>2017</td>\n",
       "      <td>1758.465636</td>\n",
       "    </tr>\n",
       "    <tr>\n",
       "      <th>2</th>\n",
       "      <td>Afghanistan</td>\n",
       "      <td>2016</td>\n",
       "      <td>1757.023490</td>\n",
       "    </tr>\n",
       "    <tr>\n",
       "      <th>3</th>\n",
       "      <td>Afghanistan</td>\n",
       "      <td>2015</td>\n",
       "      <td>1766.593077</td>\n",
       "    </tr>\n",
       "    <tr>\n",
       "      <th>4</th>\n",
       "      <td>Afghanistan</td>\n",
       "      <td>2014</td>\n",
       "      <td>1795.735834</td>\n",
       "    </tr>\n",
       "  </tbody>\n",
       "</table>\n",
       "</div>"
      ],
      "text/plain": [
       "  Country or Area  Year        Value\n",
       "0     Afghanistan  2018  1734.723214\n",
       "1     Afghanistan  2017  1758.465636\n",
       "2     Afghanistan  2016  1757.023490\n",
       "3     Afghanistan  2015  1766.593077\n",
       "4     Afghanistan  2014  1795.735834"
      ]
     },
     "execution_count": 11,
     "metadata": {},
     "output_type": "execute_result"
    }
   ],
   "source": [
    "gdp_df.head()"
   ]
  },
  {
   "cell_type": "code",
   "execution_count": 12,
   "metadata": {},
   "outputs": [
    {
     "name": "stdout",
     "output_type": "stream",
     "text": [
      "<class 'pandas.core.frame.DataFrame'>\n",
      "RangeIndex: 6729 entries, 0 to 6728\n",
      "Data columns (total 3 columns):\n",
      " #   Column           Non-Null Count  Dtype  \n",
      "---  ------           --------------  -----  \n",
      " 0   Country or Area  6729 non-null   object \n",
      " 1   Year             6729 non-null   object \n",
      " 2   Value            6729 non-null   float64\n",
      "dtypes: float64(1), object(2)\n",
      "memory usage: 157.8+ KB\n"
     ]
    }
   ],
   "source": [
    "gdp_df.info()"
   ]
  },
  {
   "cell_type": "code",
   "execution_count": 13,
   "metadata": {},
   "outputs": [],
   "source": [
    "gdp_df = gdp_df.rename(columns={'Country or Area': 'Country', 'Value': 'GDP_Per_Capita'})"
   ]
  },
  {
   "cell_type": "code",
   "execution_count": 14,
   "metadata": {},
   "outputs": [
    {
     "data": {
      "text/html": [
       "<div>\n",
       "<style scoped>\n",
       "    .dataframe tbody tr th:only-of-type {\n",
       "        vertical-align: middle;\n",
       "    }\n",
       "\n",
       "    .dataframe tbody tr th {\n",
       "        vertical-align: top;\n",
       "    }\n",
       "\n",
       "    .dataframe thead th {\n",
       "        text-align: right;\n",
       "    }\n",
       "</style>\n",
       "<table border=\"1\" class=\"dataframe\">\n",
       "  <thead>\n",
       "    <tr style=\"text-align: right;\">\n",
       "      <th></th>\n",
       "      <th>Country</th>\n",
       "      <th>Year</th>\n",
       "      <th>GDP_Per_Capita</th>\n",
       "    </tr>\n",
       "  </thead>\n",
       "  <tbody>\n",
       "    <tr>\n",
       "      <th>0</th>\n",
       "      <td>Afghanistan</td>\n",
       "      <td>2018</td>\n",
       "      <td>1734.723214</td>\n",
       "    </tr>\n",
       "    <tr>\n",
       "      <th>1</th>\n",
       "      <td>Afghanistan</td>\n",
       "      <td>2017</td>\n",
       "      <td>1758.465636</td>\n",
       "    </tr>\n",
       "    <tr>\n",
       "      <th>2</th>\n",
       "      <td>Afghanistan</td>\n",
       "      <td>2016</td>\n",
       "      <td>1757.023490</td>\n",
       "    </tr>\n",
       "    <tr>\n",
       "      <th>3</th>\n",
       "      <td>Afghanistan</td>\n",
       "      <td>2015</td>\n",
       "      <td>1766.593077</td>\n",
       "    </tr>\n",
       "    <tr>\n",
       "      <th>4</th>\n",
       "      <td>Afghanistan</td>\n",
       "      <td>2014</td>\n",
       "      <td>1795.735834</td>\n",
       "    </tr>\n",
       "  </tbody>\n",
       "</table>\n",
       "</div>"
      ],
      "text/plain": [
       "       Country  Year  GDP_Per_Capita\n",
       "0  Afghanistan  2018     1734.723214\n",
       "1  Afghanistan  2017     1758.465636\n",
       "2  Afghanistan  2016     1757.023490\n",
       "3  Afghanistan  2015     1766.593077\n",
       "4  Afghanistan  2014     1795.735834"
      ]
     },
     "execution_count": 14,
     "metadata": {},
     "output_type": "execute_result"
    }
   ],
   "source": [
    "gdp_df.head()"
   ]
  },
  {
   "cell_type": "code",
   "execution_count": 15,
   "metadata": {},
   "outputs": [
    {
     "name": "stdout",
     "output_type": "stream",
     "text": [
      "<class 'pandas.core.frame.DataFrame'>\n",
      "RangeIndex: 6729 entries, 0 to 6728\n",
      "Data columns (total 3 columns):\n",
      " #   Column          Non-Null Count  Dtype  \n",
      "---  ------          --------------  -----  \n",
      " 0   Country         6729 non-null   object \n",
      " 1   Year            6729 non-null   object \n",
      " 2   GDP_Per_Capita  6729 non-null   float64\n",
      "dtypes: float64(1), object(2)\n",
      "memory usage: 157.8+ KB\n"
     ]
    }
   ],
   "source": [
    "gdp_df.info()"
   ]
  },
  {
   "cell_type": "markdown",
   "metadata": {},
   "source": [
    "7. How many rows and columns does gdp_df have? What are the data types of its columns? If any of the columns are not the expected types, figure out why and fix it\n",
    "\n",
    "-gdp_df has 6729 rows and 3 columns\n",
    "\n",
    "-the data types are \"objects\" and floats (numeric values)\n",
    "\n",
    "-now I need to fix the data vaguely stored as objects"
   ]
  },
  {
   "cell_type": "code",
   "execution_count": 16,
   "metadata": {},
   "outputs": [],
   "source": [
    "gdp_df[\"Year\"] = pd.to_numeric(gdp_df[\"Year\"])"
   ]
  },
  {
   "cell_type": "code",
   "execution_count": 17,
   "metadata": {},
   "outputs": [
    {
     "name": "stdout",
     "output_type": "stream",
     "text": [
      "<class 'pandas.core.frame.DataFrame'>\n",
      "RangeIndex: 6729 entries, 0 to 6728\n",
      "Data columns (total 3 columns):\n",
      " #   Column          Non-Null Count  Dtype  \n",
      "---  ------          --------------  -----  \n",
      " 0   Country         6729 non-null   object \n",
      " 1   Year            6729 non-null   int64  \n",
      " 2   GDP_Per_Capita  6729 non-null   float64\n",
      "dtypes: float64(1), int64(1), object(1)\n",
      "memory usage: 157.8+ KB\n"
     ]
    }
   ],
   "source": [
    "gdp_df.info()"
   ]
  },
  {
   "cell_type": "code",
   "execution_count": 18,
   "metadata": {},
   "outputs": [
    {
     "data": {
      "text/plain": [
       "(6729, 3)"
      ]
     },
     "execution_count": 18,
     "metadata": {},
     "output_type": "execute_result"
    }
   ],
   "source": [
    "gdp_df.shape # provides number of rows and then columns"
   ]
  },
  {
   "cell_type": "code",
   "execution_count": 19,
   "metadata": {},
   "outputs": [
    {
     "data": {
      "text/plain": [
       "Portugal                     29\n",
       "Angola                       29\n",
       "Burkina Faso                 29\n",
       "Japan                        29\n",
       "Egypt                        29\n",
       "                             ..\n",
       "Nauru                        12\n",
       "Sint Maarten (Dutch part)     9\n",
       "Turks and Caicos Islands      8\n",
       "South Sudan                   8\n",
       "Djibouti                      1\n",
       "Name: Country, Length: 243, dtype: int64"
      ]
     },
     "execution_count": 19,
     "metadata": {},
     "output_type": "execute_result"
    }
   ],
   "source": [
    "gdp_df.Country.value_counts() # value counts for this column"
   ]
  },
  {
   "cell_type": "markdown",
   "metadata": {},
   "source": [
    "8: Which years are represented in this dataset? \n",
    "-The years range from 2004 to 2018\n",
    "\n",
    "Take a look at the number of observations per year. What do you notice?\n",
    "-There are missing data for some years"
   ]
  },
  {
   "cell_type": "code",
   "execution_count": 20,
   "metadata": {},
   "outputs": [
    {
     "data": {
      "text/plain": [
       "count    6729.000000\n",
       "mean     2004.293357\n",
       "std         8.269834\n",
       "min      1990.000000\n",
       "25%      1997.000000\n",
       "50%      2004.000000\n",
       "75%      2011.000000\n",
       "max      2018.000000\n",
       "Name: Year, dtype: float64"
      ]
     },
     "execution_count": 20,
     "metadata": {},
     "output_type": "execute_result"
    }
   ],
   "source": [
    "gdp_df.Year.describe()"
   ]
  },
  {
   "cell_type": "code",
   "execution_count": 21,
   "metadata": {
    "scrolled": true
   },
   "outputs": [
    {
     "data": {
      "text/plain": [
       "2011    243\n",
       "2012    241\n",
       "2009    241\n",
       "2010    241\n",
       "2013    241\n",
       "2015    240\n",
       "2008    240\n",
       "2014    240\n",
       "2007    239\n",
       "2016    239\n",
       "2017    239\n",
       "2005    238\n",
       "2004    238\n",
       "2002    238\n",
       "2006    238\n",
       "2003    238\n",
       "2001    237\n",
       "2000    236\n",
       "1999    228\n",
       "1998    227\n",
       "2018    226\n",
       "1997    226\n",
       "1996    224\n",
       "1995    224\n",
       "1994    218\n",
       "1993    215\n",
       "1992    213\n",
       "1991    211\n",
       "1990    210\n",
       "Name: Year, dtype: int64"
      ]
     },
     "execution_count": 21,
     "metadata": {},
     "output_type": "execute_result"
    }
   ],
   "source": [
    "gdp_df.Year.value_counts()"
   ]
  },
  {
   "cell_type": "markdown",
   "metadata": {},
   "source": [
    "9. How many countries are represented in this dataset? \n",
    "\n",
    "There are 243 countries represented in the dataset\n",
    "\n",
    "Which countries are least represented in the dataset? Why do you think these countries have so few observations?\n",
    "\n",
    "The following 20 countries are the least represented in the dataset:\n",
    "Montenegro                   22\n",
    "San Marino                   21\n",
    "Cayman Islands               20\n",
    "Eritrea                      20\n",
    "Libya                        20\n",
    "Palau                        19\n",
    "Timor-Leste                  19\n",
    "CuraÃ§ao                     19\n",
    "Liberia                      19\n",
    "Qatar                        19\n",
    "Kosovo                       19\n",
    "Other small states           19\n",
    "Small states                 19\n",
    "SÃ£o TomÃ© and Principe      18\n",
    "Afghanistan                  17\n",
    "Nauru                        12\n",
    "Sint Maarten (Dutch part)     9\n",
    "South Sudan                   8\n",
    "Turks and Caicos Islands      8\n",
    "Djibouti                      1\n",
    "\n"
   ]
  },
  {
   "cell_type": "code",
   "execution_count": 22,
   "metadata": {},
   "outputs": [],
   "source": [
    "# of countries in dataset\n",
    "unique_countries = gdp_df.drop_duplicates(subset=\"Country\")"
   ]
  },
  {
   "cell_type": "code",
   "execution_count": 23,
   "metadata": {},
   "outputs": [
    {
     "data": {
      "text/plain": [
       "Tunisia                                     1\n",
       "Montenegro                                  1\n",
       "Netherlands                                 1\n",
       "Fragile and conflict affected situations    1\n",
       "Mozambique                                  1\n",
       "                                           ..\n",
       "Guinea-Bissau                               1\n",
       "Jamaica                                     1\n",
       "Thailand                                    1\n",
       "Namibia                                     1\n",
       "Upper middle income                         1\n",
       "Name: Country, Length: 243, dtype: int64"
      ]
     },
     "execution_count": 23,
     "metadata": {},
     "output_type": "execute_result"
    }
   ],
   "source": [
    "unique_countries[\"Country\"].value_counts()"
   ]
  },
  {
   "cell_type": "code",
   "execution_count": 24,
   "metadata": {},
   "outputs": [
    {
     "data": {
      "text/plain": [
       "Montenegro                   22\n",
       "San Marino                   21\n",
       "Eritrea                      20\n",
       "Cayman Islands               20\n",
       "Libya                        20\n",
       "Kosovo                       19\n",
       "Small states                 19\n",
       "Other small states           19\n",
       "Qatar                        19\n",
       "Timor-Leste                  19\n",
       "Liberia                      19\n",
       "CuraÃ§ao                     19\n",
       "Palau                        19\n",
       "SÃ£o TomÃ© and Principe      18\n",
       "Afghanistan                  17\n",
       "Nauru                        12\n",
       "Sint Maarten (Dutch part)     9\n",
       "Turks and Caicos Islands      8\n",
       "South Sudan                   8\n",
       "Djibouti                      1\n",
       "Name: Country, dtype: int64"
      ]
     },
     "execution_count": 24,
     "metadata": {},
     "output_type": "execute_result"
    }
   ],
   "source": [
    "gdp_df.Country.value_counts().tail(20) # tail lets you see the bottom values"
   ]
  },
  {
   "cell_type": "markdown",
   "metadata": {},
   "source": [
    "10. Create a new dataframe by subsetting gdp_df to just the year 2014. Call this new dataframe gdp_2014."
   ]
  },
  {
   "cell_type": "code",
   "execution_count": 25,
   "metadata": {},
   "outputs": [],
   "source": [
    "gdp_2014 = gdp_df[gdp_df['Year'] == 2014]"
   ]
  },
  {
   "cell_type": "code",
   "execution_count": 26,
   "metadata": {},
   "outputs": [
    {
     "data": {
      "text/html": [
       "<div>\n",
       "<style scoped>\n",
       "    .dataframe tbody tr th:only-of-type {\n",
       "        vertical-align: middle;\n",
       "    }\n",
       "\n",
       "    .dataframe tbody tr th {\n",
       "        vertical-align: top;\n",
       "    }\n",
       "\n",
       "    .dataframe thead th {\n",
       "        text-align: right;\n",
       "    }\n",
       "</style>\n",
       "<table border=\"1\" class=\"dataframe\">\n",
       "  <thead>\n",
       "    <tr style=\"text-align: right;\">\n",
       "      <th></th>\n",
       "      <th>Country</th>\n",
       "      <th>Year</th>\n",
       "      <th>GDP_Per_Capita</th>\n",
       "    </tr>\n",
       "  </thead>\n",
       "  <tbody>\n",
       "    <tr>\n",
       "      <th>4</th>\n",
       "      <td>Afghanistan</td>\n",
       "      <td>2014</td>\n",
       "      <td>1795.735834</td>\n",
       "    </tr>\n",
       "    <tr>\n",
       "      <th>21</th>\n",
       "      <td>Albania</td>\n",
       "      <td>2014</td>\n",
       "      <td>10700.993216</td>\n",
       "    </tr>\n",
       "    <tr>\n",
       "      <th>50</th>\n",
       "      <td>Algeria</td>\n",
       "      <td>2014</td>\n",
       "      <td>13557.769757</td>\n",
       "    </tr>\n",
       "    <tr>\n",
       "      <th>79</th>\n",
       "      <td>Angola</td>\n",
       "      <td>2014</td>\n",
       "      <td>6813.052106</td>\n",
       "    </tr>\n",
       "    <tr>\n",
       "      <th>108</th>\n",
       "      <td>Antigua and Barbuda</td>\n",
       "      <td>2014</td>\n",
       "      <td>20440.540555</td>\n",
       "    </tr>\n",
       "    <tr>\n",
       "      <th>...</th>\n",
       "      <td>...</td>\n",
       "      <td>...</td>\n",
       "      <td>...</td>\n",
       "    </tr>\n",
       "    <tr>\n",
       "      <th>6592</th>\n",
       "      <td>West Bank and Gaza</td>\n",
       "      <td>2014</td>\n",
       "      <td>4445.307470</td>\n",
       "    </tr>\n",
       "    <tr>\n",
       "      <th>6617</th>\n",
       "      <td>World</td>\n",
       "      <td>2014</td>\n",
       "      <td>14514.392218</td>\n",
       "    </tr>\n",
       "    <tr>\n",
       "      <th>6646</th>\n",
       "      <td>Yemen</td>\n",
       "      <td>2014</td>\n",
       "      <td>3828.484887</td>\n",
       "    </tr>\n",
       "    <tr>\n",
       "      <th>6675</th>\n",
       "      <td>Zambia</td>\n",
       "      <td>2014</td>\n",
       "      <td>3684.685507</td>\n",
       "    </tr>\n",
       "    <tr>\n",
       "      <th>6704</th>\n",
       "      <td>Zimbabwe</td>\n",
       "      <td>2014</td>\n",
       "      <td>2506.490220</td>\n",
       "    </tr>\n",
       "  </tbody>\n",
       "</table>\n",
       "<p>240 rows × 3 columns</p>\n",
       "</div>"
      ],
      "text/plain": [
       "                  Country  Year  GDP_Per_Capita\n",
       "4             Afghanistan  2014     1795.735834\n",
       "21                Albania  2014    10700.993216\n",
       "50                Algeria  2014    13557.769757\n",
       "79                 Angola  2014     6813.052106\n",
       "108   Antigua and Barbuda  2014    20440.540555\n",
       "...                   ...   ...             ...\n",
       "6592   West Bank and Gaza  2014     4445.307470\n",
       "6617                World  2014    14514.392218\n",
       "6646                Yemen  2014     3828.484887\n",
       "6675               Zambia  2014     3684.685507\n",
       "6704             Zimbabwe  2014     2506.490220\n",
       "\n",
       "[240 rows x 3 columns]"
      ]
     },
     "execution_count": 26,
     "metadata": {},
     "output_type": "execute_result"
    }
   ],
   "source": [
    "gdp_2014"
   ]
  },
  {
   "cell_type": "markdown",
   "metadata": {},
   "source": [
    "11. Use .describe() to find the summary statistics for GDP per capita in 2014."
   ]
  },
  {
   "cell_type": "code",
   "execution_count": 27,
   "metadata": {},
   "outputs": [
    {
     "data": {
      "text/html": [
       "<div>\n",
       "<style scoped>\n",
       "    .dataframe tbody tr th:only-of-type {\n",
       "        vertical-align: middle;\n",
       "    }\n",
       "\n",
       "    .dataframe tbody tr th {\n",
       "        vertical-align: top;\n",
       "    }\n",
       "\n",
       "    .dataframe thead th {\n",
       "        text-align: right;\n",
       "    }\n",
       "</style>\n",
       "<table border=\"1\" class=\"dataframe\">\n",
       "  <thead>\n",
       "    <tr style=\"text-align: right;\">\n",
       "      <th></th>\n",
       "      <th>Year</th>\n",
       "      <th>GDP_Per_Capita</th>\n",
       "    </tr>\n",
       "  </thead>\n",
       "  <tbody>\n",
       "    <tr>\n",
       "      <th>count</th>\n",
       "      <td>240.0</td>\n",
       "      <td>240.000000</td>\n",
       "    </tr>\n",
       "    <tr>\n",
       "      <th>mean</th>\n",
       "      <td>2014.0</td>\n",
       "      <td>18034.303556</td>\n",
       "    </tr>\n",
       "    <tr>\n",
       "      <th>std</th>\n",
       "      <td>0.0</td>\n",
       "      <td>19320.930599</td>\n",
       "    </tr>\n",
       "    <tr>\n",
       "      <th>min</th>\n",
       "      <td>2014.0</td>\n",
       "      <td>672.681648</td>\n",
       "    </tr>\n",
       "    <tr>\n",
       "      <th>25%</th>\n",
       "      <td>2014.0</td>\n",
       "      <td>4301.187365</td>\n",
       "    </tr>\n",
       "    <tr>\n",
       "      <th>50%</th>\n",
       "      <td>2014.0</td>\n",
       "      <td>11868.067810</td>\n",
       "    </tr>\n",
       "    <tr>\n",
       "      <th>75%</th>\n",
       "      <td>2014.0</td>\n",
       "      <td>24388.408410</td>\n",
       "    </tr>\n",
       "    <tr>\n",
       "      <th>max</th>\n",
       "      <td>2014.0</td>\n",
       "      <td>130439.106674</td>\n",
       "    </tr>\n",
       "  </tbody>\n",
       "</table>\n",
       "</div>"
      ],
      "text/plain": [
       "         Year  GDP_Per_Capita\n",
       "count   240.0      240.000000\n",
       "mean   2014.0    18034.303556\n",
       "std       0.0    19320.930599\n",
       "min    2014.0      672.681648\n",
       "25%    2014.0     4301.187365\n",
       "50%    2014.0    11868.067810\n",
       "75%    2014.0    24388.408410\n",
       "max    2014.0   130439.106674"
      ]
     },
     "execution_count": 27,
     "metadata": {},
     "output_type": "execute_result"
    }
   ],
   "source": [
    "gdp_2014.describe()"
   ]
  },
  {
   "cell_type": "markdown",
   "metadata": {},
   "source": [
    "12. Create a histogram of GDP Per Capita numbers for 2014 (you may wish to adjust the number of bins for your histogram). How would you describe the shape of the distribution?"
   ]
  },
  {
   "cell_type": "code",
   "execution_count": 28,
   "metadata": {},
   "outputs": [
    {
     "data": {
      "image/png": "[encoded data removed]",
      "text/plain": [
       "<Figure size 432x288 with 1 Axes>"
      ]
     },
     "metadata": {
      "needs_background": "light"
     },
     "output_type": "display_data"
    }
   ],
   "source": [
    "# semicolon gets rid of gibberish at top\n",
    "gdp_2014['GDP_Per_Capita'].hist(bins=30);"
   ]
  },
  {
   "cell_type": "markdown",
   "metadata": {},
   "source": [
    "Distribution is positively skewed"
   ]
  },
  {
   "cell_type": "markdown",
   "metadata": {},
   "source": [
    "13. Find the top 5 counties and bottom 5 countries by GDP per capita in 2014.\n",
    "\n",
    "Bottom 5 Countries:\n",
    "Central African Republic, Burundi, Democratic Republic of Congo, Niger, Malawi\n",
    "\n",
    "Top 5 Countries:\n",
    "Brunei, Singapore, Luxembourg, Qatar, China"
   ]
  },
  {
   "cell_type": "code",
   "execution_count": 29,
   "metadata": {},
   "outputs": [
    {
     "data": {
      "text/html": [
       "<div>\n",
       "<style scoped>\n",
       "    .dataframe tbody tr th:only-of-type {\n",
       "        vertical-align: middle;\n",
       "    }\n",
       "\n",
       "    .dataframe tbody tr th {\n",
       "        vertical-align: top;\n",
       "    }\n",
       "\n",
       "    .dataframe thead th {\n",
       "        text-align: right;\n",
       "    }\n",
       "</style>\n",
       "<table border=\"1\" class=\"dataframe\">\n",
       "  <thead>\n",
       "    <tr style=\"text-align: right;\">\n",
       "      <th></th>\n",
       "      <th>Country</th>\n",
       "      <th>Year</th>\n",
       "      <th>GDP_Per_Capita</th>\n",
       "    </tr>\n",
       "  </thead>\n",
       "  <tbody>\n",
       "    <tr>\n",
       "      <th>1014</th>\n",
       "      <td>Central African Republic</td>\n",
       "      <td>2014</td>\n",
       "      <td>672.681648</td>\n",
       "    </tr>\n",
       "    <tr>\n",
       "      <th>794</th>\n",
       "      <td>Burundi</td>\n",
       "      <td>2014</td>\n",
       "      <td>768.469837</td>\n",
       "    </tr>\n",
       "    <tr>\n",
       "      <th>1375</th>\n",
       "      <td>Dem. Rep. Congo</td>\n",
       "      <td>2014</td>\n",
       "      <td>784.872656</td>\n",
       "    </tr>\n",
       "    <tr>\n",
       "      <th>4414</th>\n",
       "      <td>Niger</td>\n",
       "      <td>2014</td>\n",
       "      <td>900.136918</td>\n",
       "    </tr>\n",
       "    <tr>\n",
       "      <th>3697</th>\n",
       "      <td>Malawi</td>\n",
       "      <td>2014</td>\n",
       "      <td>1142.530804</td>\n",
       "    </tr>\n",
       "    <tr>\n",
       "      <th>...</th>\n",
       "      <td>...</td>\n",
       "      <td>...</td>\n",
       "      <td>...</td>\n",
       "    </tr>\n",
       "    <tr>\n",
       "      <th>707</th>\n",
       "      <td>Brunei</td>\n",
       "      <td>2014</td>\n",
       "      <td>76448.593329</td>\n",
       "    </tr>\n",
       "    <tr>\n",
       "      <th>5316</th>\n",
       "      <td>Singapore</td>\n",
       "      <td>2014</td>\n",
       "      <td>81965.361071</td>\n",
       "    </tr>\n",
       "    <tr>\n",
       "      <th>3610</th>\n",
       "      <td>Luxembourg</td>\n",
       "      <td>2014</td>\n",
       "      <td>92349.186429</td>\n",
       "    </tr>\n",
       "    <tr>\n",
       "      <th>5003</th>\n",
       "      <td>Qatar</td>\n",
       "      <td>2014</td>\n",
       "      <td>116693.507701</td>\n",
       "    </tr>\n",
       "    <tr>\n",
       "      <th>3639</th>\n",
       "      <td>Macao SAR, China</td>\n",
       "      <td>2014</td>\n",
       "      <td>130439.106674</td>\n",
       "    </tr>\n",
       "  </tbody>\n",
       "</table>\n",
       "<p>240 rows × 3 columns</p>\n",
       "</div>"
      ],
      "text/plain": [
       "                       Country  Year  GDP_Per_Capita\n",
       "1014  Central African Republic  2014      672.681648\n",
       "794                    Burundi  2014      768.469837\n",
       "1375           Dem. Rep. Congo  2014      784.872656\n",
       "4414                     Niger  2014      900.136918\n",
       "3697                    Malawi  2014     1142.530804\n",
       "...                        ...   ...             ...\n",
       "707                     Brunei  2014    76448.593329\n",
       "5316                 Singapore  2014    81965.361071\n",
       "3610                Luxembourg  2014    92349.186429\n",
       "5003                     Qatar  2014   116693.507701\n",
       "3639          Macao SAR, China  2014   130439.106674\n",
       "\n",
       "[240 rows x 3 columns]"
      ]
     },
     "execution_count": 29,
     "metadata": {},
     "output_type": "execute_result"
    }
   ],
   "source": [
    "gdp_2014.sort_values(by='GDP_Per_Capita', ascending=True)"
   ]
  },
  {
   "cell_type": "markdown",
   "metadata": {},
   "source": [
    "14. Now, return to the full dataset, gdp_df. Pivot the data for 1990 and 2017 (using the pandas .pivot_table() method or another method) so that each row corresponds to a country, each column corresponds to a year, and the values in the table give the GDP_Per_Capita amount. Drop any rows that are missing values for either 1990 or 2017. Save the result to a dataframe named gdp_pivoted."
   ]
  },
  {
   "cell_type": "code",
   "execution_count": 30,
   "metadata": {},
   "outputs": [],
   "source": [
    "# gdp_pivoted = gdp_df.pivot_table(values='GDP_Per_Capita', index='Country')\n",
    "gdp_pivoted = gdp_df[gdp_df['Year'].isin([1990, 2017])].pivot_table(values='GDP_Per_Capita', index='Country', columns='Year').dropna()"
   ]
  },
  {
   "cell_type": "code",
   "execution_count": 31,
   "metadata": {},
   "outputs": [
    {
     "data": {
      "text/html": [
       "<div>\n",
       "<style scoped>\n",
       "    .dataframe tbody tr th:only-of-type {\n",
       "        vertical-align: middle;\n",
       "    }\n",
       "\n",
       "    .dataframe tbody tr th {\n",
       "        vertical-align: top;\n",
       "    }\n",
       "\n",
       "    .dataframe thead th {\n",
       "        text-align: right;\n",
       "    }\n",
       "</style>\n",
       "<table border=\"1\" class=\"dataframe\">\n",
       "  <thead>\n",
       "    <tr style=\"text-align: right;\">\n",
       "      <th>Year</th>\n",
       "      <th>1990</th>\n",
       "      <th>2017</th>\n",
       "    </tr>\n",
       "    <tr>\n",
       "      <th>Country</th>\n",
       "      <th></th>\n",
       "      <th></th>\n",
       "    </tr>\n",
       "  </thead>\n",
       "  <tbody>\n",
       "    <tr>\n",
       "      <th>Albania</th>\n",
       "      <td>4458.247115</td>\n",
       "      <td>11796.719185</td>\n",
       "    </tr>\n",
       "    <tr>\n",
       "      <th>Algeria</th>\n",
       "      <td>10300.015042</td>\n",
       "      <td>13822.389087</td>\n",
       "    </tr>\n",
       "    <tr>\n",
       "      <th>Angola</th>\n",
       "      <td>4761.229638</td>\n",
       "      <td>6044.972035</td>\n",
       "    </tr>\n",
       "    <tr>\n",
       "      <th>Antigua and Barbuda</th>\n",
       "      <td>17454.549799</td>\n",
       "      <td>22400.379562</td>\n",
       "    </tr>\n",
       "    <tr>\n",
       "      <th>Arab World</th>\n",
       "      <td>10491.507721</td>\n",
       "      <td>15542.746104</td>\n",
       "    </tr>\n",
       "  </tbody>\n",
       "</table>\n",
       "</div>"
      ],
      "text/plain": [
       "Year                         1990          2017\n",
       "Country                                        \n",
       "Albania               4458.247115  11796.719185\n",
       "Algeria              10300.015042  13822.389087\n",
       "Angola                4761.229638   6044.972035\n",
       "Antigua and Barbuda  17454.549799  22400.379562\n",
       "Arab World           10491.507721  15542.746104"
      ]
     },
     "execution_count": 31,
     "metadata": {},
     "output_type": "execute_result"
    }
   ],
   "source": [
    "gdp_pivoted.head()"
   ]
  },
  {
   "cell_type": "markdown",
   "metadata": {},
   "source": [
    "15. Create a new column in gdp_pivoted named Percent_Change. This column should contain the percent change in GDP_Per_Capita from 1990 to 2017. Hint: Percent change is calculated as 100*(New Value - Old Value) / Old Value."
   ]
  },
  {
   "cell_type": "code",
   "execution_count": 32,
   "metadata": {},
   "outputs": [],
   "source": [
    "gdp_pivoted['Percent_Change'] = 100 * (gdp_pivoted[2017] - gdp_pivoted[1990]) / gdp_pivoted[1990]"
   ]
  },
  {
   "cell_type": "code",
   "execution_count": 33,
   "metadata": {},
   "outputs": [
    {
     "data": {
      "text/html": [
       "<div>\n",
       "<style scoped>\n",
       "    .dataframe tbody tr th:only-of-type {\n",
       "        vertical-align: middle;\n",
       "    }\n",
       "\n",
       "    .dataframe tbody tr th {\n",
       "        vertical-align: top;\n",
       "    }\n",
       "\n",
       "    .dataframe thead th {\n",
       "        text-align: right;\n",
       "    }\n",
       "</style>\n",
       "<table border=\"1\" class=\"dataframe\">\n",
       "  <thead>\n",
       "    <tr style=\"text-align: right;\">\n",
       "      <th>Year</th>\n",
       "      <th>1990</th>\n",
       "      <th>2017</th>\n",
       "      <th>Percent_Change</th>\n",
       "    </tr>\n",
       "    <tr>\n",
       "      <th>Country</th>\n",
       "      <th></th>\n",
       "      <th></th>\n",
       "      <th></th>\n",
       "    </tr>\n",
       "  </thead>\n",
       "  <tbody>\n",
       "    <tr>\n",
       "      <th>Albania</th>\n",
       "      <td>4458.247115</td>\n",
       "      <td>11796.719185</td>\n",
       "      <td>164.604426</td>\n",
       "    </tr>\n",
       "    <tr>\n",
       "      <th>Algeria</th>\n",
       "      <td>10300.015042</td>\n",
       "      <td>13822.389087</td>\n",
       "      <td>34.197756</td>\n",
       "    </tr>\n",
       "    <tr>\n",
       "      <th>Angola</th>\n",
       "      <td>4761.229638</td>\n",
       "      <td>6044.972035</td>\n",
       "      <td>26.962413</td>\n",
       "    </tr>\n",
       "    <tr>\n",
       "      <th>Antigua and Barbuda</th>\n",
       "      <td>17454.549799</td>\n",
       "      <td>22400.379562</td>\n",
       "      <td>28.335476</td>\n",
       "    </tr>\n",
       "    <tr>\n",
       "      <th>Arab World</th>\n",
       "      <td>10491.507721</td>\n",
       "      <td>15542.746104</td>\n",
       "      <td>48.145972</td>\n",
       "    </tr>\n",
       "  </tbody>\n",
       "</table>\n",
       "</div>"
      ],
      "text/plain": [
       "Year                         1990          2017  Percent_Change\n",
       "Country                                                        \n",
       "Albania               4458.247115  11796.719185      164.604426\n",
       "Algeria              10300.015042  13822.389087       34.197756\n",
       "Angola                4761.229638   6044.972035       26.962413\n",
       "Antigua and Barbuda  17454.549799  22400.379562       28.335476\n",
       "Arab World           10491.507721  15542.746104       48.145972"
      ]
     },
     "execution_count": 33,
     "metadata": {},
     "output_type": "execute_result"
    }
   ],
   "source": [
    "gdp_pivoted.head()"
   ]
  },
  {
   "cell_type": "markdown",
   "metadata": {},
   "source": [
    "16. How many countries experienced a negative percent change in GDP per capita from 1990 to 2017?\n",
    "\n",
    "20 countries"
   ]
  },
  {
   "cell_type": "code",
   "execution_count": 34,
   "metadata": {},
   "outputs": [
    {
     "data": {
      "text/plain": [
       "20"
      ]
     },
     "execution_count": 34,
     "metadata": {},
     "output_type": "execute_result"
    }
   ],
   "source": [
    "Neg_Percent_Change = gdp_pivoted[gdp_pivoted['Percent_Change'] < 0]\n",
    "len(Neg_Percent_Change.index) # .index returns row names; len counts these row names "
   ]
  },
  {
   "cell_type": "markdown",
   "metadata": {},
   "source": [
    "17. Which country had the highest % change in GDP per capita? \n",
    "\n",
    "Equitorial Guinea had the highest % change in GDP per capita\n",
    "\n",
    "Create a line plot showing this country's GDP per capita for all years from 1990 to 2017. Create another showing the country with the second highest % change in GDP. How do the trends in these countries compare?\n",
    "\n",
    "Bonus: Put both line charts on the same plot."
   ]
  },
  {
   "cell_type": "code",
   "execution_count": 35,
   "metadata": {},
   "outputs": [
    {
     "data": {
      "text/html": [
       "<div>\n",
       "<style scoped>\n",
       "    .dataframe tbody tr th:only-of-type {\n",
       "        vertical-align: middle;\n",
       "    }\n",
       "\n",
       "    .dataframe tbody tr th {\n",
       "        vertical-align: top;\n",
       "    }\n",
       "\n",
       "    .dataframe thead th {\n",
       "        text-align: right;\n",
       "    }\n",
       "</style>\n",
       "<table border=\"1\" class=\"dataframe\">\n",
       "  <thead>\n",
       "    <tr style=\"text-align: right;\">\n",
       "      <th>Year</th>\n",
       "      <th>1990</th>\n",
       "      <th>2017</th>\n",
       "      <th>Percent_Change</th>\n",
       "    </tr>\n",
       "    <tr>\n",
       "      <th>Country</th>\n",
       "      <th></th>\n",
       "      <th></th>\n",
       "      <th></th>\n",
       "    </tr>\n",
       "  </thead>\n",
       "  <tbody>\n",
       "    <tr>\n",
       "      <th>Equatorial Guinea</th>\n",
       "      <td>1017.764136</td>\n",
       "      <td>22298.942144</td>\n",
       "      <td>2090.973464</td>\n",
       "    </tr>\n",
       "    <tr>\n",
       "      <th>China</th>\n",
       "      <td>1521.963868</td>\n",
       "      <td>15253.993071</td>\n",
       "      <td>902.257241</td>\n",
       "    </tr>\n",
       "    <tr>\n",
       "      <th>Myanmar</th>\n",
       "      <td>730.228038</td>\n",
       "      <td>5610.324700</td>\n",
       "      <td>668.297629</td>\n",
       "    </tr>\n",
       "    <tr>\n",
       "      <th>East Asia &amp; Pacific (excluding high income)</th>\n",
       "      <td>2222.407152</td>\n",
       "      <td>13544.178535</td>\n",
       "      <td>509.437318</td>\n",
       "    </tr>\n",
       "    <tr>\n",
       "      <th>East Asia &amp; Pacific (IDA &amp; IBRD)</th>\n",
       "      <td>2246.661835</td>\n",
       "      <td>13686.880719</td>\n",
       "      <td>509.209651</td>\n",
       "    </tr>\n",
       "    <tr>\n",
       "      <th>...</th>\n",
       "      <td>...</td>\n",
       "      <td>...</td>\n",
       "      <td>...</td>\n",
       "    </tr>\n",
       "    <tr>\n",
       "      <th>Ukraine</th>\n",
       "      <td>10463.959955</td>\n",
       "      <td>7906.540301</td>\n",
       "      <td>-24.440266</td>\n",
       "    </tr>\n",
       "    <tr>\n",
       "      <th>Yemen</th>\n",
       "      <td>3425.707169</td>\n",
       "      <td>2404.422370</td>\n",
       "      <td>-29.812379</td>\n",
       "    </tr>\n",
       "    <tr>\n",
       "      <th>Burundi</th>\n",
       "      <td>1027.396660</td>\n",
       "      <td>670.777072</td>\n",
       "      <td>-34.710993</td>\n",
       "    </tr>\n",
       "    <tr>\n",
       "      <th>United Arab Emirates</th>\n",
       "      <td>112349.597967</td>\n",
       "      <td>66477.818719</td>\n",
       "      <td>-40.829500</td>\n",
       "    </tr>\n",
       "    <tr>\n",
       "      <th>Dem. Rep. Congo</th>\n",
       "      <td>1386.933242</td>\n",
       "      <td>807.752905</td>\n",
       "      <td>-41.759785</td>\n",
       "    </tr>\n",
       "  </tbody>\n",
       "</table>\n",
       "<p>209 rows × 3 columns</p>\n",
       "</div>"
      ],
      "text/plain": [
       "Year                                                  1990          2017  \\\n",
       "Country                                                                    \n",
       "Equatorial Guinea                              1017.764136  22298.942144   \n",
       "China                                          1521.963868  15253.993071   \n",
       "Myanmar                                         730.228038   5610.324700   \n",
       "East Asia & Pacific (excluding high income)    2222.407152  13544.178535   \n",
       "East Asia & Pacific (IDA & IBRD)               2246.661835  13686.880719   \n",
       "...                                                    ...           ...   \n",
       "Ukraine                                       10463.959955   7906.540301   \n",
       "Yemen                                          3425.707169   2404.422370   \n",
       "Burundi                                        1027.396660    670.777072   \n",
       "United Arab Emirates                         112349.597967  66477.818719   \n",
       "Dem. Rep. Congo                                1386.933242    807.752905   \n",
       "\n",
       "Year                                         Percent_Change  \n",
       "Country                                                      \n",
       "Equatorial Guinea                               2090.973464  \n",
       "China                                            902.257241  \n",
       "Myanmar                                          668.297629  \n",
       "East Asia & Pacific (excluding high income)      509.437318  \n",
       "East Asia & Pacific (IDA & IBRD)                 509.209651  \n",
       "...                                                     ...  \n",
       "Ukraine                                          -24.440266  \n",
       "Yemen                                            -29.812379  \n",
       "Burundi                                          -34.710993  \n",
       "United Arab Emirates                             -40.829500  \n",
       "Dem. Rep. Congo                                  -41.759785  \n",
       "\n",
       "[209 rows x 3 columns]"
      ]
     },
     "execution_count": 35,
     "metadata": {},
     "output_type": "execute_result"
    }
   ],
   "source": [
    "gdp_pivoted.sort_values(by='Percent_Change', ascending=False)"
   ]
  },
  {
   "cell_type": "code",
   "execution_count": 36,
   "metadata": {
    "scrolled": true
   },
   "outputs": [
    {
     "data": {
      "text/html": [
       "<div>\n",
       "<style scoped>\n",
       "    .dataframe tbody tr th:only-of-type {\n",
       "        vertical-align: middle;\n",
       "    }\n",
       "\n",
       "    .dataframe tbody tr th {\n",
       "        vertical-align: top;\n",
       "    }\n",
       "\n",
       "    .dataframe thead th {\n",
       "        text-align: right;\n",
       "    }\n",
       "</style>\n",
       "<table border=\"1\" class=\"dataframe\">\n",
       "  <thead>\n",
       "    <tr style=\"text-align: right;\">\n",
       "      <th></th>\n",
       "      <th>Country</th>\n",
       "      <th>Year</th>\n",
       "      <th>GDP_Per_Capita</th>\n",
       "    </tr>\n",
       "  </thead>\n",
       "  <tbody>\n",
       "    <tr>\n",
       "      <th>0</th>\n",
       "      <td>Afghanistan</td>\n",
       "      <td>2018</td>\n",
       "      <td>1734.723214</td>\n",
       "    </tr>\n",
       "    <tr>\n",
       "      <th>1</th>\n",
       "      <td>Afghanistan</td>\n",
       "      <td>2017</td>\n",
       "      <td>1758.465636</td>\n",
       "    </tr>\n",
       "    <tr>\n",
       "      <th>2</th>\n",
       "      <td>Afghanistan</td>\n",
       "      <td>2016</td>\n",
       "      <td>1757.023490</td>\n",
       "    </tr>\n",
       "    <tr>\n",
       "      <th>3</th>\n",
       "      <td>Afghanistan</td>\n",
       "      <td>2015</td>\n",
       "      <td>1766.593077</td>\n",
       "    </tr>\n",
       "    <tr>\n",
       "      <th>4</th>\n",
       "      <td>Afghanistan</td>\n",
       "      <td>2014</td>\n",
       "      <td>1795.735834</td>\n",
       "    </tr>\n",
       "  </tbody>\n",
       "</table>\n",
       "</div>"
      ],
      "text/plain": [
       "       Country  Year  GDP_Per_Capita\n",
       "0  Afghanistan  2018     1734.723214\n",
       "1  Afghanistan  2017     1758.465636\n",
       "2  Afghanistan  2016     1757.023490\n",
       "3  Afghanistan  2015     1766.593077\n",
       "4  Afghanistan  2014     1795.735834"
      ]
     },
     "execution_count": 36,
     "metadata": {},
     "output_type": "execute_result"
    }
   ],
   "source": [
    "gdp_df.head()"
   ]
  },
  {
   "cell_type": "code",
   "execution_count": 37,
   "metadata": {},
   "outputs": [
    {
     "data": {
      "text/plain": [
       "<matplotlib.axes._subplots.AxesSubplot at 0x1d11dc47be0>"
      ]
     },
     "execution_count": 37,
     "metadata": {},
     "output_type": "execute_result"
    },
    {
     "data": {
      "image/png": "[encoded data removed]",
      "text/plain": [
       "<Figure size 432x288 with 1 Axes>"
      ]
     },
     "metadata": {
      "needs_background": "light"
     },
     "output_type": "display_data"
    }
   ],
   "source": [
    "gdp_df[gdp_df['Country'].isin(['Equatorial Guinea', 'China'])].plot.line(x = 'Year', y = 'GDP_Per_Capita')"
   ]
  },
  {
   "cell_type": "markdown",
   "metadata": {},
   "source": [
    "This line looks crazy. Let's try something else"
   ]
  },
  {
   "cell_type": "code",
   "execution_count": 38,
   "metadata": {},
   "outputs": [
    {
     "data": {
      "text/html": [
       "<div>\n",
       "<style scoped>\n",
       "    .dataframe tbody tr th:only-of-type {\n",
       "        vertical-align: middle;\n",
       "    }\n",
       "\n",
       "    .dataframe tbody tr th {\n",
       "        vertical-align: top;\n",
       "    }\n",
       "\n",
       "    .dataframe thead th {\n",
       "        text-align: right;\n",
       "    }\n",
       "</style>\n",
       "<table border=\"1\" class=\"dataframe\">\n",
       "  <thead>\n",
       "    <tr style=\"text-align: right;\">\n",
       "      <th></th>\n",
       "      <th>Country</th>\n",
       "      <th>Year</th>\n",
       "      <th>GDP_Per_Capita</th>\n",
       "    </tr>\n",
       "  </thead>\n",
       "  <tbody>\n",
       "    <tr>\n",
       "      <th>0</th>\n",
       "      <td>Afghanistan</td>\n",
       "      <td>2018</td>\n",
       "      <td>1734.723214</td>\n",
       "    </tr>\n",
       "    <tr>\n",
       "      <th>1</th>\n",
       "      <td>Afghanistan</td>\n",
       "      <td>2017</td>\n",
       "      <td>1758.465636</td>\n",
       "    </tr>\n",
       "    <tr>\n",
       "      <th>2</th>\n",
       "      <td>Afghanistan</td>\n",
       "      <td>2016</td>\n",
       "      <td>1757.023490</td>\n",
       "    </tr>\n",
       "    <tr>\n",
       "      <th>3</th>\n",
       "      <td>Afghanistan</td>\n",
       "      <td>2015</td>\n",
       "      <td>1766.593077</td>\n",
       "    </tr>\n",
       "    <tr>\n",
       "      <th>4</th>\n",
       "      <td>Afghanistan</td>\n",
       "      <td>2014</td>\n",
       "      <td>1795.735834</td>\n",
       "    </tr>\n",
       "    <tr>\n",
       "      <th>...</th>\n",
       "      <td>...</td>\n",
       "      <td>...</td>\n",
       "      <td>...</td>\n",
       "    </tr>\n",
       "    <tr>\n",
       "      <th>6724</th>\n",
       "      <td>Zimbabwe</td>\n",
       "      <td>1994</td>\n",
       "      <td>2768.309953</td>\n",
       "    </tr>\n",
       "    <tr>\n",
       "      <th>6725</th>\n",
       "      <td>Zimbabwe</td>\n",
       "      <td>1993</td>\n",
       "      <td>2572.870395</td>\n",
       "    </tr>\n",
       "    <tr>\n",
       "      <th>6726</th>\n",
       "      <td>Zimbabwe</td>\n",
       "      <td>1992</td>\n",
       "      <td>2591.007534</td>\n",
       "    </tr>\n",
       "    <tr>\n",
       "      <th>6727</th>\n",
       "      <td>Zimbabwe</td>\n",
       "      <td>1991</td>\n",
       "      <td>2906.272849</td>\n",
       "    </tr>\n",
       "    <tr>\n",
       "      <th>6728</th>\n",
       "      <td>Zimbabwe</td>\n",
       "      <td>1990</td>\n",
       "      <td>2819.549467</td>\n",
       "    </tr>\n",
       "  </tbody>\n",
       "</table>\n",
       "<p>6729 rows × 3 columns</p>\n",
       "</div>"
      ],
      "text/plain": [
       "          Country  Year  GDP_Per_Capita\n",
       "0     Afghanistan  2018     1734.723214\n",
       "1     Afghanistan  2017     1758.465636\n",
       "2     Afghanistan  2016     1757.023490\n",
       "3     Afghanistan  2015     1766.593077\n",
       "4     Afghanistan  2014     1795.735834\n",
       "...           ...   ...             ...\n",
       "6724     Zimbabwe  1994     2768.309953\n",
       "6725     Zimbabwe  1993     2572.870395\n",
       "6726     Zimbabwe  1992     2591.007534\n",
       "6727     Zimbabwe  1991     2906.272849\n",
       "6728     Zimbabwe  1990     2819.549467\n",
       "\n",
       "[6729 rows x 3 columns]"
      ]
     },
     "execution_count": 38,
     "metadata": {},
     "output_type": "execute_result"
    }
   ],
   "source": [
    "gdp_df"
   ]
  },
  {
   "cell_type": "code",
   "execution_count": 39,
   "metadata": {},
   "outputs": [
    {
     "data": {
      "text/plain": [
       "<matplotlib.axes._subplots.AxesSubplot at 0x1d11dcbe190>"
      ]
     },
     "execution_count": 39,
     "metadata": {},
     "output_type": "execute_result"
    },
    {
     "data": {
      "image/png": "[encoded data removed]",
      "text/plain": [
       "<Figure size 432x288 with 1 Axes>"
      ]
     },
     "metadata": {
      "needs_background": "light"
     },
     "output_type": "display_data"
    }
   ],
   "source": [
    "gdp_df.pivot_table(values='GDP_Per_Capita', index='Year', columns='Country').reset_index().plot.line(x='Year', y=['Equatorial Guinea', 'China'])\n",
    "# reset_index resets index to range from 0-i; treats existing index as a column"
   ]
  },
  {
   "cell_type": "markdown",
   "metadata": {},
   "source": [
    "Much better! The percent change in GDP for China has been steady since 1990, but the percent change in GDP for Equatorial Guinea has spiked and fallen somewhat dramatically over the past 40 years."
   ]
  },
  {
   "cell_type": "markdown",
   "metadata": {},
   "source": [
    "18. Read in continents.csv contained in the data folder into a new dataframe called continents. We will be using this dataframe to add a new column to our dataset."
   ]
  },
  {
   "cell_type": "code",
   "execution_count": 40,
   "metadata": {},
   "outputs": [],
   "source": [
    "continents = pd.read_csv(\"../data/continents.csv\")"
   ]
  },
  {
   "cell_type": "code",
   "execution_count": 41,
   "metadata": {},
   "outputs": [
    {
     "data": {
      "text/html": [
       "<div>\n",
       "<style scoped>\n",
       "    .dataframe tbody tr th:only-of-type {\n",
       "        vertical-align: middle;\n",
       "    }\n",
       "\n",
       "    .dataframe tbody tr th {\n",
       "        vertical-align: top;\n",
       "    }\n",
       "\n",
       "    .dataframe thead th {\n",
       "        text-align: right;\n",
       "    }\n",
       "</style>\n",
       "<table border=\"1\" class=\"dataframe\">\n",
       "  <thead>\n",
       "    <tr style=\"text-align: right;\">\n",
       "      <th></th>\n",
       "      <th>Continent</th>\n",
       "      <th>Country</th>\n",
       "    </tr>\n",
       "  </thead>\n",
       "  <tbody>\n",
       "    <tr>\n",
       "      <th>0</th>\n",
       "      <td>Asia</td>\n",
       "      <td>Afghanistan</td>\n",
       "    </tr>\n",
       "    <tr>\n",
       "      <th>1</th>\n",
       "      <td>Europe</td>\n",
       "      <td>Albania</td>\n",
       "    </tr>\n",
       "    <tr>\n",
       "      <th>2</th>\n",
       "      <td>Africa</td>\n",
       "      <td>Algeria</td>\n",
       "    </tr>\n",
       "    <tr>\n",
       "      <th>3</th>\n",
       "      <td>Europe</td>\n",
       "      <td>Andorra</td>\n",
       "    </tr>\n",
       "    <tr>\n",
       "      <th>4</th>\n",
       "      <td>Africa</td>\n",
       "      <td>Angola</td>\n",
       "    </tr>\n",
       "    <tr>\n",
       "      <th>...</th>\n",
       "      <td>...</td>\n",
       "      <td>...</td>\n",
       "    </tr>\n",
       "    <tr>\n",
       "      <th>211</th>\n",
       "      <td>Asia</td>\n",
       "      <td>Vietnam</td>\n",
       "    </tr>\n",
       "    <tr>\n",
       "      <th>212</th>\n",
       "      <td>Asia</td>\n",
       "      <td>West Bank and Gaza</td>\n",
       "    </tr>\n",
       "    <tr>\n",
       "      <th>213</th>\n",
       "      <td>Asia</td>\n",
       "      <td>Yemen</td>\n",
       "    </tr>\n",
       "    <tr>\n",
       "      <th>214</th>\n",
       "      <td>Africa</td>\n",
       "      <td>Zambia</td>\n",
       "    </tr>\n",
       "    <tr>\n",
       "      <th>215</th>\n",
       "      <td>Africa</td>\n",
       "      <td>Zimbabwe</td>\n",
       "    </tr>\n",
       "  </tbody>\n",
       "</table>\n",
       "<p>216 rows × 2 columns</p>\n",
       "</div>"
      ],
      "text/plain": [
       "    Continent             Country\n",
       "0        Asia         Afghanistan\n",
       "1      Europe             Albania\n",
       "2      Africa             Algeria\n",
       "3      Europe             Andorra\n",
       "4      Africa              Angola\n",
       "..        ...                 ...\n",
       "211      Asia             Vietnam\n",
       "212      Asia  West Bank and Gaza\n",
       "213      Asia               Yemen\n",
       "214    Africa              Zambia\n",
       "215    Africa            Zimbabwe\n",
       "\n",
       "[216 rows x 2 columns]"
      ]
     },
     "execution_count": 41,
     "metadata": {},
     "output_type": "execute_result"
    }
   ],
   "source": [
    "continents"
   ]
  },
  {
   "cell_type": "markdown",
   "metadata": {},
   "source": [
    "19. Merge gdp_df and continents. Keep only the countries that appear in both data frames. Save the result back to gdp_df."
   ]
  },
  {
   "cell_type": "code",
   "execution_count": 42,
   "metadata": {},
   "outputs": [],
   "source": [
    "gdp_df = gdp_df.merge(continents, on='Country')"
   ]
  },
  {
   "cell_type": "code",
   "execution_count": 43,
   "metadata": {},
   "outputs": [
    {
     "data": {
      "text/html": [
       "<div>\n",
       "<style scoped>\n",
       "    .dataframe tbody tr th:only-of-type {\n",
       "        vertical-align: middle;\n",
       "    }\n",
       "\n",
       "    .dataframe tbody tr th {\n",
       "        vertical-align: top;\n",
       "    }\n",
       "\n",
       "    .dataframe thead th {\n",
       "        text-align: right;\n",
       "    }\n",
       "</style>\n",
       "<table border=\"1\" class=\"dataframe\">\n",
       "  <thead>\n",
       "    <tr style=\"text-align: right;\">\n",
       "      <th></th>\n",
       "      <th>Country</th>\n",
       "      <th>Year</th>\n",
       "      <th>GDP_Per_Capita</th>\n",
       "      <th>Continent</th>\n",
       "    </tr>\n",
       "  </thead>\n",
       "  <tbody>\n",
       "    <tr>\n",
       "      <th>0</th>\n",
       "      <td>Afghanistan</td>\n",
       "      <td>2018</td>\n",
       "      <td>1734.723214</td>\n",
       "      <td>Asia</td>\n",
       "    </tr>\n",
       "    <tr>\n",
       "      <th>1</th>\n",
       "      <td>Afghanistan</td>\n",
       "      <td>2017</td>\n",
       "      <td>1758.465636</td>\n",
       "      <td>Asia</td>\n",
       "    </tr>\n",
       "    <tr>\n",
       "      <th>2</th>\n",
       "      <td>Afghanistan</td>\n",
       "      <td>2016</td>\n",
       "      <td>1757.023490</td>\n",
       "      <td>Asia</td>\n",
       "    </tr>\n",
       "    <tr>\n",
       "      <th>3</th>\n",
       "      <td>Afghanistan</td>\n",
       "      <td>2015</td>\n",
       "      <td>1766.593077</td>\n",
       "      <td>Asia</td>\n",
       "    </tr>\n",
       "    <tr>\n",
       "      <th>4</th>\n",
       "      <td>Afghanistan</td>\n",
       "      <td>2014</td>\n",
       "      <td>1795.735834</td>\n",
       "      <td>Asia</td>\n",
       "    </tr>\n",
       "    <tr>\n",
       "      <th>...</th>\n",
       "      <td>...</td>\n",
       "      <td>...</td>\n",
       "      <td>...</td>\n",
       "      <td>...</td>\n",
       "    </tr>\n",
       "    <tr>\n",
       "      <th>5329</th>\n",
       "      <td>Zimbabwe</td>\n",
       "      <td>1994</td>\n",
       "      <td>2768.309953</td>\n",
       "      <td>Africa</td>\n",
       "    </tr>\n",
       "    <tr>\n",
       "      <th>5330</th>\n",
       "      <td>Zimbabwe</td>\n",
       "      <td>1993</td>\n",
       "      <td>2572.870395</td>\n",
       "      <td>Africa</td>\n",
       "    </tr>\n",
       "    <tr>\n",
       "      <th>5331</th>\n",
       "      <td>Zimbabwe</td>\n",
       "      <td>1992</td>\n",
       "      <td>2591.007534</td>\n",
       "      <td>Africa</td>\n",
       "    </tr>\n",
       "    <tr>\n",
       "      <th>5332</th>\n",
       "      <td>Zimbabwe</td>\n",
       "      <td>1991</td>\n",
       "      <td>2906.272849</td>\n",
       "      <td>Africa</td>\n",
       "    </tr>\n",
       "    <tr>\n",
       "      <th>5333</th>\n",
       "      <td>Zimbabwe</td>\n",
       "      <td>1990</td>\n",
       "      <td>2819.549467</td>\n",
       "      <td>Africa</td>\n",
       "    </tr>\n",
       "  </tbody>\n",
       "</table>\n",
       "<p>5334 rows × 4 columns</p>\n",
       "</div>"
      ],
      "text/plain": [
       "          Country  Year  GDP_Per_Capita Continent\n",
       "0     Afghanistan  2018     1734.723214      Asia\n",
       "1     Afghanistan  2017     1758.465636      Asia\n",
       "2     Afghanistan  2016     1757.023490      Asia\n",
       "3     Afghanistan  2015     1766.593077      Asia\n",
       "4     Afghanistan  2014     1795.735834      Asia\n",
       "...           ...   ...             ...       ...\n",
       "5329     Zimbabwe  1994     2768.309953    Africa\n",
       "5330     Zimbabwe  1993     2572.870395    Africa\n",
       "5331     Zimbabwe  1992     2591.007534    Africa\n",
       "5332     Zimbabwe  1991     2906.272849    Africa\n",
       "5333     Zimbabwe  1990     2819.549467    Africa\n",
       "\n",
       "[5334 rows x 4 columns]"
      ]
     },
     "execution_count": 43,
     "metadata": {},
     "output_type": "execute_result"
    }
   ],
   "source": [
    "gdp_df"
   ]
  },
  {
   "cell_type": "markdown",
   "metadata": {},
   "source": [
    "20. Determine the number of countries per continent. Create a bar chart showing this."
   ]
  },
  {
   "cell_type": "code",
   "execution_count": 44,
   "metadata": {},
   "outputs": [
    {
     "data": {
      "text/plain": [
       "Continent\n",
       "Africa           51\n",
       "Asia             44\n",
       "Europe           45\n",
       "North America    26\n",
       "Oceania          14\n",
       "South America    12\n",
       "Name: Country, dtype: int64"
      ]
     },
     "execution_count": 44,
     "metadata": {},
     "output_type": "execute_result"
    }
   ],
   "source": [
    "gdp_df.groupby('Continent').Country.nunique()"
   ]
  },
  {
   "cell_type": "code",
   "execution_count": 45,
   "metadata": {},
   "outputs": [
    {
     "data": {
      "text/plain": [
       "<matplotlib.axes._subplots.AxesSubplot at 0x1d11dd10f40>"
      ]
     },
     "execution_count": 45,
     "metadata": {},
     "output_type": "execute_result"
    },
    {
     "data": {
      "image/png": "[encoded data removed]",
      "text/plain": [
       "<Figure size 432x288 with 1 Axes>"
      ]
     },
     "metadata": {
      "needs_background": "light"
     },
     "output_type": "display_data"
    }
   ],
   "source": [
    "gdp_df.groupby('Continent').Country.nunique().plot(kind=\"bar\")\n",
    "# nunique() gives unique count"
   ]
  },
  {
   "cell_type": "markdown",
   "metadata": {},
   "source": [
    "21. Create a seaborn boxplot showing GDP per capita in 2014 split out by continent. What do you notice?"
   ]
  },
  {
   "cell_type": "code",
   "execution_count": 46,
   "metadata": {},
   "outputs": [],
   "source": [
    "gdp_2014_update = gdp_df[gdp_df['Year'] == 2014]"
   ]
  },
  {
   "cell_type": "code",
   "execution_count": 47,
   "metadata": {},
   "outputs": [
    {
     "data": {
      "text/plain": [
       "<matplotlib.axes._subplots.AxesSubplot at 0x1d11dd15c40>"
      ]
     },
     "execution_count": 47,
     "metadata": {},
     "output_type": "execute_result"
    },
    {
     "data": {
      "image/png": "[encoded data removed]",
      "text/plain": [
       "<Figure size 432x288 with 1 Axes>"
      ]
     },
     "metadata": {
      "needs_background": "light"
     },
     "output_type": "display_data"
    }
   ],
   "source": [
    "sns.boxplot(x='Continent', y='GDP_Per_Capita', data=gdp_2014_update)"
   ]
  },
  {
   "cell_type": "markdown",
   "metadata": {},
   "source": [
    "The IQR for Asia is much wider than most. There are quite a few outliers for countries in Africa."
   ]
  },
  {
   "cell_type": "markdown",
   "metadata": {},
   "source": [
    "22. Read in internet_use.csv into a DataFrame called internet_df. You will most likely get an error message when doing this - figure out what is going wrong and fix it. Take a look at the first and last five rows and make any corrections to your read_csv() call to fix this. Again, do not modify the original datasets."
   ]
  },
  {
   "cell_type": "code",
   "execution_count": 48,
   "metadata": {},
   "outputs": [],
   "source": [
    "internet_df = pd.read_csv(\"../data/internet_use.csv\", nrows=4495)"
   ]
  },
  {
   "cell_type": "code",
   "execution_count": 49,
   "metadata": {},
   "outputs": [
    {
     "data": {
      "text/html": [
       "<div>\n",
       "<style scoped>\n",
       "    .dataframe tbody tr th:only-of-type {\n",
       "        vertical-align: middle;\n",
       "    }\n",
       "\n",
       "    .dataframe tbody tr th {\n",
       "        vertical-align: top;\n",
       "    }\n",
       "\n",
       "    .dataframe thead th {\n",
       "        text-align: right;\n",
       "    }\n",
       "</style>\n",
       "<table border=\"1\" class=\"dataframe\">\n",
       "  <thead>\n",
       "    <tr style=\"text-align: right;\">\n",
       "      <th></th>\n",
       "      <th>Country or Area</th>\n",
       "      <th>Year</th>\n",
       "      <th>Value</th>\n",
       "      <th>Value Footnotes</th>\n",
       "    </tr>\n",
       "  </thead>\n",
       "  <tbody>\n",
       "    <tr>\n",
       "      <th>0</th>\n",
       "      <td>Afghanistan</td>\n",
       "      <td>2014</td>\n",
       "      <td>6.390000</td>\n",
       "      <td>NaN</td>\n",
       "    </tr>\n",
       "    <tr>\n",
       "      <th>1</th>\n",
       "      <td>Afghanistan</td>\n",
       "      <td>2013</td>\n",
       "      <td>5.900000</td>\n",
       "      <td>NaN</td>\n",
       "    </tr>\n",
       "    <tr>\n",
       "      <th>2</th>\n",
       "      <td>Afghanistan</td>\n",
       "      <td>2012</td>\n",
       "      <td>5.454545</td>\n",
       "      <td>NaN</td>\n",
       "    </tr>\n",
       "    <tr>\n",
       "      <th>3</th>\n",
       "      <td>Afghanistan</td>\n",
       "      <td>2011</td>\n",
       "      <td>5.000000</td>\n",
       "      <td>NaN</td>\n",
       "    </tr>\n",
       "    <tr>\n",
       "      <th>4</th>\n",
       "      <td>Afghanistan</td>\n",
       "      <td>2010</td>\n",
       "      <td>4.000000</td>\n",
       "      <td>NaN</td>\n",
       "    </tr>\n",
       "  </tbody>\n",
       "</table>\n",
       "</div>"
      ],
      "text/plain": [
       "  Country or Area  Year     Value  Value Footnotes\n",
       "0     Afghanistan  2014  6.390000              NaN\n",
       "1     Afghanistan  2013  5.900000              NaN\n",
       "2     Afghanistan  2012  5.454545              NaN\n",
       "3     Afghanistan  2011  5.000000              NaN\n",
       "4     Afghanistan  2010  4.000000              NaN"
      ]
     },
     "execution_count": 49,
     "metadata": {},
     "output_type": "execute_result"
    }
   ],
   "source": [
    "internet_df.head()"
   ]
  },
  {
   "cell_type": "code",
   "execution_count": 50,
   "metadata": {},
   "outputs": [
    {
     "data": {
      "text/html": [
       "<div>\n",
       "<style scoped>\n",
       "    .dataframe tbody tr th:only-of-type {\n",
       "        vertical-align: middle;\n",
       "    }\n",
       "\n",
       "    .dataframe tbody tr th {\n",
       "        vertical-align: top;\n",
       "    }\n",
       "\n",
       "    .dataframe thead th {\n",
       "        text-align: right;\n",
       "    }\n",
       "</style>\n",
       "<table border=\"1\" class=\"dataframe\">\n",
       "  <thead>\n",
       "    <tr style=\"text-align: right;\">\n",
       "      <th></th>\n",
       "      <th>Country or Area</th>\n",
       "      <th>Year</th>\n",
       "      <th>Value</th>\n",
       "      <th>Value Footnotes</th>\n",
       "    </tr>\n",
       "  </thead>\n",
       "  <tbody>\n",
       "    <tr>\n",
       "      <th>4490</th>\n",
       "      <td>Zimbabwe</td>\n",
       "      <td>1997</td>\n",
       "      <td>0.033080</td>\n",
       "      <td>NaN</td>\n",
       "    </tr>\n",
       "    <tr>\n",
       "      <th>4491</th>\n",
       "      <td>Zimbabwe</td>\n",
       "      <td>1996</td>\n",
       "      <td>0.016790</td>\n",
       "      <td>NaN</td>\n",
       "    </tr>\n",
       "    <tr>\n",
       "      <th>4492</th>\n",
       "      <td>Zimbabwe</td>\n",
       "      <td>1995</td>\n",
       "      <td>0.007684</td>\n",
       "      <td>NaN</td>\n",
       "    </tr>\n",
       "    <tr>\n",
       "      <th>4493</th>\n",
       "      <td>Zimbabwe</td>\n",
       "      <td>1994</td>\n",
       "      <td>0.001739</td>\n",
       "      <td>NaN</td>\n",
       "    </tr>\n",
       "    <tr>\n",
       "      <th>4494</th>\n",
       "      <td>Zimbabwe</td>\n",
       "      <td>1990</td>\n",
       "      <td>0.000000</td>\n",
       "      <td>NaN</td>\n",
       "    </tr>\n",
       "  </tbody>\n",
       "</table>\n",
       "</div>"
      ],
      "text/plain": [
       "     Country or Area  Year     Value  Value Footnotes\n",
       "4490        Zimbabwe  1997  0.033080              NaN\n",
       "4491        Zimbabwe  1996  0.016790              NaN\n",
       "4492        Zimbabwe  1995  0.007684              NaN\n",
       "4493        Zimbabwe  1994  0.001739              NaN\n",
       "4494        Zimbabwe  1990  0.000000              NaN"
      ]
     },
     "execution_count": 50,
     "metadata": {},
     "output_type": "execute_result"
    }
   ],
   "source": [
    "internet_df.tail()"
   ]
  },
  {
   "cell_type": "markdown",
   "metadata": {},
   "source": [
    "23. Drop the Value Footnotes column and then rename the columns to ‘Country’, ‘Year’, and ‘Internet_Users_Pct’."
   ]
  },
  {
   "cell_type": "code",
   "execution_count": 51,
   "metadata": {},
   "outputs": [
    {
     "name": "stdout",
     "output_type": "stream",
     "text": [
      "<class 'pandas.core.frame.DataFrame'>\n",
      "RangeIndex: 4495 entries, 0 to 4494\n",
      "Data columns (total 4 columns):\n",
      " #   Column           Non-Null Count  Dtype  \n",
      "---  ------           --------------  -----  \n",
      " 0   Country or Area  4495 non-null   object \n",
      " 1   Year             4495 non-null   int64  \n",
      " 2   Value            4495 non-null   float64\n",
      " 3   Value Footnotes  948 non-null    float64\n",
      "dtypes: float64(2), int64(1), object(1)\n",
      "memory usage: 140.6+ KB\n"
     ]
    }
   ],
   "source": [
    "internet_df.info()"
   ]
  },
  {
   "cell_type": "code",
   "execution_count": 52,
   "metadata": {},
   "outputs": [],
   "source": [
    "internet_df = internet_df.drop(columns = \"Value Footnotes\")"
   ]
  },
  {
   "cell_type": "code",
   "execution_count": 53,
   "metadata": {},
   "outputs": [
    {
     "data": {
      "text/html": [
       "<div>\n",
       "<style scoped>\n",
       "    .dataframe tbody tr th:only-of-type {\n",
       "        vertical-align: middle;\n",
       "    }\n",
       "\n",
       "    .dataframe tbody tr th {\n",
       "        vertical-align: top;\n",
       "    }\n",
       "\n",
       "    .dataframe thead th {\n",
       "        text-align: right;\n",
       "    }\n",
       "</style>\n",
       "<table border=\"1\" class=\"dataframe\">\n",
       "  <thead>\n",
       "    <tr style=\"text-align: right;\">\n",
       "      <th></th>\n",
       "      <th>Country or Area</th>\n",
       "      <th>Year</th>\n",
       "      <th>Value</th>\n",
       "    </tr>\n",
       "  </thead>\n",
       "  <tbody>\n",
       "    <tr>\n",
       "      <th>0</th>\n",
       "      <td>Afghanistan</td>\n",
       "      <td>2014</td>\n",
       "      <td>6.390000</td>\n",
       "    </tr>\n",
       "    <tr>\n",
       "      <th>1</th>\n",
       "      <td>Afghanistan</td>\n",
       "      <td>2013</td>\n",
       "      <td>5.900000</td>\n",
       "    </tr>\n",
       "    <tr>\n",
       "      <th>2</th>\n",
       "      <td>Afghanistan</td>\n",
       "      <td>2012</td>\n",
       "      <td>5.454545</td>\n",
       "    </tr>\n",
       "    <tr>\n",
       "      <th>3</th>\n",
       "      <td>Afghanistan</td>\n",
       "      <td>2011</td>\n",
       "      <td>5.000000</td>\n",
       "    </tr>\n",
       "    <tr>\n",
       "      <th>4</th>\n",
       "      <td>Afghanistan</td>\n",
       "      <td>2010</td>\n",
       "      <td>4.000000</td>\n",
       "    </tr>\n",
       "  </tbody>\n",
       "</table>\n",
       "</div>"
      ],
      "text/plain": [
       "  Country or Area  Year     Value\n",
       "0     Afghanistan  2014  6.390000\n",
       "1     Afghanistan  2013  5.900000\n",
       "2     Afghanistan  2012  5.454545\n",
       "3     Afghanistan  2011  5.000000\n",
       "4     Afghanistan  2010  4.000000"
      ]
     },
     "execution_count": 53,
     "metadata": {},
     "output_type": "execute_result"
    }
   ],
   "source": [
    "internet_df.head()"
   ]
  },
  {
   "cell_type": "code",
   "execution_count": 54,
   "metadata": {},
   "outputs": [],
   "source": [
    "internet_df = internet_df.rename(columns={'Country or Area': 'Country', 'Value': 'Internet_Users_Pct'})"
   ]
  },
  {
   "cell_type": "code",
   "execution_count": 55,
   "metadata": {},
   "outputs": [
    {
     "data": {
      "text/html": [
       "<div>\n",
       "<style scoped>\n",
       "    .dataframe tbody tr th:only-of-type {\n",
       "        vertical-align: middle;\n",
       "    }\n",
       "\n",
       "    .dataframe tbody tr th {\n",
       "        vertical-align: top;\n",
       "    }\n",
       "\n",
       "    .dataframe thead th {\n",
       "        text-align: right;\n",
       "    }\n",
       "</style>\n",
       "<table border=\"1\" class=\"dataframe\">\n",
       "  <thead>\n",
       "    <tr style=\"text-align: right;\">\n",
       "      <th></th>\n",
       "      <th>Country</th>\n",
       "      <th>Year</th>\n",
       "      <th>Internet_Users_Pct</th>\n",
       "    </tr>\n",
       "  </thead>\n",
       "  <tbody>\n",
       "    <tr>\n",
       "      <th>0</th>\n",
       "      <td>Afghanistan</td>\n",
       "      <td>2014</td>\n",
       "      <td>6.390000</td>\n",
       "    </tr>\n",
       "    <tr>\n",
       "      <th>1</th>\n",
       "      <td>Afghanistan</td>\n",
       "      <td>2013</td>\n",
       "      <td>5.900000</td>\n",
       "    </tr>\n",
       "    <tr>\n",
       "      <th>2</th>\n",
       "      <td>Afghanistan</td>\n",
       "      <td>2012</td>\n",
       "      <td>5.454545</td>\n",
       "    </tr>\n",
       "    <tr>\n",
       "      <th>3</th>\n",
       "      <td>Afghanistan</td>\n",
       "      <td>2011</td>\n",
       "      <td>5.000000</td>\n",
       "    </tr>\n",
       "    <tr>\n",
       "      <th>4</th>\n",
       "      <td>Afghanistan</td>\n",
       "      <td>2010</td>\n",
       "      <td>4.000000</td>\n",
       "    </tr>\n",
       "    <tr>\n",
       "      <th>...</th>\n",
       "      <td>...</td>\n",
       "      <td>...</td>\n",
       "      <td>...</td>\n",
       "    </tr>\n",
       "    <tr>\n",
       "      <th>4490</th>\n",
       "      <td>Zimbabwe</td>\n",
       "      <td>1997</td>\n",
       "      <td>0.033080</td>\n",
       "    </tr>\n",
       "    <tr>\n",
       "      <th>4491</th>\n",
       "      <td>Zimbabwe</td>\n",
       "      <td>1996</td>\n",
       "      <td>0.016790</td>\n",
       "    </tr>\n",
       "    <tr>\n",
       "      <th>4492</th>\n",
       "      <td>Zimbabwe</td>\n",
       "      <td>1995</td>\n",
       "      <td>0.007684</td>\n",
       "    </tr>\n",
       "    <tr>\n",
       "      <th>4493</th>\n",
       "      <td>Zimbabwe</td>\n",
       "      <td>1994</td>\n",
       "      <td>0.001739</td>\n",
       "    </tr>\n",
       "    <tr>\n",
       "      <th>4494</th>\n",
       "      <td>Zimbabwe</td>\n",
       "      <td>1990</td>\n",
       "      <td>0.000000</td>\n",
       "    </tr>\n",
       "  </tbody>\n",
       "</table>\n",
       "<p>4495 rows × 3 columns</p>\n",
       "</div>"
      ],
      "text/plain": [
       "          Country  Year  Internet_Users_Pct\n",
       "0     Afghanistan  2014            6.390000\n",
       "1     Afghanistan  2013            5.900000\n",
       "2     Afghanistan  2012            5.454545\n",
       "3     Afghanistan  2011            5.000000\n",
       "4     Afghanistan  2010            4.000000\n",
       "...           ...   ...                 ...\n",
       "4490     Zimbabwe  1997            0.033080\n",
       "4491     Zimbabwe  1996            0.016790\n",
       "4492     Zimbabwe  1995            0.007684\n",
       "4493     Zimbabwe  1994            0.001739\n",
       "4494     Zimbabwe  1990            0.000000\n",
       "\n",
       "[4495 rows x 3 columns]"
      ]
     },
     "execution_count": 55,
     "metadata": {},
     "output_type": "execute_result"
    }
   ],
   "source": [
    "internet_df"
   ]
  },
  {
   "cell_type": "markdown",
   "metadata": {},
   "source": [
    "24. How many rows and columns does this new dataset have? What are the types of its columns? Ensure that the Internet_Users_Pct column is a numeric data type and fix it if it is not.  \n",
    "\n",
    "This new dataset has 4495 rows and 3 columns"
   ]
  },
  {
   "cell_type": "code",
   "execution_count": 56,
   "metadata": {},
   "outputs": [
    {
     "name": "stdout",
     "output_type": "stream",
     "text": [
      "<class 'pandas.core.frame.DataFrame'>\n",
      "RangeIndex: 4495 entries, 0 to 4494\n",
      "Data columns (total 3 columns):\n",
      " #   Column              Non-Null Count  Dtype  \n",
      "---  ------              --------------  -----  \n",
      " 0   Country             4495 non-null   object \n",
      " 1   Year                4495 non-null   int64  \n",
      " 2   Internet_Users_Pct  4495 non-null   float64\n",
      "dtypes: float64(1), int64(1), object(1)\n",
      "memory usage: 105.5+ KB\n"
     ]
    }
   ],
   "source": [
    "internet_df.info()"
   ]
  },
  {
   "cell_type": "markdown",
   "metadata": {},
   "source": [
    "25. What is the first year that has a nonzero internet users percentage reported? What is the general trend in internet users percentage over the years. Pick a visualization that you think illustrates this trend well."
   ]
  },
  {
   "cell_type": "code",
   "execution_count": 57,
   "metadata": {},
   "outputs": [
    {
     "data": {
      "text/plain": [
       "Country               Zimbabwe\n",
       "Year                      2014\n",
       "Internet_Users_Pct       98.16\n",
       "dtype: object"
      ]
     },
     "execution_count": 57,
     "metadata": {},
     "output_type": "execute_result"
    }
   ],
   "source": [
    "internet_df[internet_df['Internet_Users_Pct'] > 0].max() \n",
    "# returns largest values for each column (but not necessarily the same row)"
   ]
  },
  {
   "cell_type": "code",
   "execution_count": 58,
   "metadata": {},
   "outputs": [
    {
     "data": {
      "text/plain": [
       "1990"
      ]
     },
     "execution_count": 58,
     "metadata": {},
     "output_type": "execute_result"
    }
   ],
   "source": [
    "internet_df[internet_df['Internet_Users_Pct'] > 0]['Year'].min()"
   ]
  },
  {
   "cell_type": "code",
   "execution_count": 59,
   "metadata": {},
   "outputs": [
    {
     "data": {
      "text/html": [
       "<div>\n",
       "<style scoped>\n",
       "    .dataframe tbody tr th:only-of-type {\n",
       "        vertical-align: middle;\n",
       "    }\n",
       "\n",
       "    .dataframe tbody tr th {\n",
       "        vertical-align: top;\n",
       "    }\n",
       "\n",
       "    .dataframe thead th {\n",
       "        text-align: right;\n",
       "    }\n",
       "</style>\n",
       "<table border=\"1\" class=\"dataframe\">\n",
       "  <thead>\n",
       "    <tr style=\"text-align: right;\">\n",
       "      <th></th>\n",
       "      <th>Country</th>\n",
       "      <th>Year</th>\n",
       "      <th>Internet_Users_Pct</th>\n",
       "    </tr>\n",
       "  </thead>\n",
       "  <tbody>\n",
       "    <tr>\n",
       "      <th>2048</th>\n",
       "      <td>Italy</td>\n",
       "      <td>1990</td>\n",
       "      <td>0.017545</td>\n",
       "    </tr>\n",
       "    <tr>\n",
       "      <th>1107</th>\n",
       "      <td>Denmark</td>\n",
       "      <td>1990</td>\n",
       "      <td>0.097277</td>\n",
       "    </tr>\n",
       "    <tr>\n",
       "      <th>375</th>\n",
       "      <td>Belgium</td>\n",
       "      <td>1990</td>\n",
       "      <td>0.001007</td>\n",
       "    </tr>\n",
       "    <tr>\n",
       "      <th>1388</th>\n",
       "      <td>Finland</td>\n",
       "      <td>1990</td>\n",
       "      <td>0.401088</td>\n",
       "    </tr>\n",
       "    <tr>\n",
       "      <th>4301</th>\n",
       "      <td>United States</td>\n",
       "      <td>1990</td>\n",
       "      <td>0.784729</td>\n",
       "    </tr>\n",
       "    <tr>\n",
       "      <th>3874</th>\n",
       "      <td>Switzerland</td>\n",
       "      <td>1990</td>\n",
       "      <td>0.595714</td>\n",
       "    </tr>\n",
       "    <tr>\n",
       "      <th>2217</th>\n",
       "      <td>Korea (Rep. of)</td>\n",
       "      <td>1990</td>\n",
       "      <td>0.023265</td>\n",
       "    </tr>\n",
       "    <tr>\n",
       "      <th>3040</th>\n",
       "      <td>Norway</td>\n",
       "      <td>1990</td>\n",
       "      <td>0.707299</td>\n",
       "    </tr>\n",
       "    <tr>\n",
       "      <th>2095</th>\n",
       "      <td>Japan</td>\n",
       "      <td>1990</td>\n",
       "      <td>0.020294</td>\n",
       "    </tr>\n",
       "    <tr>\n",
       "      <th>3849</th>\n",
       "      <td>Sweden</td>\n",
       "      <td>1990</td>\n",
       "      <td>0.584192</td>\n",
       "    </tr>\n",
       "    <tr>\n",
       "      <th>1413</th>\n",
       "      <td>France</td>\n",
       "      <td>1990</td>\n",
       "      <td>0.052778</td>\n",
       "    </tr>\n",
       "    <tr>\n",
       "      <th>2904</th>\n",
       "      <td>Netherlands</td>\n",
       "      <td>1990</td>\n",
       "      <td>0.334387</td>\n",
       "    </tr>\n",
       "    <tr>\n",
       "      <th>229</th>\n",
       "      <td>Austria</td>\n",
       "      <td>1990</td>\n",
       "      <td>0.130369</td>\n",
       "    </tr>\n",
       "    <tr>\n",
       "      <th>2023</th>\n",
       "      <td>Israel</td>\n",
       "      <td>1990</td>\n",
       "      <td>0.110774</td>\n",
       "    </tr>\n",
       "    <tr>\n",
       "      <th>4276</th>\n",
       "      <td>United Kingdom</td>\n",
       "      <td>1990</td>\n",
       "      <td>0.087355</td>\n",
       "    </tr>\n",
       "    <tr>\n",
       "      <th>1535</th>\n",
       "      <td>Germany</td>\n",
       "      <td>1990</td>\n",
       "      <td>0.125892</td>\n",
       "    </tr>\n",
       "    <tr>\n",
       "      <th>204</th>\n",
       "      <td>Australia</td>\n",
       "      <td>1990</td>\n",
       "      <td>0.585095</td>\n",
       "    </tr>\n",
       "    <tr>\n",
       "      <th>3720</th>\n",
       "      <td>Spain</td>\n",
       "      <td>1990</td>\n",
       "      <td>0.012874</td>\n",
       "    </tr>\n",
       "    <tr>\n",
       "      <th>728</th>\n",
       "      <td>Canada</td>\n",
       "      <td>1990</td>\n",
       "      <td>0.361000</td>\n",
       "    </tr>\n",
       "    <tr>\n",
       "      <th>1534</th>\n",
       "      <td>Germany</td>\n",
       "      <td>1991</td>\n",
       "      <td>0.250274</td>\n",
       "    </tr>\n",
       "    <tr>\n",
       "      <th>2216</th>\n",
       "      <td>Korea (Rep. of)</td>\n",
       "      <td>1991</td>\n",
       "      <td>0.046124</td>\n",
       "    </tr>\n",
       "    <tr>\n",
       "      <th>2047</th>\n",
       "      <td>Italy</td>\n",
       "      <td>1991</td>\n",
       "      <td>0.035063</td>\n",
       "    </tr>\n",
       "    <tr>\n",
       "      <th>1889</th>\n",
       "      <td>Iceland</td>\n",
       "      <td>1991</td>\n",
       "      <td>0.505129</td>\n",
       "    </tr>\n",
       "    <tr>\n",
       "      <th>3039</th>\n",
       "      <td>Norway</td>\n",
       "      <td>1991</td>\n",
       "      <td>1.407395</td>\n",
       "    </tr>\n",
       "    <tr>\n",
       "      <th>1597</th>\n",
       "      <td>Greece</td>\n",
       "      <td>1991</td>\n",
       "      <td>0.048789</td>\n",
       "    </tr>\n",
       "    <tr>\n",
       "      <th>3691</th>\n",
       "      <td>South Africa</td>\n",
       "      <td>1991</td>\n",
       "      <td>0.013284</td>\n",
       "    </tr>\n",
       "    <tr>\n",
       "      <th>4300</th>\n",
       "      <td>United States</td>\n",
       "      <td>1991</td>\n",
       "      <td>1.163194</td>\n",
       "    </tr>\n",
       "    <tr>\n",
       "      <th>2685</th>\n",
       "      <td>Mexico</td>\n",
       "      <td>1991</td>\n",
       "      <td>0.005881</td>\n",
       "    </tr>\n",
       "    <tr>\n",
       "      <th>1387</th>\n",
       "      <td>Finland</td>\n",
       "      <td>1991</td>\n",
       "      <td>1.397439</td>\n",
       "    </tr>\n",
       "    <tr>\n",
       "      <th>374</th>\n",
       "      <td>Belgium</td>\n",
       "      <td>1991</td>\n",
       "      <td>0.020073</td>\n",
       "    </tr>\n",
       "    <tr>\n",
       "      <th>1106</th>\n",
       "      <td>Denmark</td>\n",
       "      <td>1991</td>\n",
       "      <td>0.194057</td>\n",
       "    </tr>\n",
       "    <tr>\n",
       "      <th>3873</th>\n",
       "      <td>Switzerland</td>\n",
       "      <td>1991</td>\n",
       "      <td>1.179956</td>\n",
       "    </tr>\n",
       "    <tr>\n",
       "      <th>557</th>\n",
       "      <td>Brazil</td>\n",
       "      <td>1991</td>\n",
       "      <td>0.003288</td>\n",
       "    </tr>\n",
       "    <tr>\n",
       "      <th>1864</th>\n",
       "      <td>Hungary</td>\n",
       "      <td>1991</td>\n",
       "      <td>0.003383</td>\n",
       "    </tr>\n",
       "    <tr>\n",
       "      <th>3230</th>\n",
       "      <td>Poland</td>\n",
       "      <td>1991</td>\n",
       "      <td>0.005229</td>\n",
       "    </tr>\n",
       "    <tr>\n",
       "      <th>228</th>\n",
       "      <td>Austria</td>\n",
       "      <td>1991</td>\n",
       "      <td>0.259082</td>\n",
       "    </tr>\n",
       "    <tr>\n",
       "      <th>727</th>\n",
       "      <td>Canada</td>\n",
       "      <td>1991</td>\n",
       "      <td>0.570386</td>\n",
       "    </tr>\n",
       "    <tr>\n",
       "      <th>2903</th>\n",
       "      <td>Netherlands</td>\n",
       "      <td>1991</td>\n",
       "      <td>0.531496</td>\n",
       "    </tr>\n",
       "    <tr>\n",
       "      <th>2022</th>\n",
       "      <td>Israel</td>\n",
       "      <td>1991</td>\n",
       "      <td>0.214624</td>\n",
       "    </tr>\n",
       "    <tr>\n",
       "      <th>3579</th>\n",
       "      <td>Singapore</td>\n",
       "      <td>1991</td>\n",
       "      <td>0.161504</td>\n",
       "    </tr>\n",
       "    <tr>\n",
       "      <th>3999</th>\n",
       "      <td>Thailand</td>\n",
       "      <td>1991</td>\n",
       "      <td>0.000052</td>\n",
       "    </tr>\n",
       "    <tr>\n",
       "      <th>203</th>\n",
       "      <td>Australia</td>\n",
       "      <td>1991</td>\n",
       "      <td>1.097204</td>\n",
       "    </tr>\n",
       "    <tr>\n",
       "      <th>2094</th>\n",
       "      <td>Japan</td>\n",
       "      <td>1991</td>\n",
       "      <td>0.040438</td>\n",
       "    </tr>\n",
       "    <tr>\n",
       "      <th>1839</th>\n",
       "      <td>Hong Kong, China</td>\n",
       "      <td>1991</td>\n",
       "      <td>0.120955</td>\n",
       "    </tr>\n",
       "    <tr>\n",
       "      <th>1412</th>\n",
       "      <td>France</td>\n",
       "      <td>1991</td>\n",
       "      <td>0.140114</td>\n",
       "    </tr>\n",
       "    <tr>\n",
       "      <th>4275</th>\n",
       "      <td>United Kingdom</td>\n",
       "      <td>1991</td>\n",
       "      <td>0.174231</td>\n",
       "    </tr>\n",
       "    <tr>\n",
       "      <th>3255</th>\n",
       "      <td>Portugal</td>\n",
       "      <td>1991</td>\n",
       "      <td>0.100231</td>\n",
       "    </tr>\n",
       "    <tr>\n",
       "      <th>3848</th>\n",
       "      <td>Sweden</td>\n",
       "      <td>1991</td>\n",
       "      <td>1.160519</td>\n",
       "    </tr>\n",
       "    <tr>\n",
       "      <th>3719</th>\n",
       "      <td>Spain</td>\n",
       "      <td>1991</td>\n",
       "      <td>0.025686</td>\n",
       "    </tr>\n",
       "    <tr>\n",
       "      <th>1997</th>\n",
       "      <td>Ireland</td>\n",
       "      <td>1991</td>\n",
       "      <td>0.056796</td>\n",
       "    </tr>\n",
       "  </tbody>\n",
       "</table>\n",
       "</div>"
      ],
      "text/plain": [
       "               Country  Year  Internet_Users_Pct\n",
       "2048             Italy  1990            0.017545\n",
       "1107           Denmark  1990            0.097277\n",
       "375            Belgium  1990            0.001007\n",
       "1388           Finland  1990            0.401088\n",
       "4301     United States  1990            0.784729\n",
       "3874       Switzerland  1990            0.595714\n",
       "2217   Korea (Rep. of)  1990            0.023265\n",
       "3040            Norway  1990            0.707299\n",
       "2095             Japan  1990            0.020294\n",
       "3849            Sweden  1990            0.584192\n",
       "1413            France  1990            0.052778\n",
       "2904       Netherlands  1990            0.334387\n",
       "229            Austria  1990            0.130369\n",
       "2023            Israel  1990            0.110774\n",
       "4276    United Kingdom  1990            0.087355\n",
       "1535           Germany  1990            0.125892\n",
       "204          Australia  1990            0.585095\n",
       "3720             Spain  1990            0.012874\n",
       "728             Canada  1990            0.361000\n",
       "1534           Germany  1991            0.250274\n",
       "2216   Korea (Rep. of)  1991            0.046124\n",
       "2047             Italy  1991            0.035063\n",
       "1889           Iceland  1991            0.505129\n",
       "3039            Norway  1991            1.407395\n",
       "1597            Greece  1991            0.048789\n",
       "3691      South Africa  1991            0.013284\n",
       "4300     United States  1991            1.163194\n",
       "2685            Mexico  1991            0.005881\n",
       "1387           Finland  1991            1.397439\n",
       "374            Belgium  1991            0.020073\n",
       "1106           Denmark  1991            0.194057\n",
       "3873       Switzerland  1991            1.179956\n",
       "557             Brazil  1991            0.003288\n",
       "1864           Hungary  1991            0.003383\n",
       "3230            Poland  1991            0.005229\n",
       "228            Austria  1991            0.259082\n",
       "727             Canada  1991            0.570386\n",
       "2903       Netherlands  1991            0.531496\n",
       "2022            Israel  1991            0.214624\n",
       "3579         Singapore  1991            0.161504\n",
       "3999          Thailand  1991            0.000052\n",
       "203          Australia  1991            1.097204\n",
       "2094             Japan  1991            0.040438\n",
       "1839  Hong Kong, China  1991            0.120955\n",
       "1412            France  1991            0.140114\n",
       "4275    United Kingdom  1991            0.174231\n",
       "3255          Portugal  1991            0.100231\n",
       "3848            Sweden  1991            1.160519\n",
       "3719             Spain  1991            0.025686\n",
       "1997           Ireland  1991            0.056796"
      ]
     },
     "execution_count": 59,
     "metadata": {},
     "output_type": "execute_result"
    }
   ],
   "source": [
    "internet_df[internet_df['Internet_Users_Pct'] > 0].sort_values('Year').head(50)"
   ]
  },
  {
   "cell_type": "code",
   "execution_count": 60,
   "metadata": {},
   "outputs": [
    {
     "data": {
      "image/png": "[encoded data removed]",
      "text/plain": [
       "<Figure size 432x288 with 1 Axes>"
      ]
     },
     "metadata": {
      "needs_background": "light"
     },
     "output_type": "display_data"
    }
   ],
   "source": [
    "internet_df.plot(kind = 'scatter', x = 'Year', y = 'Internet_Users_Pct');\n",
    "# gdp_df[gdp_df['Country'].isin(['Equatorial Guinea', 'China'])].plot.line(x = 'Year', y = 'GDP_Per_Capita')"
   ]
  },
  {
   "cell_type": "markdown",
   "metadata": {
    "scrolled": true
   },
   "source": [
    "26. Merge gdp_df and internet_df (on Country and Year) into a single DataFrame named gdp_and_internet_use. Keep only countries and years that appear in both tables.  \n",
    "Difficult Bonus: Do not attempt this part until you have completed all other portions of the data question. Some countries have slightly different names in the internet use and gdp dataframes. For example, the Central African Republic is \"Central African Republic\" in the gdp dataframe and \"Central African Rep.\" in the internet use dataframe. Find as many instances like this as you can and resolve them so that when merging you keep the maximum number of countries possible."
   ]
  },
  {
   "cell_type": "code",
   "execution_count": 61,
   "metadata": {},
   "outputs": [],
   "source": [
    "gdp_and_internet_use = gdp_df.merge(internet_df, on = ['Country', 'Year'])"
   ]
  },
  {
   "cell_type": "code",
   "execution_count": 62,
   "metadata": {},
   "outputs": [
    {
     "data": {
      "text/html": [
       "<div>\n",
       "<style scoped>\n",
       "    .dataframe tbody tr th:only-of-type {\n",
       "        vertical-align: middle;\n",
       "    }\n",
       "\n",
       "    .dataframe tbody tr th {\n",
       "        vertical-align: top;\n",
       "    }\n",
       "\n",
       "    .dataframe thead th {\n",
       "        text-align: right;\n",
       "    }\n",
       "</style>\n",
       "<table border=\"1\" class=\"dataframe\">\n",
       "  <thead>\n",
       "    <tr style=\"text-align: right;\">\n",
       "      <th></th>\n",
       "      <th>Country</th>\n",
       "      <th>Year</th>\n",
       "      <th>GDP_Per_Capita</th>\n",
       "      <th>Continent</th>\n",
       "      <th>Internet_Users_Pct</th>\n",
       "    </tr>\n",
       "  </thead>\n",
       "  <tbody>\n",
       "    <tr>\n",
       "      <th>0</th>\n",
       "      <td>Afghanistan</td>\n",
       "      <td>2014</td>\n",
       "      <td>1795.735834</td>\n",
       "      <td>Asia</td>\n",
       "      <td>6.390000</td>\n",
       "    </tr>\n",
       "    <tr>\n",
       "      <th>1</th>\n",
       "      <td>Afghanistan</td>\n",
       "      <td>2013</td>\n",
       "      <td>1807.762344</td>\n",
       "      <td>Asia</td>\n",
       "      <td>5.900000</td>\n",
       "    </tr>\n",
       "    <tr>\n",
       "      <th>2</th>\n",
       "      <td>Afghanistan</td>\n",
       "      <td>2012</td>\n",
       "      <td>1772.764974</td>\n",
       "      <td>Asia</td>\n",
       "      <td>5.454545</td>\n",
       "    </tr>\n",
       "    <tr>\n",
       "      <th>3</th>\n",
       "      <td>Afghanistan</td>\n",
       "      <td>2011</td>\n",
       "      <td>1626.764793</td>\n",
       "      <td>Asia</td>\n",
       "      <td>5.000000</td>\n",
       "    </tr>\n",
       "    <tr>\n",
       "      <th>4</th>\n",
       "      <td>Afghanistan</td>\n",
       "      <td>2010</td>\n",
       "      <td>1671.581238</td>\n",
       "      <td>Asia</td>\n",
       "      <td>4.000000</td>\n",
       "    </tr>\n",
       "  </tbody>\n",
       "</table>\n",
       "</div>"
      ],
      "text/plain": [
       "       Country  Year  GDP_Per_Capita Continent  Internet_Users_Pct\n",
       "0  Afghanistan  2014     1795.735834      Asia            6.390000\n",
       "1  Afghanistan  2013     1807.762344      Asia            5.900000\n",
       "2  Afghanistan  2012     1772.764974      Asia            5.454545\n",
       "3  Afghanistan  2011     1626.764793      Asia            5.000000\n",
       "4  Afghanistan  2010     1671.581238      Asia            4.000000"
      ]
     },
     "execution_count": 62,
     "metadata": {},
     "output_type": "execute_result"
    }
   ],
   "source": [
    "gdp_and_internet_use.head()"
   ]
  },
  {
   "cell_type": "markdown",
   "metadata": {},
   "source": [
    "27. Look at the first five rows of your new data frame to confirm it merged correctly. Also, check the last five rows to make sure the data is clean and as expected."
   ]
  },
  {
   "cell_type": "code",
   "execution_count": 63,
   "metadata": {},
   "outputs": [
    {
     "data": {
      "text/html": [
       "<div>\n",
       "<style scoped>\n",
       "    .dataframe tbody tr th:only-of-type {\n",
       "        vertical-align: middle;\n",
       "    }\n",
       "\n",
       "    .dataframe tbody tr th {\n",
       "        vertical-align: top;\n",
       "    }\n",
       "\n",
       "    .dataframe thead th {\n",
       "        text-align: right;\n",
       "    }\n",
       "</style>\n",
       "<table border=\"1\" class=\"dataframe\">\n",
       "  <thead>\n",
       "    <tr style=\"text-align: right;\">\n",
       "      <th></th>\n",
       "      <th>Country</th>\n",
       "      <th>Year</th>\n",
       "      <th>GDP_Per_Capita</th>\n",
       "      <th>Continent</th>\n",
       "      <th>Internet_Users_Pct</th>\n",
       "    </tr>\n",
       "  </thead>\n",
       "  <tbody>\n",
       "    <tr>\n",
       "      <th>3514</th>\n",
       "      <td>Zimbabwe</td>\n",
       "      <td>1997</td>\n",
       "      <td>3036.422224</td>\n",
       "      <td>Africa</td>\n",
       "      <td>0.033080</td>\n",
       "    </tr>\n",
       "    <tr>\n",
       "      <th>3515</th>\n",
       "      <td>Zimbabwe</td>\n",
       "      <td>1996</td>\n",
       "      <td>2985.856605</td>\n",
       "      <td>Africa</td>\n",
       "      <td>0.016790</td>\n",
       "    </tr>\n",
       "    <tr>\n",
       "      <th>3516</th>\n",
       "      <td>Zimbabwe</td>\n",
       "      <td>1995</td>\n",
       "      <td>2736.486436</td>\n",
       "      <td>Africa</td>\n",
       "      <td>0.007684</td>\n",
       "    </tr>\n",
       "    <tr>\n",
       "      <th>3517</th>\n",
       "      <td>Zimbabwe</td>\n",
       "      <td>1994</td>\n",
       "      <td>2768.309953</td>\n",
       "      <td>Africa</td>\n",
       "      <td>0.001739</td>\n",
       "    </tr>\n",
       "    <tr>\n",
       "      <th>3518</th>\n",
       "      <td>Zimbabwe</td>\n",
       "      <td>1990</td>\n",
       "      <td>2819.549467</td>\n",
       "      <td>Africa</td>\n",
       "      <td>0.000000</td>\n",
       "    </tr>\n",
       "  </tbody>\n",
       "</table>\n",
       "</div>"
      ],
      "text/plain": [
       "       Country  Year  GDP_Per_Capita Continent  Internet_Users_Pct\n",
       "3514  Zimbabwe  1997     3036.422224    Africa            0.033080\n",
       "3515  Zimbabwe  1996     2985.856605    Africa            0.016790\n",
       "3516  Zimbabwe  1995     2736.486436    Africa            0.007684\n",
       "3517  Zimbabwe  1994     2768.309953    Africa            0.001739\n",
       "3518  Zimbabwe  1990     2819.549467    Africa            0.000000"
      ]
     },
     "execution_count": 63,
     "metadata": {},
     "output_type": "execute_result"
    }
   ],
   "source": [
    "gdp_and_internet_use.tail()"
   ]
  },
  {
   "cell_type": "markdown",
   "metadata": {},
   "source": [
    "Looks good!"
   ]
  },
  {
   "cell_type": "markdown",
   "metadata": {},
   "source": [
    "28. Create a new DataFrame, named gdp_and_internet_use_2014 by extracting data for the year 2014 from gdp_and_internet_use. What is the mean internet users percentage in 2014? How many countries have at least 90% internet users in 2014?"
   ]
  },
  {
   "cell_type": "code",
   "execution_count": 64,
   "metadata": {},
   "outputs": [],
   "source": [
    "gdp_and_internet_use_2014 = gdp_and_internet_use[gdp_and_internet_use['Year'] == 2014]\n",
    "# gdp_2014 = gdp_df[gdp_df['Year'] == 2014]"
   ]
  },
  {
   "cell_type": "code",
   "execution_count": 65,
   "metadata": {},
   "outputs": [
    {
     "data": {
      "text/html": [
       "<div>\n",
       "<style scoped>\n",
       "    .dataframe tbody tr th:only-of-type {\n",
       "        vertical-align: middle;\n",
       "    }\n",
       "\n",
       "    .dataframe tbody tr th {\n",
       "        vertical-align: top;\n",
       "    }\n",
       "\n",
       "    .dataframe thead th {\n",
       "        text-align: right;\n",
       "    }\n",
       "</style>\n",
       "<table border=\"1\" class=\"dataframe\">\n",
       "  <thead>\n",
       "    <tr style=\"text-align: right;\">\n",
       "      <th></th>\n",
       "      <th>Country</th>\n",
       "      <th>Year</th>\n",
       "      <th>GDP_Per_Capita</th>\n",
       "      <th>Continent</th>\n",
       "      <th>Internet_Users_Pct</th>\n",
       "    </tr>\n",
       "  </thead>\n",
       "  <tbody>\n",
       "    <tr>\n",
       "      <th>0</th>\n",
       "      <td>Afghanistan</td>\n",
       "      <td>2014</td>\n",
       "      <td>1795.735834</td>\n",
       "      <td>Asia</td>\n",
       "      <td>6.39</td>\n",
       "    </tr>\n",
       "    <tr>\n",
       "      <th>13</th>\n",
       "      <td>Albania</td>\n",
       "      <td>2014</td>\n",
       "      <td>10700.993216</td>\n",
       "      <td>Europe</td>\n",
       "      <td>60.10</td>\n",
       "    </tr>\n",
       "    <tr>\n",
       "      <th>34</th>\n",
       "      <td>Algeria</td>\n",
       "      <td>2014</td>\n",
       "      <td>13557.769757</td>\n",
       "      <td>Africa</td>\n",
       "      <td>18.09</td>\n",
       "    </tr>\n",
       "    <tr>\n",
       "      <th>56</th>\n",
       "      <td>Angola</td>\n",
       "      <td>2014</td>\n",
       "      <td>6813.052106</td>\n",
       "      <td>Africa</td>\n",
       "      <td>21.26</td>\n",
       "    </tr>\n",
       "    <tr>\n",
       "      <th>76</th>\n",
       "      <td>Antigua and Barbuda</td>\n",
       "      <td>2014</td>\n",
       "      <td>20440.540555</td>\n",
       "      <td>North America</td>\n",
       "      <td>64.00</td>\n",
       "    </tr>\n",
       "  </tbody>\n",
       "</table>\n",
       "</div>"
      ],
      "text/plain": [
       "                Country  Year  GDP_Per_Capita      Continent  \\\n",
       "0           Afghanistan  2014     1795.735834           Asia   \n",
       "13              Albania  2014    10700.993216         Europe   \n",
       "34              Algeria  2014    13557.769757         Africa   \n",
       "56               Angola  2014     6813.052106         Africa   \n",
       "76  Antigua and Barbuda  2014    20440.540555  North America   \n",
       "\n",
       "    Internet_Users_Pct  \n",
       "0                 6.39  \n",
       "13               60.10  \n",
       "34               18.09  \n",
       "56               21.26  \n",
       "76               64.00  "
      ]
     },
     "execution_count": 65,
     "metadata": {},
     "output_type": "execute_result"
    }
   ],
   "source": [
    "gdp_and_internet_use_2014.head()"
   ]
  },
  {
   "cell_type": "code",
   "execution_count": 66,
   "metadata": {},
   "outputs": [
    {
     "data": {
      "text/plain": [
       "44.673536463414635"
      ]
     },
     "execution_count": 66,
     "metadata": {},
     "output_type": "execute_result"
    }
   ],
   "source": [
    "gdp_and_internet_use_2014['Internet_Users_Pct'].mean()\n",
    "# internet_df[internet_df['Internet_Users_Pct'] > 0]['Year'].min()"
   ]
  },
  {
   "cell_type": "code",
   "execution_count": 67,
   "metadata": {},
   "outputs": [
    {
     "data": {
      "text/plain": [
       "12"
      ]
     },
     "execution_count": 67,
     "metadata": {},
     "output_type": "execute_result"
    }
   ],
   "source": [
    "len(gdp_and_internet_use_2014[gdp_and_internet_use_2014['Internet_Users_Pct'] >= 90])"
   ]
  },
  {
   "cell_type": "code",
   "execution_count": 68,
   "metadata": {},
   "outputs": [
    {
     "data": {
      "text/html": [
       "<div>\n",
       "<style scoped>\n",
       "    .dataframe tbody tr th:only-of-type {\n",
       "        vertical-align: middle;\n",
       "    }\n",
       "\n",
       "    .dataframe tbody tr th {\n",
       "        vertical-align: top;\n",
       "    }\n",
       "\n",
       "    .dataframe thead th {\n",
       "        text-align: right;\n",
       "    }\n",
       "</style>\n",
       "<table border=\"1\" class=\"dataframe\">\n",
       "  <thead>\n",
       "    <tr style=\"text-align: right;\">\n",
       "      <th></th>\n",
       "      <th>Country</th>\n",
       "      <th>Year</th>\n",
       "      <th>GDP_Per_Capita</th>\n",
       "      <th>Continent</th>\n",
       "      <th>Internet_Users_Pct</th>\n",
       "    </tr>\n",
       "  </thead>\n",
       "  <tbody>\n",
       "    <tr>\n",
       "      <th>228</th>\n",
       "      <td>Bahrain</td>\n",
       "      <td>2014</td>\n",
       "      <td>43846.568554</td>\n",
       "      <td>Asia</td>\n",
       "      <td>90.99998</td>\n",
       "    </tr>\n",
       "    <tr>\n",
       "      <th>854</th>\n",
       "      <td>Denmark</td>\n",
       "      <td>2014</td>\n",
       "      <td>45057.083449</td>\n",
       "      <td>Europe</td>\n",
       "      <td>95.99000</td>\n",
       "    </tr>\n",
       "    <tr>\n",
       "      <th>1067</th>\n",
       "      <td>Finland</td>\n",
       "      <td>2014</td>\n",
       "      <td>39301.058763</td>\n",
       "      <td>Europe</td>\n",
       "      <td>92.38000</td>\n",
       "    </tr>\n",
       "    <tr>\n",
       "      <th>1395</th>\n",
       "      <td>Iceland</td>\n",
       "      <td>2014</td>\n",
       "      <td>42774.888849</td>\n",
       "      <td>Europe</td>\n",
       "      <td>98.16000</td>\n",
       "    </tr>\n",
       "    <tr>\n",
       "      <th>1578</th>\n",
       "      <td>Japan</td>\n",
       "      <td>2014</td>\n",
       "      <td>37337.317406</td>\n",
       "      <td>Asia</td>\n",
       "      <td>90.58000</td>\n",
       "    </tr>\n",
       "    <tr>\n",
       "      <th>1812</th>\n",
       "      <td>Luxembourg</td>\n",
       "      <td>2014</td>\n",
       "      <td>92349.186429</td>\n",
       "      <td>Europe</td>\n",
       "      <td>94.67000</td>\n",
       "    </tr>\n",
       "    <tr>\n",
       "      <th>2199</th>\n",
       "      <td>Netherlands</td>\n",
       "      <td>2014</td>\n",
       "      <td>46238.209707</td>\n",
       "      <td>Europe</td>\n",
       "      <td>93.17000</td>\n",
       "    </tr>\n",
       "    <tr>\n",
       "      <th>2310</th>\n",
       "      <td>Norway</td>\n",
       "      <td>2014</td>\n",
       "      <td>63328.259526</td>\n",
       "      <td>Europe</td>\n",
       "      <td>96.30000</td>\n",
       "    </tr>\n",
       "    <tr>\n",
       "      <th>2556</th>\n",
       "      <td>Qatar</td>\n",
       "      <td>2014</td>\n",
       "      <td>116693.507701</td>\n",
       "      <td>Asia</td>\n",
       "      <td>91.49000</td>\n",
       "    </tr>\n",
       "    <tr>\n",
       "      <th>2992</th>\n",
       "      <td>Sweden</td>\n",
       "      <td>2014</td>\n",
       "      <td>44762.490296</td>\n",
       "      <td>Europe</td>\n",
       "      <td>92.52000</td>\n",
       "    </tr>\n",
       "    <tr>\n",
       "      <th>3297</th>\n",
       "      <td>United Arab Emirates</td>\n",
       "      <td>2014</td>\n",
       "      <td>62879.703021</td>\n",
       "      <td>Asia</td>\n",
       "      <td>90.40000</td>\n",
       "    </tr>\n",
       "    <tr>\n",
       "      <th>3318</th>\n",
       "      <td>United Kingdom</td>\n",
       "      <td>2014</td>\n",
       "      <td>38693.893263</td>\n",
       "      <td>Europe</td>\n",
       "      <td>91.61000</td>\n",
       "    </tr>\n",
       "  </tbody>\n",
       "</table>\n",
       "</div>"
      ],
      "text/plain": [
       "                   Country  Year  GDP_Per_Capita Continent  Internet_Users_Pct\n",
       "228                Bahrain  2014    43846.568554      Asia            90.99998\n",
       "854                Denmark  2014    45057.083449    Europe            95.99000\n",
       "1067               Finland  2014    39301.058763    Europe            92.38000\n",
       "1395               Iceland  2014    42774.888849    Europe            98.16000\n",
       "1578                 Japan  2014    37337.317406      Asia            90.58000\n",
       "1812            Luxembourg  2014    92349.186429    Europe            94.67000\n",
       "2199           Netherlands  2014    46238.209707    Europe            93.17000\n",
       "2310                Norway  2014    63328.259526    Europe            96.30000\n",
       "2556                 Qatar  2014   116693.507701      Asia            91.49000\n",
       "2992                Sweden  2014    44762.490296    Europe            92.52000\n",
       "3297  United Arab Emirates  2014    62879.703021      Asia            90.40000\n",
       "3318        United Kingdom  2014    38693.893263    Europe            91.61000"
      ]
     },
     "execution_count": 68,
     "metadata": {},
     "output_type": "execute_result"
    }
   ],
   "source": [
    "gdp_and_internet_use_2014[gdp_and_internet_use_2014['Internet_Users_Pct'] >= 90]"
   ]
  },
  {
   "cell_type": "markdown",
   "metadata": {},
   "source": [
    "The mean internet users percentage in 2014 is 44.67%. 12 countries have at least 90% internet users in 2014."
   ]
  },
  {
   "cell_type": "markdown",
   "metadata": {},
   "source": [
    "29. Find the countries that had the top 3 largest GDP per capita figures for 2014. Create a seaborn FacetGrid showing the change in internet user percentage over time for these five countries. Each individual figure in the facet grid will represent a single country. What trends do you notice? [Note: Create a FacetGrid for the three countries.]  \n",
    "\n",
    "Qatar, Luxembourg, and Singapore had the top 3 largest GDP per capita figures for 2014."
   ]
  },
  {
   "cell_type": "code",
   "execution_count": 69,
   "metadata": {},
   "outputs": [
    {
     "data": {
      "text/html": [
       "<div>\n",
       "<style scoped>\n",
       "    .dataframe tbody tr th:only-of-type {\n",
       "        vertical-align: middle;\n",
       "    }\n",
       "\n",
       "    .dataframe tbody tr th {\n",
       "        vertical-align: top;\n",
       "    }\n",
       "\n",
       "    .dataframe thead th {\n",
       "        text-align: right;\n",
       "    }\n",
       "</style>\n",
       "<table border=\"1\" class=\"dataframe\">\n",
       "  <thead>\n",
       "    <tr style=\"text-align: right;\">\n",
       "      <th></th>\n",
       "      <th>Country</th>\n",
       "      <th>Year</th>\n",
       "      <th>GDP_Per_Capita</th>\n",
       "      <th>Continent</th>\n",
       "      <th>Internet_Users_Pct</th>\n",
       "    </tr>\n",
       "  </thead>\n",
       "  <tbody>\n",
       "    <tr>\n",
       "      <th>2556</th>\n",
       "      <td>Qatar</td>\n",
       "      <td>2014</td>\n",
       "      <td>116693.507701</td>\n",
       "      <td>Asia</td>\n",
       "      <td>91.49</td>\n",
       "    </tr>\n",
       "    <tr>\n",
       "      <th>1812</th>\n",
       "      <td>Luxembourg</td>\n",
       "      <td>2014</td>\n",
       "      <td>92349.186429</td>\n",
       "      <td>Europe</td>\n",
       "      <td>94.67</td>\n",
       "    </tr>\n",
       "    <tr>\n",
       "      <th>2765</th>\n",
       "      <td>Singapore</td>\n",
       "      <td>2014</td>\n",
       "      <td>81965.361071</td>\n",
       "      <td>Asia</td>\n",
       "      <td>82.00</td>\n",
       "    </tr>\n",
       "    <tr>\n",
       "      <th>1685</th>\n",
       "      <td>Kuwait</td>\n",
       "      <td>2014</td>\n",
       "      <td>72588.670676</td>\n",
       "      <td>Asia</td>\n",
       "      <td>78.70</td>\n",
       "    </tr>\n",
       "    <tr>\n",
       "      <th>2310</th>\n",
       "      <td>Norway</td>\n",
       "      <td>2014</td>\n",
       "      <td>63328.259526</td>\n",
       "      <td>Europe</td>\n",
       "      <td>96.30</td>\n",
       "    </tr>\n",
       "  </tbody>\n",
       "</table>\n",
       "</div>"
      ],
      "text/plain": [
       "         Country  Year  GDP_Per_Capita Continent  Internet_Users_Pct\n",
       "2556       Qatar  2014   116693.507701      Asia               91.49\n",
       "1812  Luxembourg  2014    92349.186429    Europe               94.67\n",
       "2765   Singapore  2014    81965.361071      Asia               82.00\n",
       "1685      Kuwait  2014    72588.670676      Asia               78.70\n",
       "2310      Norway  2014    63328.259526    Europe               96.30"
      ]
     },
     "execution_count": 69,
     "metadata": {},
     "output_type": "execute_result"
    }
   ],
   "source": [
    "gdp_and_internet_use_2014.sort_values('GDP_Per_Capita', ascending = False).head()\n",
    "# internet_df[internet_df['Internet_Users_Pct'] > 0].sort_values('Year').head(50)"
   ]
  },
  {
   "cell_type": "code",
   "execution_count": 70,
   "metadata": {},
   "outputs": [],
   "source": [
    "gdp_and_internet_use_2014_sort = gdp_and_internet_use_2014.sort_values('GDP_Per_Capita', ascending = False).head(3)"
   ]
  },
  {
   "cell_type": "code",
   "execution_count": 71,
   "metadata": {},
   "outputs": [],
   "source": [
    "# look at gdp_and_internet_use for Qatar, Luxembourg, and Singapore; graph all three for all years\n",
    "gdp_and_internet_Qat_Lux_Sin = gdp_and_internet_use[gdp_and_internet_use['Country'].isin(['Qatar', 'Luxembourg', 'Singapore'])]"
   ]
  },
  {
   "cell_type": "code",
   "execution_count": 72,
   "metadata": {},
   "outputs": [
    {
     "data": {
      "text/html": [
       "<div>\n",
       "<style scoped>\n",
       "    .dataframe tbody tr th:only-of-type {\n",
       "        vertical-align: middle;\n",
       "    }\n",
       "\n",
       "    .dataframe tbody tr th {\n",
       "        vertical-align: top;\n",
       "    }\n",
       "\n",
       "    .dataframe thead th {\n",
       "        text-align: right;\n",
       "    }\n",
       "</style>\n",
       "<table border=\"1\" class=\"dataframe\">\n",
       "  <thead>\n",
       "    <tr style=\"text-align: right;\">\n",
       "      <th></th>\n",
       "      <th>Country</th>\n",
       "      <th>Year</th>\n",
       "      <th>GDP_Per_Capita</th>\n",
       "      <th>Continent</th>\n",
       "      <th>Internet_Users_Pct</th>\n",
       "    </tr>\n",
       "  </thead>\n",
       "  <tbody>\n",
       "    <tr>\n",
       "      <th>1812</th>\n",
       "      <td>Luxembourg</td>\n",
       "      <td>2014</td>\n",
       "      <td>92349.186429</td>\n",
       "      <td>Europe</td>\n",
       "      <td>94.670000</td>\n",
       "    </tr>\n",
       "    <tr>\n",
       "      <th>1813</th>\n",
       "      <td>Luxembourg</td>\n",
       "      <td>2013</td>\n",
       "      <td>90656.380431</td>\n",
       "      <td>Europe</td>\n",
       "      <td>93.776500</td>\n",
       "    </tr>\n",
       "    <tr>\n",
       "      <th>1814</th>\n",
       "      <td>Luxembourg</td>\n",
       "      <td>2012</td>\n",
       "      <td>89505.159080</td>\n",
       "      <td>Europe</td>\n",
       "      <td>91.949924</td>\n",
       "    </tr>\n",
       "    <tr>\n",
       "      <th>1815</th>\n",
       "      <td>Luxembourg</td>\n",
       "      <td>2011</td>\n",
       "      <td>92005.016836</td>\n",
       "      <td>Europe</td>\n",
       "      <td>90.029859</td>\n",
       "    </tr>\n",
       "    <tr>\n",
       "      <th>1816</th>\n",
       "      <td>Luxembourg</td>\n",
       "      <td>2010</td>\n",
       "      <td>91743.293852</td>\n",
       "      <td>Europe</td>\n",
       "      <td>90.620000</td>\n",
       "    </tr>\n",
       "    <tr>\n",
       "      <th>...</th>\n",
       "      <td>...</td>\n",
       "      <td>...</td>\n",
       "      <td>...</td>\n",
       "      <td>...</td>\n",
       "      <td>...</td>\n",
       "    </tr>\n",
       "    <tr>\n",
       "      <th>2785</th>\n",
       "      <td>Singapore</td>\n",
       "      <td>1994</td>\n",
       "      <td>43835.783293</td>\n",
       "      <td>Asia</td>\n",
       "      <td>1.185204</td>\n",
       "    </tr>\n",
       "    <tr>\n",
       "      <th>2786</th>\n",
       "      <td>Singapore</td>\n",
       "      <td>1993</td>\n",
       "      <td>40714.217145</td>\n",
       "      <td>Asia</td>\n",
       "      <td>0.763278</td>\n",
       "    </tr>\n",
       "    <tr>\n",
       "      <th>2787</th>\n",
       "      <td>Singapore</td>\n",
       "      <td>1992</td>\n",
       "      <td>37463.009189</td>\n",
       "      <td>Asia</td>\n",
       "      <td>0.471368</td>\n",
       "    </tr>\n",
       "    <tr>\n",
       "      <th>2788</th>\n",
       "      <td>Singapore</td>\n",
       "      <td>1991</td>\n",
       "      <td>36201.887548</td>\n",
       "      <td>Asia</td>\n",
       "      <td>0.161504</td>\n",
       "    </tr>\n",
       "    <tr>\n",
       "      <th>2789</th>\n",
       "      <td>Singapore</td>\n",
       "      <td>1990</td>\n",
       "      <td>34911.740001</td>\n",
       "      <td>Asia</td>\n",
       "      <td>0.000000</td>\n",
       "    </tr>\n",
       "  </tbody>\n",
       "</table>\n",
       "<p>64 rows × 5 columns</p>\n",
       "</div>"
      ],
      "text/plain": [
       "         Country  Year  GDP_Per_Capita Continent  Internet_Users_Pct\n",
       "1812  Luxembourg  2014    92349.186429    Europe           94.670000\n",
       "1813  Luxembourg  2013    90656.380431    Europe           93.776500\n",
       "1814  Luxembourg  2012    89505.159080    Europe           91.949924\n",
       "1815  Luxembourg  2011    92005.016836    Europe           90.029859\n",
       "1816  Luxembourg  2010    91743.293852    Europe           90.620000\n",
       "...          ...   ...             ...       ...                 ...\n",
       "2785   Singapore  1994    43835.783293      Asia            1.185204\n",
       "2786   Singapore  1993    40714.217145      Asia            0.763278\n",
       "2787   Singapore  1992    37463.009189      Asia            0.471368\n",
       "2788   Singapore  1991    36201.887548      Asia            0.161504\n",
       "2789   Singapore  1990    34911.740001      Asia            0.000000\n",
       "\n",
       "[64 rows x 5 columns]"
      ]
     },
     "execution_count": 72,
     "metadata": {},
     "output_type": "execute_result"
    }
   ],
   "source": [
    "gdp_and_internet_Qat_Lux_Sin"
   ]
  },
  {
   "cell_type": "code",
   "execution_count": 73,
   "metadata": {},
   "outputs": [
    {
     "data": {
      "image/png": "[encoded data removed]",
      "text/plain": [
       "<Figure size 648x216 with 3 Axes>"
      ]
     },
     "metadata": {
      "needs_background": "light"
     },
     "output_type": "display_data"
    }
   ],
   "source": [
    "x = sns.FacetGrid(gdp_and_internet_Qat_Lux_Sin, col = 'Country');\n",
    "x.map(sns.scatterplot, 'Year', 'Internet_Users_Pct');"
   ]
  },
  {
   "cell_type": "markdown",
   "metadata": {},
   "source": [
    "Luxembourg has had steady growth in internet user percentage since 1994. Singapore has also had pretty steady internet user percentage growth since that time, but internet user percentages seemed to plateau around 2003 and then again around 2007 until jumping up around 2014. Quatar has missing data before 2000, but sharp and steady growth until around 2009 when usage remained the same for 3 years and then jumped up again."
   ]
  },
  {
   "cell_type": "markdown",
   "metadata": {},
   "source": [
    "30. Create a scatter plot of Internet Use vs GDP per Capita for the year 2014. What do you notice?"
   ]
  },
  {
   "cell_type": "code",
   "execution_count": 74,
   "metadata": {},
   "outputs": [
    {
     "data": {
      "text/html": [
       "<div>\n",
       "<style scoped>\n",
       "    .dataframe tbody tr th:only-of-type {\n",
       "        vertical-align: middle;\n",
       "    }\n",
       "\n",
       "    .dataframe tbody tr th {\n",
       "        vertical-align: top;\n",
       "    }\n",
       "\n",
       "    .dataframe thead th {\n",
       "        text-align: right;\n",
       "    }\n",
       "</style>\n",
       "<table border=\"1\" class=\"dataframe\">\n",
       "  <thead>\n",
       "    <tr style=\"text-align: right;\">\n",
       "      <th></th>\n",
       "      <th>Country</th>\n",
       "      <th>Year</th>\n",
       "      <th>GDP_Per_Capita</th>\n",
       "      <th>Continent</th>\n",
       "      <th>Internet_Users_Pct</th>\n",
       "    </tr>\n",
       "  </thead>\n",
       "  <tbody>\n",
       "    <tr>\n",
       "      <th>0</th>\n",
       "      <td>Afghanistan</td>\n",
       "      <td>2014</td>\n",
       "      <td>1795.735834</td>\n",
       "      <td>Asia</td>\n",
       "      <td>6.39</td>\n",
       "    </tr>\n",
       "    <tr>\n",
       "      <th>13</th>\n",
       "      <td>Albania</td>\n",
       "      <td>2014</td>\n",
       "      <td>10700.993216</td>\n",
       "      <td>Europe</td>\n",
       "      <td>60.10</td>\n",
       "    </tr>\n",
       "    <tr>\n",
       "      <th>34</th>\n",
       "      <td>Algeria</td>\n",
       "      <td>2014</td>\n",
       "      <td>13557.769757</td>\n",
       "      <td>Africa</td>\n",
       "      <td>18.09</td>\n",
       "    </tr>\n",
       "    <tr>\n",
       "      <th>56</th>\n",
       "      <td>Angola</td>\n",
       "      <td>2014</td>\n",
       "      <td>6813.052106</td>\n",
       "      <td>Africa</td>\n",
       "      <td>21.26</td>\n",
       "    </tr>\n",
       "    <tr>\n",
       "      <th>76</th>\n",
       "      <td>Antigua and Barbuda</td>\n",
       "      <td>2014</td>\n",
       "      <td>20440.540555</td>\n",
       "      <td>North America</td>\n",
       "      <td>64.00</td>\n",
       "    </tr>\n",
       "  </tbody>\n",
       "</table>\n",
       "</div>"
      ],
      "text/plain": [
       "                Country  Year  GDP_Per_Capita      Continent  \\\n",
       "0           Afghanistan  2014     1795.735834           Asia   \n",
       "13              Albania  2014    10700.993216         Europe   \n",
       "34              Algeria  2014    13557.769757         Africa   \n",
       "56               Angola  2014     6813.052106         Africa   \n",
       "76  Antigua and Barbuda  2014    20440.540555  North America   \n",
       "\n",
       "    Internet_Users_Pct  \n",
       "0                 6.39  \n",
       "13               60.10  \n",
       "34               18.09  \n",
       "56               21.26  \n",
       "76               64.00  "
      ]
     },
     "execution_count": 74,
     "metadata": {},
     "output_type": "execute_result"
    }
   ],
   "source": [
    "gdp_and_internet_use_2014.head()"
   ]
  },
  {
   "cell_type": "code",
   "execution_count": 75,
   "metadata": {},
   "outputs": [
    {
     "data": {
      "image/png": "[encoded data removed]",
      "text/plain": [
       "<Figure size 432x288 with 1 Axes>"
      ]
     },
     "metadata": {
      "needs_background": "light"
     },
     "output_type": "display_data"
    }
   ],
   "source": [
    "gdp_and_internet_use_2014.plot(kind= 'scatter', x = 'GDP_Per_Capita', y = 'Internet_Users_Pct');"
   ]
  },
  {
   "cell_type": "markdown",
   "metadata": {},
   "source": [
    "There is a positive relationship between GDP per capita and internet users percentage. We see that in 2014 as a country's GDP per capita rose, the percentage of internet users in the country also increased.\n",
    "\n",
    "Given that there are more than a few outliers that make this graph appear to curve, this relationship looks arguably strong, but maybe not linear."
   ]
  },
  {
   "cell_type": "markdown",
   "metadata": {},
   "source": [
    "31. Find the correlation between GDP per Capita and Internet Use for the year 2014. What is the meaning of this number?"
   ]
  },
  {
   "cell_type": "code",
   "execution_count": 76,
   "metadata": {},
   "outputs": [],
   "source": [
    "x = gdp_and_internet_use_2014['GDP_Per_Capita']\n",
    "y = gdp_and_internet_use_2014['Internet_Users_Pct']"
   ]
  },
  {
   "cell_type": "code",
   "execution_count": 77,
   "metadata": {},
   "outputs": [
    {
     "data": {
      "text/plain": [
       "0        1795.735834\n",
       "13      10700.993216\n",
       "34      13557.769757\n",
       "56       6813.052106\n",
       "76      20440.540555\n",
       "            ...     \n",
       "3411     2837.122659\n",
       "3431    17131.386907\n",
       "3455     3828.484887\n",
       "3475     3684.685507\n",
       "3497     2506.490220\n",
       "Name: GDP_Per_Capita, Length: 164, dtype: float64"
      ]
     },
     "execution_count": 77,
     "metadata": {},
     "output_type": "execute_result"
    }
   ],
   "source": [
    "x"
   ]
  },
  {
   "cell_type": "code",
   "execution_count": 78,
   "metadata": {},
   "outputs": [
    {
     "data": {
      "text/plain": [
       "0        6.39\n",
       "13      60.10\n",
       "34      18.09\n",
       "56      21.26\n",
       "76      64.00\n",
       "        ...  \n",
       "3411    18.80\n",
       "3431    57.00\n",
       "3455    22.55\n",
       "3475    17.34\n",
       "3497    19.89\n",
       "Name: Internet_Users_Pct, Length: 164, dtype: float64"
      ]
     },
     "execution_count": 78,
     "metadata": {},
     "output_type": "execute_result"
    }
   ],
   "source": [
    "y"
   ]
  },
  {
   "cell_type": "code",
   "execution_count": 79,
   "metadata": {},
   "outputs": [
    {
     "data": {
      "text/plain": [
       "(0.7879885707262839, 5.95710571130819e-36)"
      ]
     },
     "execution_count": 79,
     "metadata": {},
     "output_type": "execute_result"
    }
   ],
   "source": [
    "stats.pearsonr(x, y)"
   ]
  },
  {
   "cell_type": "markdown",
   "metadata": {},
   "source": [
    "The pearson correlation coefficient for the relationship between GDP per capita and internet users percentage in 2014 is .79. This means that there is a strong, positive relationship between GDP per capita and the percentage of internet users in 2014. As GDP per capita increased, there was a high likelihood that we could also expect internet user percentages to increase across countries in 2014."
   ]
  },
  {
   "cell_type": "markdown",
   "metadata": {},
   "source": [
    "32. Add a column to gdp_and_internet_use_2014 and calculate the logarithm of GDP per capita. Find the correlation between the log of GDP per capita and internet users percentage. How does this compare to the calculation in the previous part?"
   ]
  },
  {
   "cell_type": "code",
   "execution_count": 80,
   "metadata": {},
   "outputs": [
    {
     "name": "stderr",
     "output_type": "stream",
     "text": [
      "<ipython-input-80-b966d34ba229>:1: SettingWithCopyWarning: \n",
      "A value is trying to be set on a copy of a slice from a DataFrame.\n",
      "Try using .loc[row_indexer,col_indexer] = value instead\n",
      "\n",
      "See the caveats in the documentation: https://pandas.pydata.org/pandas-docs/stable/user_guide/indexing.html#returning-a-view-versus-a-copy\n",
      "  gdp_and_internet_use_2014['log_GDP_Per_Cap'] = np.log(gdp_and_internet_use_2014['GDP_Per_Capita'])\n"
     ]
    }
   ],
   "source": [
    "gdp_and_internet_use_2014['log_GDP_Per_Cap'] = np.log(gdp_and_internet_use_2014['GDP_Per_Capita'])"
   ]
  },
  {
   "cell_type": "code",
   "execution_count": 81,
   "metadata": {},
   "outputs": [
    {
     "data": {
      "text/html": [
       "<div>\n",
       "<style scoped>\n",
       "    .dataframe tbody tr th:only-of-type {\n",
       "        vertical-align: middle;\n",
       "    }\n",
       "\n",
       "    .dataframe tbody tr th {\n",
       "        vertical-align: top;\n",
       "    }\n",
       "\n",
       "    .dataframe thead th {\n",
       "        text-align: right;\n",
       "    }\n",
       "</style>\n",
       "<table border=\"1\" class=\"dataframe\">\n",
       "  <thead>\n",
       "    <tr style=\"text-align: right;\">\n",
       "      <th></th>\n",
       "      <th>Country</th>\n",
       "      <th>Year</th>\n",
       "      <th>GDP_Per_Capita</th>\n",
       "      <th>Continent</th>\n",
       "      <th>Internet_Users_Pct</th>\n",
       "      <th>log_GDP_Per_Cap</th>\n",
       "    </tr>\n",
       "  </thead>\n",
       "  <tbody>\n",
       "    <tr>\n",
       "      <th>0</th>\n",
       "      <td>Afghanistan</td>\n",
       "      <td>2014</td>\n",
       "      <td>1795.735834</td>\n",
       "      <td>Asia</td>\n",
       "      <td>6.39</td>\n",
       "      <td>7.493170</td>\n",
       "    </tr>\n",
       "    <tr>\n",
       "      <th>13</th>\n",
       "      <td>Albania</td>\n",
       "      <td>2014</td>\n",
       "      <td>10700.993216</td>\n",
       "      <td>Europe</td>\n",
       "      <td>60.10</td>\n",
       "      <td>9.278092</td>\n",
       "    </tr>\n",
       "    <tr>\n",
       "      <th>34</th>\n",
       "      <td>Algeria</td>\n",
       "      <td>2014</td>\n",
       "      <td>13557.769757</td>\n",
       "      <td>Africa</td>\n",
       "      <td>18.09</td>\n",
       "      <td>9.514715</td>\n",
       "    </tr>\n",
       "    <tr>\n",
       "      <th>56</th>\n",
       "      <td>Angola</td>\n",
       "      <td>2014</td>\n",
       "      <td>6813.052106</td>\n",
       "      <td>Africa</td>\n",
       "      <td>21.26</td>\n",
       "      <td>8.826595</td>\n",
       "    </tr>\n",
       "    <tr>\n",
       "      <th>76</th>\n",
       "      <td>Antigua and Barbuda</td>\n",
       "      <td>2014</td>\n",
       "      <td>20440.540555</td>\n",
       "      <td>North America</td>\n",
       "      <td>64.00</td>\n",
       "      <td>9.925275</td>\n",
       "    </tr>\n",
       "    <tr>\n",
       "      <th>...</th>\n",
       "      <td>...</td>\n",
       "      <td>...</td>\n",
       "      <td>...</td>\n",
       "      <td>...</td>\n",
       "      <td>...</td>\n",
       "      <td>...</td>\n",
       "    </tr>\n",
       "    <tr>\n",
       "      <th>3411</th>\n",
       "      <td>Vanuatu</td>\n",
       "      <td>2014</td>\n",
       "      <td>2837.122659</td>\n",
       "      <td>Oceania</td>\n",
       "      <td>18.80</td>\n",
       "      <td>7.950546</td>\n",
       "    </tr>\n",
       "    <tr>\n",
       "      <th>3431</th>\n",
       "      <td>Venezuela</td>\n",
       "      <td>2014</td>\n",
       "      <td>17131.386907</td>\n",
       "      <td>South America</td>\n",
       "      <td>57.00</td>\n",
       "      <td>9.748668</td>\n",
       "    </tr>\n",
       "    <tr>\n",
       "      <th>3455</th>\n",
       "      <td>Yemen</td>\n",
       "      <td>2014</td>\n",
       "      <td>3828.484887</td>\n",
       "      <td>Asia</td>\n",
       "      <td>22.55</td>\n",
       "      <td>8.250224</td>\n",
       "    </tr>\n",
       "    <tr>\n",
       "      <th>3475</th>\n",
       "      <td>Zambia</td>\n",
       "      <td>2014</td>\n",
       "      <td>3684.685507</td>\n",
       "      <td>Africa</td>\n",
       "      <td>17.34</td>\n",
       "      <td>8.211940</td>\n",
       "    </tr>\n",
       "    <tr>\n",
       "      <th>3497</th>\n",
       "      <td>Zimbabwe</td>\n",
       "      <td>2014</td>\n",
       "      <td>2506.490220</td>\n",
       "      <td>Africa</td>\n",
       "      <td>19.89</td>\n",
       "      <td>7.826639</td>\n",
       "    </tr>\n",
       "  </tbody>\n",
       "</table>\n",
       "<p>164 rows × 6 columns</p>\n",
       "</div>"
      ],
      "text/plain": [
       "                  Country  Year  GDP_Per_Capita      Continent  \\\n",
       "0             Afghanistan  2014     1795.735834           Asia   \n",
       "13                Albania  2014    10700.993216         Europe   \n",
       "34                Algeria  2014    13557.769757         Africa   \n",
       "56                 Angola  2014     6813.052106         Africa   \n",
       "76    Antigua and Barbuda  2014    20440.540555  North America   \n",
       "...                   ...   ...             ...            ...   \n",
       "3411              Vanuatu  2014     2837.122659        Oceania   \n",
       "3431            Venezuela  2014    17131.386907  South America   \n",
       "3455                Yemen  2014     3828.484887           Asia   \n",
       "3475               Zambia  2014     3684.685507         Africa   \n",
       "3497             Zimbabwe  2014     2506.490220         Africa   \n",
       "\n",
       "      Internet_Users_Pct  log_GDP_Per_Cap  \n",
       "0                   6.39         7.493170  \n",
       "13                 60.10         9.278092  \n",
       "34                 18.09         9.514715  \n",
       "56                 21.26         8.826595  \n",
       "76                 64.00         9.925275  \n",
       "...                  ...              ...  \n",
       "3411               18.80         7.950546  \n",
       "3431               57.00         9.748668  \n",
       "3455               22.55         8.250224  \n",
       "3475               17.34         8.211940  \n",
       "3497               19.89         7.826639  \n",
       "\n",
       "[164 rows x 6 columns]"
      ]
     },
     "execution_count": 81,
     "metadata": {},
     "output_type": "execute_result"
    }
   ],
   "source": [
    "gdp_and_internet_use_2014"
   ]
  },
  {
   "cell_type": "code",
   "execution_count": 82,
   "metadata": {},
   "outputs": [],
   "source": [
    "z = gdp_and_internet_use_2014['log_GDP_Per_Cap']"
   ]
  },
  {
   "cell_type": "code",
   "execution_count": 83,
   "metadata": {},
   "outputs": [
    {
     "data": {
      "text/plain": [
       "(0.8844322971419836, 1.6923576597584003e-55)"
      ]
     },
     "execution_count": 83,
     "metadata": {},
     "output_type": "execute_result"
    }
   ],
   "source": [
    "stats.pearsonr(z, y)"
   ]
  },
  {
   "cell_type": "markdown",
   "metadata": {},
   "source": [
    "The pearson correlation coefficient for the relationship between GDP per capita and internet users percentage in 2014 is .79. The pearson correlation coefficient for the relationship between the log of GDP per capita and internet users percentage in 2014 is .88. A higher correlation coefficient suggests that the log transformation of the data provides a better fit for a model of this relationship."
   ]
  },
  {
   "cell_type": "markdown",
   "metadata": {},
   "source": [
    "33. Filter the original dataset down to just the United States for all available years. Calculate correlation between internet use and gdp per capita. Is this meaningful or useful?"
   ]
  },
  {
   "cell_type": "code",
   "execution_count": 84,
   "metadata": {},
   "outputs": [],
   "source": [
    "gdp_and_internet_USA = gdp_and_internet_use[gdp_and_internet_use['Country'] == 'United States']"
   ]
  },
  {
   "cell_type": "code",
   "execution_count": 85,
   "metadata": {},
   "outputs": [
    {
     "data": {
      "text/html": [
       "<div>\n",
       "<style scoped>\n",
       "    .dataframe tbody tr th:only-of-type {\n",
       "        vertical-align: middle;\n",
       "    }\n",
       "\n",
       "    .dataframe tbody tr th {\n",
       "        vertical-align: top;\n",
       "    }\n",
       "\n",
       "    .dataframe thead th {\n",
       "        text-align: right;\n",
       "    }\n",
       "</style>\n",
       "<table border=\"1\" class=\"dataframe\">\n",
       "  <thead>\n",
       "    <tr style=\"text-align: right;\">\n",
       "      <th></th>\n",
       "      <th>Country</th>\n",
       "      <th>Year</th>\n",
       "      <th>GDP_Per_Capita</th>\n",
       "      <th>Continent</th>\n",
       "      <th>Internet_Users_Pct</th>\n",
       "    </tr>\n",
       "  </thead>\n",
       "  <tbody>\n",
       "    <tr>\n",
       "      <th>3343</th>\n",
       "      <td>United States</td>\n",
       "      <td>2014</td>\n",
       "      <td>52080.792568</td>\n",
       "      <td>North America</td>\n",
       "      <td>87.360000</td>\n",
       "    </tr>\n",
       "    <tr>\n",
       "      <th>3344</th>\n",
       "      <td>United States</td>\n",
       "      <td>2013</td>\n",
       "      <td>51208.892428</td>\n",
       "      <td>North America</td>\n",
       "      <td>84.200000</td>\n",
       "    </tr>\n",
       "    <tr>\n",
       "      <th>3345</th>\n",
       "      <td>United States</td>\n",
       "      <td>2012</td>\n",
       "      <td>50632.443448</td>\n",
       "      <td>North America</td>\n",
       "      <td>79.300000</td>\n",
       "    </tr>\n",
       "    <tr>\n",
       "      <th>3346</th>\n",
       "      <td>United States</td>\n",
       "      <td>2011</td>\n",
       "      <td>49883.113984</td>\n",
       "      <td>North America</td>\n",
       "      <td>69.729461</td>\n",
       "    </tr>\n",
       "    <tr>\n",
       "      <th>3347</th>\n",
       "      <td>United States</td>\n",
       "      <td>2010</td>\n",
       "      <td>49479.248679</td>\n",
       "      <td>North America</td>\n",
       "      <td>71.690000</td>\n",
       "    </tr>\n",
       "    <tr>\n",
       "      <th>3348</th>\n",
       "      <td>United States</td>\n",
       "      <td>2009</td>\n",
       "      <td>48644.151110</td>\n",
       "      <td>North America</td>\n",
       "      <td>71.000000</td>\n",
       "    </tr>\n",
       "    <tr>\n",
       "      <th>3349</th>\n",
       "      <td>United States</td>\n",
       "      <td>2008</td>\n",
       "      <td>50349.715322</td>\n",
       "      <td>North America</td>\n",
       "      <td>74.000000</td>\n",
       "    </tr>\n",
       "    <tr>\n",
       "      <th>3350</th>\n",
       "      <td>United States</td>\n",
       "      <td>2007</td>\n",
       "      <td>50897.731238</td>\n",
       "      <td>North America</td>\n",
       "      <td>75.000000</td>\n",
       "    </tr>\n",
       "    <tr>\n",
       "      <th>3351</th>\n",
       "      <td>United States</td>\n",
       "      <td>2006</td>\n",
       "      <td>50437.806235</td>\n",
       "      <td>North America</td>\n",
       "      <td>68.931193</td>\n",
       "    </tr>\n",
       "    <tr>\n",
       "      <th>3352</th>\n",
       "      <td>United States</td>\n",
       "      <td>2005</td>\n",
       "      <td>49512.926789</td>\n",
       "      <td>North America</td>\n",
       "      <td>67.968053</td>\n",
       "    </tr>\n",
       "    <tr>\n",
       "      <th>3353</th>\n",
       "      <td>United States</td>\n",
       "      <td>2004</td>\n",
       "      <td>48275.386104</td>\n",
       "      <td>North America</td>\n",
       "      <td>64.758256</td>\n",
       "    </tr>\n",
       "    <tr>\n",
       "      <th>3354</th>\n",
       "      <td>United States</td>\n",
       "      <td>2003</td>\n",
       "      <td>46941.003291</td>\n",
       "      <td>North America</td>\n",
       "      <td>61.697117</td>\n",
       "    </tr>\n",
       "    <tr>\n",
       "      <th>3355</th>\n",
       "      <td>United States</td>\n",
       "      <td>2002</td>\n",
       "      <td>46029.198996</td>\n",
       "      <td>North America</td>\n",
       "      <td>58.785404</td>\n",
       "    </tr>\n",
       "    <tr>\n",
       "      <th>3356</th>\n",
       "      <td>United States</td>\n",
       "      <td>2001</td>\n",
       "      <td>45662.934837</td>\n",
       "      <td>North America</td>\n",
       "      <td>49.080832</td>\n",
       "    </tr>\n",
       "    <tr>\n",
       "      <th>3357</th>\n",
       "      <td>United States</td>\n",
       "      <td>2000</td>\n",
       "      <td>45661.268667</td>\n",
       "      <td>North America</td>\n",
       "      <td>43.079163</td>\n",
       "    </tr>\n",
       "    <tr>\n",
       "      <th>3358</th>\n",
       "      <td>United States</td>\n",
       "      <td>1999</td>\n",
       "      <td>44342.001610</td>\n",
       "      <td>North America</td>\n",
       "      <td>35.848724</td>\n",
       "    </tr>\n",
       "    <tr>\n",
       "      <th>3359</th>\n",
       "      <td>United States</td>\n",
       "      <td>1998</td>\n",
       "      <td>42818.852352</td>\n",
       "      <td>North America</td>\n",
       "      <td>30.093197</td>\n",
       "    </tr>\n",
       "    <tr>\n",
       "      <th>3360</th>\n",
       "      <td>United States</td>\n",
       "      <td>1997</td>\n",
       "      <td>41462.801461</td>\n",
       "      <td>North America</td>\n",
       "      <td>21.616401</td>\n",
       "    </tr>\n",
       "    <tr>\n",
       "      <th>3361</th>\n",
       "      <td>United States</td>\n",
       "      <td>1996</td>\n",
       "      <td>40178.202688</td>\n",
       "      <td>North America</td>\n",
       "      <td>16.419353</td>\n",
       "    </tr>\n",
       "    <tr>\n",
       "      <th>3362</th>\n",
       "      <td>United States</td>\n",
       "      <td>1995</td>\n",
       "      <td>39170.656714</td>\n",
       "      <td>North America</td>\n",
       "      <td>9.237088</td>\n",
       "    </tr>\n",
       "    <tr>\n",
       "      <th>3363</th>\n",
       "      <td>United States</td>\n",
       "      <td>1994</td>\n",
       "      <td>38603.651201</td>\n",
       "      <td>North America</td>\n",
       "      <td>4.862781</td>\n",
       "    </tr>\n",
       "    <tr>\n",
       "      <th>3364</th>\n",
       "      <td>United States</td>\n",
       "      <td>1993</td>\n",
       "      <td>37566.468232</td>\n",
       "      <td>North America</td>\n",
       "      <td>2.271673</td>\n",
       "    </tr>\n",
       "    <tr>\n",
       "      <th>3365</th>\n",
       "      <td>United States</td>\n",
       "      <td>1992</td>\n",
       "      <td>37045.330120</td>\n",
       "      <td>North America</td>\n",
       "      <td>1.724203</td>\n",
       "    </tr>\n",
       "    <tr>\n",
       "      <th>3366</th>\n",
       "      <td>United States</td>\n",
       "      <td>1991</td>\n",
       "      <td>36284.582233</td>\n",
       "      <td>North America</td>\n",
       "      <td>1.163194</td>\n",
       "    </tr>\n",
       "    <tr>\n",
       "      <th>3367</th>\n",
       "      <td>United States</td>\n",
       "      <td>1990</td>\n",
       "      <td>36812.545745</td>\n",
       "      <td>North America</td>\n",
       "      <td>0.784729</td>\n",
       "    </tr>\n",
       "  </tbody>\n",
       "</table>\n",
       "</div>"
      ],
      "text/plain": [
       "            Country  Year  GDP_Per_Capita      Continent  Internet_Users_Pct\n",
       "3343  United States  2014    52080.792568  North America           87.360000\n",
       "3344  United States  2013    51208.892428  North America           84.200000\n",
       "3345  United States  2012    50632.443448  North America           79.300000\n",
       "3346  United States  2011    49883.113984  North America           69.729461\n",
       "3347  United States  2010    49479.248679  North America           71.690000\n",
       "3348  United States  2009    48644.151110  North America           71.000000\n",
       "3349  United States  2008    50349.715322  North America           74.000000\n",
       "3350  United States  2007    50897.731238  North America           75.000000\n",
       "3351  United States  2006    50437.806235  North America           68.931193\n",
       "3352  United States  2005    49512.926789  North America           67.968053\n",
       "3353  United States  2004    48275.386104  North America           64.758256\n",
       "3354  United States  2003    46941.003291  North America           61.697117\n",
       "3355  United States  2002    46029.198996  North America           58.785404\n",
       "3356  United States  2001    45662.934837  North America           49.080832\n",
       "3357  United States  2000    45661.268667  North America           43.079163\n",
       "3358  United States  1999    44342.001610  North America           35.848724\n",
       "3359  United States  1998    42818.852352  North America           30.093197\n",
       "3360  United States  1997    41462.801461  North America           21.616401\n",
       "3361  United States  1996    40178.202688  North America           16.419353\n",
       "3362  United States  1995    39170.656714  North America            9.237088\n",
       "3363  United States  1994    38603.651201  North America            4.862781\n",
       "3364  United States  1993    37566.468232  North America            2.271673\n",
       "3365  United States  1992    37045.330120  North America            1.724203\n",
       "3366  United States  1991    36284.582233  North America            1.163194\n",
       "3367  United States  1990    36812.545745  North America            0.784729"
      ]
     },
     "execution_count": 85,
     "metadata": {},
     "output_type": "execute_result"
    }
   ],
   "source": [
    "gdp_and_internet_USA"
   ]
  },
  {
   "cell_type": "code",
   "execution_count": 86,
   "metadata": {},
   "outputs": [],
   "source": [
    "USA_int_use = gdp_and_internet_USA['Internet_Users_Pct']"
   ]
  },
  {
   "cell_type": "code",
   "execution_count": 87,
   "metadata": {},
   "outputs": [],
   "source": [
    "USA_GDP = gdp_and_internet_USA['GDP_Per_Capita']"
   ]
  },
  {
   "cell_type": "code",
   "execution_count": 88,
   "metadata": {},
   "outputs": [
    {
     "data": {
      "text/plain": [
       "(0.9916180229578647, 6.012735160423414e-22)"
      ]
     },
     "execution_count": 88,
     "metadata": {},
     "output_type": "execute_result"
    }
   ],
   "source": [
    "stats.pearsonr(USA_int_use, USA_GDP)"
   ]
  },
  {
   "cell_type": "markdown",
   "metadata": {},
   "source": [
    "Calculating the correlation coefficient for the relationship between GDP per capita and internet use percentage in the United States over the years isn't particularly meaningful because (barring a catestrophic historical event that affected access to internet or GDP per capita between 1990 and 2014) we would expect for this relationship to remain relatively unchanged over time. Therefore it is no surprise the the correlation coefficient is almost 1 (which would indicate a perfect relationship)."
   ]
  },
  {
   "cell_type": "markdown",
   "metadata": {},
   "source": [
    "## Solo Exploration and Presentation:  \n",
    "\n",
    "Choose and download another data set from the UN data http://data.un.org/Explorer.aspx to merge with your data and explore. Prepare a short (< 5 minute) presentation of your findings. Report any interesting correlations you find. Include visualizations and consider adding interactivity with ipywidgets. This presentation can be done either in a Jupyter Notebook or using another presentation software, such as PowerPoint. (Check out Jupyter Slides if you have time. This allows you to turn your jupyter notebook into a slideshow."
   ]
  },
  {
   "cell_type": "code",
   "execution_count": 89,
   "metadata": {},
   "outputs": [],
   "source": [
    "pop_100_plus = pd.read_csv(\"../data/pop_aged_100_plus.csv\")"
   ]
  },
  {
   "cell_type": "code",
   "execution_count": 90,
   "metadata": {},
   "outputs": [
    {
     "data": {
      "text/html": [
       "<div>\n",
       "<style scoped>\n",
       "    .dataframe tbody tr th:only-of-type {\n",
       "        vertical-align: middle;\n",
       "    }\n",
       "\n",
       "    .dataframe tbody tr th {\n",
       "        vertical-align: top;\n",
       "    }\n",
       "\n",
       "    .dataframe thead th {\n",
       "        text-align: right;\n",
       "    }\n",
       "</style>\n",
       "<table border=\"1\" class=\"dataframe\">\n",
       "  <thead>\n",
       "    <tr style=\"text-align: right;\">\n",
       "      <th></th>\n",
       "      <th>Country or Area</th>\n",
       "      <th>Year(s)</th>\n",
       "      <th>Variant</th>\n",
       "      <th>Value</th>\n",
       "    </tr>\n",
       "  </thead>\n",
       "  <tbody>\n",
       "    <tr>\n",
       "      <th>0</th>\n",
       "      <td>Afghanistan</td>\n",
       "      <td>2014</td>\n",
       "      <td>Medium</td>\n",
       "      <td>0.029</td>\n",
       "    </tr>\n",
       "    <tr>\n",
       "      <th>1</th>\n",
       "      <td>Afghanistan</td>\n",
       "      <td>2013</td>\n",
       "      <td>Medium</td>\n",
       "      <td>0.027</td>\n",
       "    </tr>\n",
       "    <tr>\n",
       "      <th>2</th>\n",
       "      <td>Afghanistan</td>\n",
       "      <td>2012</td>\n",
       "      <td>Medium</td>\n",
       "      <td>0.024</td>\n",
       "    </tr>\n",
       "    <tr>\n",
       "      <th>3</th>\n",
       "      <td>Afghanistan</td>\n",
       "      <td>2011</td>\n",
       "      <td>Medium</td>\n",
       "      <td>0.022</td>\n",
       "    </tr>\n",
       "    <tr>\n",
       "      <th>4</th>\n",
       "      <td>Afghanistan</td>\n",
       "      <td>2010</td>\n",
       "      <td>Medium</td>\n",
       "      <td>0.020</td>\n",
       "    </tr>\n",
       "    <tr>\n",
       "      <th>...</th>\n",
       "      <td>...</td>\n",
       "      <td>...</td>\n",
       "      <td>...</td>\n",
       "      <td>...</td>\n",
       "    </tr>\n",
       "    <tr>\n",
       "      <th>6270</th>\n",
       "      <td>Zimbabwe</td>\n",
       "      <td>1994</td>\n",
       "      <td>Medium</td>\n",
       "      <td>0.003</td>\n",
       "    </tr>\n",
       "    <tr>\n",
       "      <th>6271</th>\n",
       "      <td>Zimbabwe</td>\n",
       "      <td>1993</td>\n",
       "      <td>Medium</td>\n",
       "      <td>0.002</td>\n",
       "    </tr>\n",
       "    <tr>\n",
       "      <th>6272</th>\n",
       "      <td>Zimbabwe</td>\n",
       "      <td>1992</td>\n",
       "      <td>Medium</td>\n",
       "      <td>0.002</td>\n",
       "    </tr>\n",
       "    <tr>\n",
       "      <th>6273</th>\n",
       "      <td>Zimbabwe</td>\n",
       "      <td>1991</td>\n",
       "      <td>Medium</td>\n",
       "      <td>0.002</td>\n",
       "    </tr>\n",
       "    <tr>\n",
       "      <th>6274</th>\n",
       "      <td>Zimbabwe</td>\n",
       "      <td>1990</td>\n",
       "      <td>Medium</td>\n",
       "      <td>0.002</td>\n",
       "    </tr>\n",
       "  </tbody>\n",
       "</table>\n",
       "<p>6275 rows × 4 columns</p>\n",
       "</div>"
      ],
      "text/plain": [
       "     Country or Area  Year(s) Variant  Value\n",
       "0        Afghanistan     2014  Medium  0.029\n",
       "1        Afghanistan     2013  Medium  0.027\n",
       "2        Afghanistan     2012  Medium  0.024\n",
       "3        Afghanistan     2011  Medium  0.022\n",
       "4        Afghanistan     2010  Medium  0.020\n",
       "...              ...      ...     ...    ...\n",
       "6270        Zimbabwe     1994  Medium  0.003\n",
       "6271        Zimbabwe     1993  Medium  0.002\n",
       "6272        Zimbabwe     1992  Medium  0.002\n",
       "6273        Zimbabwe     1991  Medium  0.002\n",
       "6274        Zimbabwe     1990  Medium  0.002\n",
       "\n",
       "[6275 rows x 4 columns]"
      ]
     },
     "execution_count": 90,
     "metadata": {},
     "output_type": "execute_result"
    }
   ],
   "source": [
    "pop_100_plus"
   ]
  },
  {
   "cell_type": "code",
   "execution_count": 91,
   "metadata": {},
   "outputs": [],
   "source": [
    "# gdp_df = gdp_df.rename(columns={'Country or Area': 'Country', 'Value': 'GDP_Per_Capita'})\n",
    "pop_100_plus = pop_100_plus.rename(columns={'Country or Area': 'Country', 'Year(s)': 'Year', 'Value': 'Population_Aged_100+'})"
   ]
  },
  {
   "cell_type": "code",
   "execution_count": 98,
   "metadata": {},
   "outputs": [],
   "source": [
    "pop_100_plus = pop_100_plus.drop(columns = 'Variant')"
   ]
  },
  {
   "cell_type": "code",
   "execution_count": 99,
   "metadata": {},
   "outputs": [
    {
     "data": {
      "text/html": [
       "<div>\n",
       "<style scoped>\n",
       "    .dataframe tbody tr th:only-of-type {\n",
       "        vertical-align: middle;\n",
       "    }\n",
       "\n",
       "    .dataframe tbody tr th {\n",
       "        vertical-align: top;\n",
       "    }\n",
       "\n",
       "    .dataframe thead th {\n",
       "        text-align: right;\n",
       "    }\n",
       "</style>\n",
       "<table border=\"1\" class=\"dataframe\">\n",
       "  <thead>\n",
       "    <tr style=\"text-align: right;\">\n",
       "      <th></th>\n",
       "      <th>Country</th>\n",
       "      <th>Year</th>\n",
       "      <th>Population_Aged_100+</th>\n",
       "    </tr>\n",
       "  </thead>\n",
       "  <tbody>\n",
       "    <tr>\n",
       "      <th>0</th>\n",
       "      <td>Afghanistan</td>\n",
       "      <td>2014</td>\n",
       "      <td>0.029</td>\n",
       "    </tr>\n",
       "    <tr>\n",
       "      <th>1</th>\n",
       "      <td>Afghanistan</td>\n",
       "      <td>2013</td>\n",
       "      <td>0.027</td>\n",
       "    </tr>\n",
       "    <tr>\n",
       "      <th>2</th>\n",
       "      <td>Afghanistan</td>\n",
       "      <td>2012</td>\n",
       "      <td>0.024</td>\n",
       "    </tr>\n",
       "    <tr>\n",
       "      <th>3</th>\n",
       "      <td>Afghanistan</td>\n",
       "      <td>2011</td>\n",
       "      <td>0.022</td>\n",
       "    </tr>\n",
       "    <tr>\n",
       "      <th>4</th>\n",
       "      <td>Afghanistan</td>\n",
       "      <td>2010</td>\n",
       "      <td>0.020</td>\n",
       "    </tr>\n",
       "  </tbody>\n",
       "</table>\n",
       "</div>"
      ],
      "text/plain": [
       "       Country  Year  Population_Aged_100+\n",
       "0  Afghanistan  2014                 0.029\n",
       "1  Afghanistan  2013                 0.027\n",
       "2  Afghanistan  2012                 0.024\n",
       "3  Afghanistan  2011                 0.022\n",
       "4  Afghanistan  2010                 0.020"
      ]
     },
     "execution_count": 99,
     "metadata": {},
     "output_type": "execute_result"
    }
   ],
   "source": [
    "pop_100_plus.head()"
   ]
  },
  {
   "cell_type": "code",
   "execution_count": 100,
   "metadata": {},
   "outputs": [],
   "source": [
    "gdp_internet_use_100_pop = pd.merge(gdp_and_internet_use, pop_100_plus, how= 'left', left_on= ['Country', 'Year'], right_on= ['Country', 'Year'])"
   ]
  },
  {
   "cell_type": "code",
   "execution_count": 101,
   "metadata": {},
   "outputs": [
    {
     "data": {
      "text/html": [
       "<div>\n",
       "<style scoped>\n",
       "    .dataframe tbody tr th:only-of-type {\n",
       "        vertical-align: middle;\n",
       "    }\n",
       "\n",
       "    .dataframe tbody tr th {\n",
       "        vertical-align: top;\n",
       "    }\n",
       "\n",
       "    .dataframe thead th {\n",
       "        text-align: right;\n",
       "    }\n",
       "</style>\n",
       "<table border=\"1\" class=\"dataframe\">\n",
       "  <thead>\n",
       "    <tr style=\"text-align: right;\">\n",
       "      <th></th>\n",
       "      <th>Country</th>\n",
       "      <th>Year</th>\n",
       "      <th>GDP_Per_Capita</th>\n",
       "      <th>Continent</th>\n",
       "      <th>Internet_Users_Pct</th>\n",
       "      <th>Population_Aged_100+</th>\n",
       "    </tr>\n",
       "  </thead>\n",
       "  <tbody>\n",
       "    <tr>\n",
       "      <th>0</th>\n",
       "      <td>Afghanistan</td>\n",
       "      <td>2014</td>\n",
       "      <td>1795.735834</td>\n",
       "      <td>Asia</td>\n",
       "      <td>6.390000</td>\n",
       "      <td>0.029</td>\n",
       "    </tr>\n",
       "    <tr>\n",
       "      <th>1</th>\n",
       "      <td>Afghanistan</td>\n",
       "      <td>2013</td>\n",
       "      <td>1807.762344</td>\n",
       "      <td>Asia</td>\n",
       "      <td>5.900000</td>\n",
       "      <td>0.027</td>\n",
       "    </tr>\n",
       "    <tr>\n",
       "      <th>2</th>\n",
       "      <td>Afghanistan</td>\n",
       "      <td>2012</td>\n",
       "      <td>1772.764974</td>\n",
       "      <td>Asia</td>\n",
       "      <td>5.454545</td>\n",
       "      <td>0.024</td>\n",
       "    </tr>\n",
       "    <tr>\n",
       "      <th>3</th>\n",
       "      <td>Afghanistan</td>\n",
       "      <td>2011</td>\n",
       "      <td>1626.764793</td>\n",
       "      <td>Asia</td>\n",
       "      <td>5.000000</td>\n",
       "      <td>0.022</td>\n",
       "    </tr>\n",
       "    <tr>\n",
       "      <th>4</th>\n",
       "      <td>Afghanistan</td>\n",
       "      <td>2010</td>\n",
       "      <td>1671.581238</td>\n",
       "      <td>Asia</td>\n",
       "      <td>4.000000</td>\n",
       "      <td>0.020</td>\n",
       "    </tr>\n",
       "    <tr>\n",
       "      <th>...</th>\n",
       "      <td>...</td>\n",
       "      <td>...</td>\n",
       "      <td>...</td>\n",
       "      <td>...</td>\n",
       "      <td>...</td>\n",
       "      <td>...</td>\n",
       "    </tr>\n",
       "    <tr>\n",
       "      <th>3514</th>\n",
       "      <td>Zimbabwe</td>\n",
       "      <td>1997</td>\n",
       "      <td>3036.422224</td>\n",
       "      <td>Africa</td>\n",
       "      <td>0.033080</td>\n",
       "      <td>0.004</td>\n",
       "    </tr>\n",
       "    <tr>\n",
       "      <th>3515</th>\n",
       "      <td>Zimbabwe</td>\n",
       "      <td>1996</td>\n",
       "      <td>2985.856605</td>\n",
       "      <td>Africa</td>\n",
       "      <td>0.016790</td>\n",
       "      <td>0.004</td>\n",
       "    </tr>\n",
       "    <tr>\n",
       "      <th>3516</th>\n",
       "      <td>Zimbabwe</td>\n",
       "      <td>1995</td>\n",
       "      <td>2736.486436</td>\n",
       "      <td>Africa</td>\n",
       "      <td>0.007684</td>\n",
       "      <td>0.003</td>\n",
       "    </tr>\n",
       "    <tr>\n",
       "      <th>3517</th>\n",
       "      <td>Zimbabwe</td>\n",
       "      <td>1994</td>\n",
       "      <td>2768.309953</td>\n",
       "      <td>Africa</td>\n",
       "      <td>0.001739</td>\n",
       "      <td>0.003</td>\n",
       "    </tr>\n",
       "    <tr>\n",
       "      <th>3518</th>\n",
       "      <td>Zimbabwe</td>\n",
       "      <td>1990</td>\n",
       "      <td>2819.549467</td>\n",
       "      <td>Africa</td>\n",
       "      <td>0.000000</td>\n",
       "      <td>0.002</td>\n",
       "    </tr>\n",
       "  </tbody>\n",
       "</table>\n",
       "<p>3519 rows × 6 columns</p>\n",
       "</div>"
      ],
      "text/plain": [
       "          Country  Year  GDP_Per_Capita Continent  Internet_Users_Pct  \\\n",
       "0     Afghanistan  2014     1795.735834      Asia            6.390000   \n",
       "1     Afghanistan  2013     1807.762344      Asia            5.900000   \n",
       "2     Afghanistan  2012     1772.764974      Asia            5.454545   \n",
       "3     Afghanistan  2011     1626.764793      Asia            5.000000   \n",
       "4     Afghanistan  2010     1671.581238      Asia            4.000000   \n",
       "...           ...   ...             ...       ...                 ...   \n",
       "3514     Zimbabwe  1997     3036.422224    Africa            0.033080   \n",
       "3515     Zimbabwe  1996     2985.856605    Africa            0.016790   \n",
       "3516     Zimbabwe  1995     2736.486436    Africa            0.007684   \n",
       "3517     Zimbabwe  1994     2768.309953    Africa            0.001739   \n",
       "3518     Zimbabwe  1990     2819.549467    Africa            0.000000   \n",
       "\n",
       "      Population_Aged_100+  \n",
       "0                    0.029  \n",
       "1                    0.027  \n",
       "2                    0.024  \n",
       "3                    0.022  \n",
       "4                    0.020  \n",
       "...                    ...  \n",
       "3514                 0.004  \n",
       "3515                 0.004  \n",
       "3516                 0.003  \n",
       "3517                 0.003  \n",
       "3518                 0.002  \n",
       "\n",
       "[3519 rows x 6 columns]"
      ]
     },
     "execution_count": 101,
     "metadata": {},
     "output_type": "execute_result"
    }
   ],
   "source": [
    "gdp_internet_use_100_pop"
   ]
  },
  {
   "cell_type": "code",
   "execution_count": 107,
   "metadata": {},
   "outputs": [],
   "source": [
    "gdp_internet_use_100_pop_1994 = gdp_internet_use_100_pop[gdp_internet_use_100_pop['Year'] == 1994]"
   ]
  },
  {
   "cell_type": "code",
   "execution_count": 108,
   "metadata": {},
   "outputs": [
    {
     "data": {
      "text/html": [
       "<div>\n",
       "<style scoped>\n",
       "    .dataframe tbody tr th:only-of-type {\n",
       "        vertical-align: middle;\n",
       "    }\n",
       "\n",
       "    .dataframe tbody tr th {\n",
       "        vertical-align: top;\n",
       "    }\n",
       "\n",
       "    .dataframe thead th {\n",
       "        text-align: right;\n",
       "    }\n",
       "</style>\n",
       "<table border=\"1\" class=\"dataframe\">\n",
       "  <thead>\n",
       "    <tr style=\"text-align: right;\">\n",
       "      <th></th>\n",
       "      <th>Country</th>\n",
       "      <th>Year</th>\n",
       "      <th>GDP_Per_Capita</th>\n",
       "      <th>Continent</th>\n",
       "      <th>Internet_Users_Pct</th>\n",
       "      <th>Population_Aged_100+</th>\n",
       "    </tr>\n",
       "  </thead>\n",
       "  <tbody>\n",
       "    <tr>\n",
       "      <th>54</th>\n",
       "      <td>Algeria</td>\n",
       "      <td>1994</td>\n",
       "      <td>9176.235569</td>\n",
       "      <td>Africa</td>\n",
       "      <td>0.000361</td>\n",
       "      <td>0.023</td>\n",
       "    </tr>\n",
       "    <tr>\n",
       "      <th>117</th>\n",
       "      <td>Argentina</td>\n",
       "      <td>1994</td>\n",
       "      <td>14546.538787</td>\n",
       "      <td>South America</td>\n",
       "      <td>0.043706</td>\n",
       "      <td>0.619</td>\n",
       "    </tr>\n",
       "    <tr>\n",
       "      <th>141</th>\n",
       "      <td>Armenia</td>\n",
       "      <td>1994</td>\n",
       "      <td>1992.015239</td>\n",
       "      <td>Europe</td>\n",
       "      <td>0.009117</td>\n",
       "      <td>0.212</td>\n",
       "    </tr>\n",
       "    <tr>\n",
       "      <th>178</th>\n",
       "      <td>Australia</td>\n",
       "      <td>1994</td>\n",
       "      <td>29644.146020</td>\n",
       "      <td>Oceania</td>\n",
       "      <td>2.232101</td>\n",
       "      <td>1.084</td>\n",
       "    </tr>\n",
       "    <tr>\n",
       "      <th>203</th>\n",
       "      <td>Austria</td>\n",
       "      <td>1994</td>\n",
       "      <td>32964.102159</td>\n",
       "      <td>Europe</td>\n",
       "      <td>1.393423</td>\n",
       "      <td>0.263</td>\n",
       "    </tr>\n",
       "    <tr>\n",
       "      <th>...</th>\n",
       "      <td>...</td>\n",
       "      <td>...</td>\n",
       "      <td>...</td>\n",
       "      <td>...</td>\n",
       "      <td>...</td>\n",
       "      <td>...</td>\n",
       "    </tr>\n",
       "    <tr>\n",
       "      <th>3363</th>\n",
       "      <td>United States</td>\n",
       "      <td>1994</td>\n",
       "      <td>38603.651201</td>\n",
       "      <td>North America</td>\n",
       "      <td>4.862781</td>\n",
       "      <td>NaN</td>\n",
       "    </tr>\n",
       "    <tr>\n",
       "      <th>3388</th>\n",
       "      <td>Uruguay</td>\n",
       "      <td>1994</td>\n",
       "      <td>11766.475121</td>\n",
       "      <td>South America</td>\n",
       "      <td>0.062474</td>\n",
       "      <td>0.364</td>\n",
       "    </tr>\n",
       "    <tr>\n",
       "      <th>3451</th>\n",
       "      <td>Venezuela</td>\n",
       "      <td>1994</td>\n",
       "      <td>15231.183400</td>\n",
       "      <td>South America</td>\n",
       "      <td>0.055487</td>\n",
       "      <td>NaN</td>\n",
       "    </tr>\n",
       "    <tr>\n",
       "      <th>3495</th>\n",
       "      <td>Zambia</td>\n",
       "      <td>1994</td>\n",
       "      <td>2031.776457</td>\n",
       "      <td>Africa</td>\n",
       "      <td>0.006776</td>\n",
       "      <td>0.002</td>\n",
       "    </tr>\n",
       "    <tr>\n",
       "      <th>3517</th>\n",
       "      <td>Zimbabwe</td>\n",
       "      <td>1994</td>\n",
       "      <td>2768.309953</td>\n",
       "      <td>Africa</td>\n",
       "      <td>0.001739</td>\n",
       "      <td>0.003</td>\n",
       "    </tr>\n",
       "  </tbody>\n",
       "</table>\n",
       "<p>78 rows × 6 columns</p>\n",
       "</div>"
      ],
      "text/plain": [
       "            Country  Year  GDP_Per_Capita      Continent  Internet_Users_Pct  \\\n",
       "54          Algeria  1994     9176.235569         Africa            0.000361   \n",
       "117       Argentina  1994    14546.538787  South America            0.043706   \n",
       "141         Armenia  1994     1992.015239         Europe            0.009117   \n",
       "178       Australia  1994    29644.146020        Oceania            2.232101   \n",
       "203         Austria  1994    32964.102159         Europe            1.393423   \n",
       "...             ...   ...             ...            ...                 ...   \n",
       "3363  United States  1994    38603.651201  North America            4.862781   \n",
       "3388        Uruguay  1994    11766.475121  South America            0.062474   \n",
       "3451      Venezuela  1994    15231.183400  South America            0.055487   \n",
       "3495         Zambia  1994     2031.776457         Africa            0.006776   \n",
       "3517       Zimbabwe  1994     2768.309953         Africa            0.001739   \n",
       "\n",
       "      Population_Aged_100+  \n",
       "54                   0.023  \n",
       "117                  0.619  \n",
       "141                  0.212  \n",
       "178                  1.084  \n",
       "203                  0.263  \n",
       "...                    ...  \n",
       "3363                   NaN  \n",
       "3388                 0.364  \n",
       "3451                   NaN  \n",
       "3495                 0.002  \n",
       "3517                 0.003  \n",
       "\n",
       "[78 rows x 6 columns]"
      ]
     },
     "execution_count": 108,
     "metadata": {},
     "output_type": "execute_result"
    }
   ],
   "source": [
    "gdp_internet_use_100_pop_1994"
   ]
  },
  {
   "cell_type": "code",
   "execution_count": 112,
   "metadata": {},
   "outputs": [
    {
     "data": {
      "text/plain": [
       "count    72.000000\n",
       "mean      0.835931\n",
       "std       1.545804\n",
       "min       0.000000\n",
       "25%       0.035000\n",
       "50%       0.213500\n",
       "75%       0.658750\n",
       "max       8.235000\n",
       "Name: Population_Aged_100+, dtype: float64"
      ]
     },
     "execution_count": 112,
     "metadata": {},
     "output_type": "execute_result"
    }
   ],
   "source": [
    "gdp_internet_use_100_pop_1994['Population_Aged_100+'].describe()"
   ]
  },
  {
   "cell_type": "code",
   "execution_count": 117,
   "metadata": {},
   "outputs": [
    {
     "data": {
      "text/plain": [
       "Country                      India\n",
       "Year                          1994\n",
       "GDP_Per_Capita             2096.06\n",
       "Continent                     Asia\n",
       "Internet_Users_Pct      0.00106956\n",
       "Population_Aged_100+         8.235\n",
       "dtype: object"
      ]
     },
     "execution_count": 117,
     "metadata": {},
     "output_type": "execute_result"
    }
   ],
   "source": [
    "# internet_df[internet_df['Internet_Users_Pct'] > 0].max() \n",
    "gdp_internet_use_100_pop_1994[gdp_internet_use_100_pop_1994['Population_Aged_100+'] > 8.20].max()"
   ]
  },
  {
   "cell_type": "markdown",
   "metadata": {},
   "source": [
    "In 1994, the average number of people aged 100 years old or more worldwide was 835. The median number of people aged 100+ years old worldwide for this year was 213. In 1994, India was home to the greatest amount of super seniors with 8,235 people aged 100 years or more!"
   ]
  },
  {
   "cell_type": "code",
   "execution_count": 109,
   "metadata": {},
   "outputs": [],
   "source": [
    "gdp_internet_use_100_pop_2014 = gdp_internet_use_100_pop[gdp_internet_use_100_pop['Year'] == 2014]"
   ]
  },
  {
   "cell_type": "code",
   "execution_count": 110,
   "metadata": {},
   "outputs": [
    {
     "data": {
      "text/html": [
       "<div>\n",
       "<style scoped>\n",
       "    .dataframe tbody tr th:only-of-type {\n",
       "        vertical-align: middle;\n",
       "    }\n",
       "\n",
       "    .dataframe tbody tr th {\n",
       "        vertical-align: top;\n",
       "    }\n",
       "\n",
       "    .dataframe thead th {\n",
       "        text-align: right;\n",
       "    }\n",
       "</style>\n",
       "<table border=\"1\" class=\"dataframe\">\n",
       "  <thead>\n",
       "    <tr style=\"text-align: right;\">\n",
       "      <th></th>\n",
       "      <th>Country</th>\n",
       "      <th>Year</th>\n",
       "      <th>GDP_Per_Capita</th>\n",
       "      <th>Continent</th>\n",
       "      <th>Internet_Users_Pct</th>\n",
       "      <th>Population_Aged_100+</th>\n",
       "    </tr>\n",
       "  </thead>\n",
       "  <tbody>\n",
       "    <tr>\n",
       "      <th>0</th>\n",
       "      <td>Afghanistan</td>\n",
       "      <td>2014</td>\n",
       "      <td>1795.735834</td>\n",
       "      <td>Asia</td>\n",
       "      <td>6.39</td>\n",
       "      <td>0.029</td>\n",
       "    </tr>\n",
       "    <tr>\n",
       "      <th>13</th>\n",
       "      <td>Albania</td>\n",
       "      <td>2014</td>\n",
       "      <td>10700.993216</td>\n",
       "      <td>Europe</td>\n",
       "      <td>60.10</td>\n",
       "      <td>0.039</td>\n",
       "    </tr>\n",
       "    <tr>\n",
       "      <th>34</th>\n",
       "      <td>Algeria</td>\n",
       "      <td>2014</td>\n",
       "      <td>13557.769757</td>\n",
       "      <td>Africa</td>\n",
       "      <td>18.09</td>\n",
       "      <td>0.528</td>\n",
       "    </tr>\n",
       "    <tr>\n",
       "      <th>56</th>\n",
       "      <td>Angola</td>\n",
       "      <td>2014</td>\n",
       "      <td>6813.052106</td>\n",
       "      <td>Africa</td>\n",
       "      <td>21.26</td>\n",
       "      <td>0.027</td>\n",
       "    </tr>\n",
       "    <tr>\n",
       "      <th>76</th>\n",
       "      <td>Antigua and Barbuda</td>\n",
       "      <td>2014</td>\n",
       "      <td>20440.540555</td>\n",
       "      <td>North America</td>\n",
       "      <td>64.00</td>\n",
       "      <td>0.004</td>\n",
       "    </tr>\n",
       "    <tr>\n",
       "      <th>...</th>\n",
       "      <td>...</td>\n",
       "      <td>...</td>\n",
       "      <td>...</td>\n",
       "      <td>...</td>\n",
       "      <td>...</td>\n",
       "      <td>...</td>\n",
       "    </tr>\n",
       "    <tr>\n",
       "      <th>3411</th>\n",
       "      <td>Vanuatu</td>\n",
       "      <td>2014</td>\n",
       "      <td>2837.122659</td>\n",
       "      <td>Oceania</td>\n",
       "      <td>18.80</td>\n",
       "      <td>0.000</td>\n",
       "    </tr>\n",
       "    <tr>\n",
       "      <th>3431</th>\n",
       "      <td>Venezuela</td>\n",
       "      <td>2014</td>\n",
       "      <td>17131.386907</td>\n",
       "      <td>South America</td>\n",
       "      <td>57.00</td>\n",
       "      <td>NaN</td>\n",
       "    </tr>\n",
       "    <tr>\n",
       "      <th>3455</th>\n",
       "      <td>Yemen</td>\n",
       "      <td>2014</td>\n",
       "      <td>3828.484887</td>\n",
       "      <td>Asia</td>\n",
       "      <td>22.55</td>\n",
       "      <td>0.061</td>\n",
       "    </tr>\n",
       "    <tr>\n",
       "      <th>3475</th>\n",
       "      <td>Zambia</td>\n",
       "      <td>2014</td>\n",
       "      <td>3684.685507</td>\n",
       "      <td>Africa</td>\n",
       "      <td>17.34</td>\n",
       "      <td>0.005</td>\n",
       "    </tr>\n",
       "    <tr>\n",
       "      <th>3497</th>\n",
       "      <td>Zimbabwe</td>\n",
       "      <td>2014</td>\n",
       "      <td>2506.490220</td>\n",
       "      <td>Africa</td>\n",
       "      <td>19.89</td>\n",
       "      <td>0.029</td>\n",
       "    </tr>\n",
       "  </tbody>\n",
       "</table>\n",
       "<p>164 rows × 6 columns</p>\n",
       "</div>"
      ],
      "text/plain": [
       "                  Country  Year  GDP_Per_Capita      Continent  \\\n",
       "0             Afghanistan  2014     1795.735834           Asia   \n",
       "13                Albania  2014    10700.993216         Europe   \n",
       "34                Algeria  2014    13557.769757         Africa   \n",
       "56                 Angola  2014     6813.052106         Africa   \n",
       "76    Antigua and Barbuda  2014    20440.540555  North America   \n",
       "...                   ...   ...             ...            ...   \n",
       "3411              Vanuatu  2014     2837.122659        Oceania   \n",
       "3431            Venezuela  2014    17131.386907  South America   \n",
       "3455                Yemen  2014     3828.484887           Asia   \n",
       "3475               Zambia  2014     3684.685507         Africa   \n",
       "3497             Zimbabwe  2014     2506.490220         Africa   \n",
       "\n",
       "      Internet_Users_Pct  Population_Aged_100+  \n",
       "0                   6.39                 0.029  \n",
       "13                 60.10                 0.039  \n",
       "34                 18.09                 0.528  \n",
       "56                 21.26                 0.027  \n",
       "76                 64.00                 0.004  \n",
       "...                  ...                   ...  \n",
       "3411               18.80                 0.000  \n",
       "3431               57.00                   NaN  \n",
       "3455               22.55                 0.061  \n",
       "3475               17.34                 0.005  \n",
       "3497               19.89                 0.029  \n",
       "\n",
       "[164 rows x 6 columns]"
      ]
     },
     "execution_count": 110,
     "metadata": {},
     "output_type": "execute_result"
    }
   ],
   "source": [
    "gdp_internet_use_100_pop_2014"
   ]
  },
  {
   "cell_type": "code",
   "execution_count": 118,
   "metadata": {},
   "outputs": [
    {
     "data": {
      "text/plain": [
       "count    152.000000\n",
       "mean       1.885796\n",
       "std        6.405706\n",
       "min        0.000000\n",
       "25%        0.008000\n",
       "50%        0.122000\n",
       "75%        0.748250\n",
       "max       52.987000\n",
       "Name: Population_Aged_100+, dtype: float64"
      ]
     },
     "execution_count": 118,
     "metadata": {},
     "output_type": "execute_result"
    }
   ],
   "source": [
    "gdp_internet_use_100_pop_2014['Population_Aged_100+'].describe()"
   ]
  },
  {
   "cell_type": "code",
   "execution_count": 124,
   "metadata": {},
   "outputs": [
    {
     "data": {
      "text/plain": [
       "Country                   Japan\n",
       "Year                       2014\n",
       "GDP_Per_Capita          37337.3\n",
       "Continent                  Asia\n",
       "Internet_Users_Pct        90.58\n",
       "Population_Aged_100+     52.987\n",
       "dtype: object"
      ]
     },
     "execution_count": 124,
     "metadata": {},
     "output_type": "execute_result"
    }
   ],
   "source": [
    "gdp_internet_use_100_pop_2014[gdp_internet_use_100_pop_2014['Population_Aged_100+'] > 52].max()"
   ]
  },
  {
   "cell_type": "markdown",
   "metadata": {},
   "source": [
    "In 2014, the average number of people aged 100 years old or more worldwide was 1.885. The median number of people aged 100+ years old worldwide for this year was 122. In 2014, Japan was home to the greatest amount of super seniors with 52,987 people aged 100 years or more! *NOTE: Check on this with Michael or a TA..."
   ]
  },
  {
   "cell_type": "code",
   "execution_count": 127,
   "metadata": {},
   "outputs": [
    {
     "data": {
      "image/png": "[encoded data removed]",
      "text/plain": [
       "<Figure size 432x288 with 1 Axes>"
      ]
     },
     "metadata": {
      "needs_background": "light"
     },
     "output_type": "display_data"
    }
   ],
   "source": [
    "gdp_internet_use_100_pop_1994.plot(kind= 'scatter', x = 'Population_Aged_100+', y = 'Internet_Users_Pct');"
   ]
  },
  {
   "cell_type": "code",
   "execution_count": 128,
   "metadata": {},
   "outputs": [
    {
     "data": {
      "image/png": "[encoded data removed]",
      "text/plain": [
       "<Figure size 432x288 with 1 Axes>"
      ]
     },
     "metadata": {
      "needs_background": "light"
     },
     "output_type": "display_data"
    }
   ],
   "source": [
    "gdp_internet_use_100_pop_1994.plot(kind= 'scatter', x = 'Population_Aged_100+', y = 'GDP_Per_Capita');"
   ]
  },
  {
   "cell_type": "code",
   "execution_count": 131,
   "metadata": {},
   "outputs": [],
   "source": [
    "pop_age_100_1994 = gdp_internet_use_100_pop_1994['Population_Aged_100+']"
   ]
  },
  {
   "cell_type": "code",
   "execution_count": 132,
   "metadata": {},
   "outputs": [],
   "source": [
    "gdp_pop_1994 = gdp_internet_use_100_pop_1994['GDP_Per_Capita']"
   ]
  },
  {
   "cell_type": "code",
   "execution_count": 135,
   "metadata": {},
   "outputs": [],
   "source": [
    "# impute for Pop_Aged_100+\n",
    "pop_age_100_1994_dropna = gdp_internet_use_100_pop_1994.dropna(subset=['Population_Aged_100+'])\n",
    "# drop na for GDP_Per_Capita\n",
    "gdp_pop_1994_dropna = gdp_internet_use_100_pop_1994.dropna(subset=['GDP_Per_Capita'])"
   ]
  },
  {
   "cell_type": "code",
   "execution_count": 136,
   "metadata": {},
   "outputs": [
    {
     "ename": "ValueError",
     "evalue": "x and y must have the same length.",
     "output_type": "error",
     "traceback": [
      "\u001b[1;31m---------------------------------------------------------------------------\u001b[0m",
      "\u001b[1;31mValueError\u001b[0m                                Traceback (most recent call last)",
      "\u001b[1;32m<ipython-input-136-5488da7f408d>\u001b[0m in \u001b[0;36m<module>\u001b[1;34m\u001b[0m\n\u001b[1;32m----> 1\u001b[1;33m \u001b[0mstats\u001b[0m\u001b[1;33m.\u001b[0m\u001b[0mpearsonr\u001b[0m\u001b[1;33m(\u001b[0m\u001b[0mpop_age_100_1994_dropna\u001b[0m\u001b[1;33m,\u001b[0m \u001b[0mgdp_pop_1994_dropna\u001b[0m\u001b[1;33m)\u001b[0m\u001b[1;33m\u001b[0m\u001b[1;33m\u001b[0m\u001b[0m\n\u001b[0m",
      "\u001b[1;32m~\\anaconda3\\lib\\site-packages\\scipy\\stats\\stats.py\u001b[0m in \u001b[0;36mpearsonr\u001b[1;34m(x, y)\u001b[0m\n\u001b[0;32m   3833\u001b[0m     \u001b[0mn\u001b[0m \u001b[1;33m=\u001b[0m \u001b[0mlen\u001b[0m\u001b[1;33m(\u001b[0m\u001b[0mx\u001b[0m\u001b[1;33m)\u001b[0m\u001b[1;33m\u001b[0m\u001b[1;33m\u001b[0m\u001b[0m\n\u001b[0;32m   3834\u001b[0m     \u001b[1;32mif\u001b[0m \u001b[0mn\u001b[0m \u001b[1;33m!=\u001b[0m \u001b[0mlen\u001b[0m\u001b[1;33m(\u001b[0m\u001b[0my\u001b[0m\u001b[1;33m)\u001b[0m\u001b[1;33m:\u001b[0m\u001b[1;33m\u001b[0m\u001b[1;33m\u001b[0m\u001b[0m\n\u001b[1;32m-> 3835\u001b[1;33m         \u001b[1;32mraise\u001b[0m \u001b[0mValueError\u001b[0m\u001b[1;33m(\u001b[0m\u001b[1;34m'x and y must have the same length.'\u001b[0m\u001b[1;33m)\u001b[0m\u001b[1;33m\u001b[0m\u001b[1;33m\u001b[0m\u001b[0m\n\u001b[0m\u001b[0;32m   3836\u001b[0m \u001b[1;33m\u001b[0m\u001b[0m\n\u001b[0;32m   3837\u001b[0m     \u001b[1;32mif\u001b[0m \u001b[0mn\u001b[0m \u001b[1;33m<\u001b[0m \u001b[1;36m2\u001b[0m\u001b[1;33m:\u001b[0m\u001b[1;33m\u001b[0m\u001b[1;33m\u001b[0m\u001b[0m\n",
      "\u001b[1;31mValueError\u001b[0m: x and y must have the same length."
     ]
    }
   ],
   "source": [
    "stats.pearsonr(pop_age_100_1994_dropna, gdp_pop_1994_dropna)"
   ]
  },
  {
   "cell_type": "code",
   "execution_count": 126,
   "metadata": {},
   "outputs": [
    {
     "data": {
      "image/png": "[encoded data removed]",
      "text/plain": [
       "<Figure size 432x288 with 1 Axes>"
      ]
     },
     "metadata": {
      "needs_background": "light"
     },
     "output_type": "display_data"
    }
   ],
   "source": [
    "gdp_internet_use_100_pop_2014.plot(kind= 'scatter', x = 'Population_Aged_100+', y = 'Internet_Users_Pct');"
   ]
  },
  {
   "cell_type": "code",
   "execution_count": 129,
   "metadata": {
    "scrolled": true
   },
   "outputs": [
    {
     "data": {
      "image/png": "[encoded data removed]",
      "text/plain": [
       "<Figure size 432x288 with 1 Axes>"
      ]
     },
     "metadata": {
      "needs_background": "light"
     },
     "output_type": "display_data"
    }
   ],
   "source": [
    "gdp_internet_use_100_pop_1994.plot(kind= 'scatter', x = 'Population_Aged_100+', y = 'GDP_Per_Capita');"
   ]
  },
  {
   "cell_type": "code",
   "execution_count": 160,
   "metadata": {},
   "outputs": [
    {
     "data": {
      "image/png": "[encoded data removed]",
      "text/plain": [
       "<Figure size 864x504 with 1 Axes>"
      ]
     },
     "metadata": {
      "needs_background": "light"
     },
     "output_type": "display_data"
    }
   ],
   "source": [
    "plt.figure(figsize = (12,7))\n",
    "sns.scatterplot(data = gdp_internet_use_100_pop_1994, x = 'Population_Aged_100+', y = 'GDP_Per_Capita', s = 100, hue = 'Continent', alpha = 0.8);\n",
    "\n",
    "plt.tight_layout() # removes extra margins around the edges\n",
    "plt.savefig('pop_over_100 vs GDP_per_cap_1994.png', dpi = 150);"
   ]
  },
  {
   "cell_type": "code",
   "execution_count": 163,
   "metadata": {},
   "outputs": [
    {
     "data": {
      "image/png": "[encoded data removed]",
      "text/plain": [
       "<Figure size 864x504 with 1 Axes>"
      ]
     },
     "metadata": {
      "needs_background": "light"
     },
     "output_type": "display_data"
    }
   ],
   "source": [
    "plt.figure(figsize = (12,7))\n",
    "sns.scatterplot(data = gdp_internet_use_100_pop_1994, x = 'Population_Aged_100+', y = 'Internet_Users_Pct', s = 100, hue = 'Continent', alpha = 0.8);\n",
    "\n",
    "plt.tight_layout() # removes extra margins around the edges\n",
    "plt.savefig('pop_over_100 vs int_users_1994.png', dpi = 150);"
   ]
  },
  {
   "cell_type": "code",
   "execution_count": 142,
   "metadata": {
    "scrolled": true
   },
   "outputs": [
    {
     "data": {
      "image/png": "[encoded data removed]",
      "text/plain": [
       "<Figure size 576x360 with 1 Axes>"
      ]
     },
     "metadata": {
      "needs_background": "light"
     },
     "output_type": "display_data"
    }
   ],
   "source": [
    "plt.figure(figsize = (8,5))\n",
    "sns.boxplot(x='Continent', y='Population_Aged_100+', data=gdp_internet_use_100_pop_1994);"
   ]
  },
  {
   "cell_type": "code",
   "execution_count": 141,
   "metadata": {},
   "outputs": [
    {
     "data": {
      "image/png": "[encoded data removed]",
      "text/plain": [
       "<Figure size 576x360 with 1 Axes>"
      ]
     },
     "metadata": {
      "needs_background": "light"
     },
     "output_type": "display_data"
    }
   ],
   "source": [
    "plt.figure(figsize = (8,5))\n",
    "sns.boxplot(x='Continent', y='Population_Aged_100+', data=gdp_internet_use_100_pop_2014);"
   ]
  },
  {
   "cell_type": "code",
   "execution_count": 165,
   "metadata": {},
   "outputs": [
    {
     "data": {
      "image/png": "[encoded data removed]",
      "text/plain": [
       "<Figure size 1008x432 with 1 Axes>"
      ]
     },
     "metadata": {
      "needs_background": "light"
     },
     "output_type": "display_data"
    }
   ],
   "source": [
    "fontsize = 15\n",
    "\n",
    "plt.subplots(figsize = (14, 6))\n",
    "sns.swarmplot(data = gdp_internet_use_100_pop_1994, x = 'Continent', y = 'Population_Aged_100+')\n",
    "plt.xticks(fontsize = fontsize)\n",
    "plt.xlabel('Continent', fontsize = fontsize)\n",
    "plt.yticks(fontsize = fontsize)\n",
    "plt.ylabel('Population Aged 100+ (In Thousands)', fontsize = fontsize)\n",
    "plt.title('Population Aged 100+ by Continent in 1994', fontsize = fontsize, fontweight = 'bold');\n",
    "\n",
    "xmin, xmax = plt.xlim() # outputs current values for list as a tuple; can unpack xmin and xmax components\n",
    "plt.hlines(y = 0.83, xmin = xmin, xmax = xmax, linestyle = '--', label = 'Mean Number of People Aged 100+ Years')\n",
    "plt.legend(loc = 'upper left', fontsize = fontsize - 2); # add legend along with label\n",
    "\n",
    "plt.tight_layout() # removes extra margins around the edges\n",
    "plt.savefig('swarmplot_1994', dpi = 150);"
   ]
  },
  {
   "cell_type": "code",
   "execution_count": 167,
   "metadata": {
    "scrolled": false
   },
   "outputs": [
    {
     "data": {
      "image/png": "[encoded data removed]",
      "text/plain": [
       "<Figure size 1008x432 with 1 Axes>"
      ]
     },
     "metadata": {
      "needs_background": "light"
     },
     "output_type": "display_data"
    }
   ],
   "source": [
    "fontsize = 15\n",
    "\n",
    "plt.subplots(figsize = (14, 6))\n",
    "sns.swarmplot(data = gdp_internet_use_100_pop_2014, x = 'Continent', y = 'Population_Aged_100+')\n",
    "plt.xticks(fontsize = fontsize)\n",
    "plt.xlabel('Continent', fontsize = fontsize)\n",
    "plt.yticks(fontsize = fontsize)\n",
    "plt.ylabel('Population Aged 100+ (In Thousands)', fontsize = fontsize)\n",
    "plt.title('Population Aged 100+ by Continent in 2014', fontsize = fontsize, fontweight = 'bold');\n",
    "\n",
    "xmin, xmax = plt.xlim() # outputs current values for list as a tuple; can unpack xmin and xmax components\n",
    "plt.hlines(y = 1.88, xmin = xmin, xmax = xmax, linestyle = '--', label = 'Mean Number of People Aged 100+ Years')\n",
    "plt.legend(loc = 'upper right', fontsize = fontsize - 2); # add legend along with label\n",
    "\n",
    "plt.tight_layout() # removes extra margins around the edges\n",
    "plt.savefig('swarmplot_2014_new', dpi = 150);"
   ]
  },
  {
   "cell_type": "code",
   "execution_count": 162,
   "metadata": {},
   "outputs": [
    {
     "data": {
      "image/png": "[encoded data removed]",
      "text/plain": [
       "<Figure size 864x504 with 1 Axes>"
      ]
     },
     "metadata": {
      "needs_background": "light"
     },
     "output_type": "display_data"
    }
   ],
   "source": [
    "plt.figure(figsize = (12,7))\n",
    "sns.scatterplot(data = gdp_internet_use_100_pop_2014, x = 'Population_Aged_100+', y = 'GDP_Per_Capita', s = 100, hue = 'Continent', alpha = 0.8);\n",
    "\n",
    "plt.tight_layout() # removes extra margins around the edges\n",
    "plt.savefig('pop_over_100 vs GDP_per_cap_2014.png', dpi = 150);"
   ]
  },
  {
   "cell_type": "code",
   "execution_count": 164,
   "metadata": {},
   "outputs": [
    {
     "data": {
      "image/png": "[encoded data removed]",
      "text/plain": [
       "<Figure size 864x504 with 1 Axes>"
      ]
     },
     "metadata": {
      "needs_background": "light"
     },
     "output_type": "display_data"
    }
   ],
   "source": [
    "plt.figure(figsize = (12,7))\n",
    "sns.scatterplot(data = gdp_internet_use_100_pop_2014, x = 'Population_Aged_100+', y = 'Internet_Users_Pct', s = 100, hue = 'Continent', alpha = 0.8);\n",
    "\n",
    "plt.tight_layout() # removes extra margins around the edges\n",
    "plt.savefig('pop_over_100 vs int_users_2014.png', dpi = 150);"
   ]
  }
 ],
 "metadata": {
  "kernelspec": {
   "display_name": "Python 3",
   "language": "python",
   "name": "python3"
  },
  "language_info": {
   "codemirror_mode": {
    "name": "ipython",
    "version": 3
   },
   "file_extension": ".py",
   "mimetype": "text/x-python",
   "name": "python",
   "nbconvert_exporter": "python",
   "pygments_lexer": "ipython3",
   "version": "3.8.3"
  }
 },
 "nbformat": 4,
 "nbformat_minor": 4
}
